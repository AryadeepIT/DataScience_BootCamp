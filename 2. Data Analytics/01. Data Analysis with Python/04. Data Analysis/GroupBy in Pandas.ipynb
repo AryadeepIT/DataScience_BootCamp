{
 "cells": [
  {
   "cell_type": "code",
   "execution_count": 1,
   "id": "09162e9b",
   "metadata": {},
   "outputs": [],
   "source": [
    "import numpy as np\n",
    "import pandas as pd\n",
    "\n",
    "from sklearn.impute import SimpleImputer"
   ]
  },
  {
   "cell_type": "code",
   "execution_count": 2,
   "id": "461b3f96",
   "metadata": {},
   "outputs": [],
   "source": [
    "df = pd.read_csv('googleplaystore.csv')\n",
    "\n",
    "impute = SimpleImputer(missing_values= np.nan, strategy= 'mean')\n",
    "impute.fit(df.iloc[ : , 2:3].values)\n",
    "df.iloc[ : , 2:3] = impute.transform(df.iloc[ : , 2:3].values)\n",
    "\n",
    "df = df.dropna()"
   ]
  },
  {
   "cell_type": "markdown",
   "id": "18d92936",
   "metadata": {},
   "source": [
    "### Name the apps that are there in ART_AND_DESIGN rating > 4.5 in discending order WRT ratings"
   ]
  },
  {
   "cell_type": "code",
   "execution_count": 8,
   "id": "922faa04",
   "metadata": {},
   "outputs": [
    {
     "data": {
      "text/html": [
       "<div>\n",
       "<style scoped>\n",
       "    .dataframe tbody tr th:only-of-type {\n",
       "        vertical-align: middle;\n",
       "    }\n",
       "\n",
       "    .dataframe tbody tr th {\n",
       "        vertical-align: top;\n",
       "    }\n",
       "\n",
       "    .dataframe thead th {\n",
       "        text-align: right;\n",
       "    }\n",
       "</style>\n",
       "<table border=\"1\" class=\"dataframe\">\n",
       "  <thead>\n",
       "    <tr style=\"text-align: right;\">\n",
       "      <th></th>\n",
       "      <th>App</th>\n",
       "      <th>Category</th>\n",
       "      <th>Rating</th>\n",
       "      <th>Reviews</th>\n",
       "      <th>Size</th>\n",
       "      <th>Installs</th>\n",
       "      <th>Type</th>\n",
       "      <th>Price</th>\n",
       "      <th>Content Rating</th>\n",
       "      <th>Genres</th>\n",
       "      <th>Last Updated</th>\n",
       "      <th>Current Ver</th>\n",
       "      <th>Android Ver</th>\n",
       "    </tr>\n",
       "  </thead>\n",
       "  <tbody>\n",
       "    <tr>\n",
       "      <th>8888</th>\n",
       "      <td>Spring flowers theme couleurs d t space</td>\n",
       "      <td>ART_AND_DESIGN</td>\n",
       "      <td>5.0</td>\n",
       "      <td>1</td>\n",
       "      <td>2.9M</td>\n",
       "      <td>100+</td>\n",
       "      <td>Free</td>\n",
       "      <td>0</td>\n",
       "      <td>Everyone</td>\n",
       "      <td>Art &amp; Design</td>\n",
       "      <td>April 18, 2018</td>\n",
       "      <td>1.0.2</td>\n",
       "      <td>4.0 and up</td>\n",
       "    </tr>\n",
       "    <tr>\n",
       "      <th>6930</th>\n",
       "      <td>Fantasy theme dark bw black building</td>\n",
       "      <td>ART_AND_DESIGN</td>\n",
       "      <td>4.8</td>\n",
       "      <td>41</td>\n",
       "      <td>1.9M</td>\n",
       "      <td>5,000+</td>\n",
       "      <td>Free</td>\n",
       "      <td>0</td>\n",
       "      <td>Everyone</td>\n",
       "      <td>Art &amp; Design</td>\n",
       "      <td>March 20, 2018</td>\n",
       "      <td>1.0.2</td>\n",
       "      <td>4.0 and up</td>\n",
       "    </tr>\n",
       "    <tr>\n",
       "      <th>5254</th>\n",
       "      <td>AJ Styles HD Wallpapers</td>\n",
       "      <td>ART_AND_DESIGN</td>\n",
       "      <td>4.8</td>\n",
       "      <td>48</td>\n",
       "      <td>25M</td>\n",
       "      <td>5,000+</td>\n",
       "      <td>Free</td>\n",
       "      <td>0</td>\n",
       "      <td>Everyone</td>\n",
       "      <td>Art &amp; Design</td>\n",
       "      <td>August 4, 2018</td>\n",
       "      <td>1.1.1</td>\n",
       "      <td>4.1 and up</td>\n",
       "    </tr>\n",
       "    <tr>\n",
       "      <th>4759</th>\n",
       "      <td>X Launcher Pro - IOS Style Theme &amp; Control Center</td>\n",
       "      <td>ART_AND_DESIGN</td>\n",
       "      <td>4.8</td>\n",
       "      <td>1216</td>\n",
       "      <td>8.6M</td>\n",
       "      <td>10,000+</td>\n",
       "      <td>Paid</td>\n",
       "      <td>$1.99</td>\n",
       "      <td>Everyone</td>\n",
       "      <td>Art &amp; Design</td>\n",
       "      <td>June 26, 2018</td>\n",
       "      <td>1.0.0</td>\n",
       "      <td>4.1 and up</td>\n",
       "    </tr>\n",
       "    <tr>\n",
       "      <th>25</th>\n",
       "      <td>Harley Quinn wallpapers HD</td>\n",
       "      <td>ART_AND_DESIGN</td>\n",
       "      <td>4.8</td>\n",
       "      <td>192</td>\n",
       "      <td>6.0M</td>\n",
       "      <td>10,000+</td>\n",
       "      <td>Free</td>\n",
       "      <td>0</td>\n",
       "      <td>Everyone</td>\n",
       "      <td>Art &amp; Design</td>\n",
       "      <td>April 25, 2018</td>\n",
       "      <td>1.5</td>\n",
       "      <td>3.0 and up</td>\n",
       "    </tr>\n",
       "  </tbody>\n",
       "</table>\n",
       "</div>"
      ],
      "text/plain": [
       "                                                    App        Category  \\\n",
       "8888            Spring flowers theme couleurs d t space  ART_AND_DESIGN   \n",
       "6930               Fantasy theme dark bw black building  ART_AND_DESIGN   \n",
       "5254                            AJ Styles HD Wallpapers  ART_AND_DESIGN   \n",
       "4759  X Launcher Pro - IOS Style Theme & Control Center  ART_AND_DESIGN   \n",
       "25                           Harley Quinn wallpapers HD  ART_AND_DESIGN   \n",
       "\n",
       "      Rating Reviews  Size Installs  Type  Price Content Rating        Genres  \\\n",
       "8888     5.0       1  2.9M     100+  Free      0       Everyone  Art & Design   \n",
       "6930     4.8      41  1.9M   5,000+  Free      0       Everyone  Art & Design   \n",
       "5254     4.8      48   25M   5,000+  Free      0       Everyone  Art & Design   \n",
       "4759     4.8    1216  8.6M  10,000+  Paid  $1.99       Everyone  Art & Design   \n",
       "25       4.8     192  6.0M  10,000+  Free      0       Everyone  Art & Design   \n",
       "\n",
       "        Last Updated Current Ver Android Ver  \n",
       "8888  April 18, 2018       1.0.2  4.0 and up  \n",
       "6930  March 20, 2018       1.0.2  4.0 and up  \n",
       "5254  August 4, 2018       1.1.1  4.1 and up  \n",
       "4759   June 26, 2018       1.0.0  4.1 and up  \n",
       "25    April 25, 2018         1.5  3.0 and up  "
      ]
     },
     "execution_count": 8,
     "metadata": {},
     "output_type": "execute_result"
    }
   ],
   "source": [
    "df_pr = df[df['Category'] == 'ART_AND_DESIGN']\n",
    "df_pr = df_pr[df_pr['Rating'] > 4.5]\n",
    "\n",
    "df_pr.sort_values(by = 'Rating', ascending = False).head(5)"
   ]
  },
  {
   "cell_type": "markdown",
   "id": "e3a03219",
   "metadata": {},
   "source": [
    "### Which category has max avg rating descending order"
   ]
  },
  {
   "cell_type": "code",
   "execution_count": 15,
   "id": "0205384e",
   "metadata": {},
   "outputs": [
    {
     "data": {
      "text/plain": [
       "Category\n",
       "EDUCATION              4.387778\n",
       "ART_AND_DESIGN         4.368438\n",
       "EVENTS                 4.363647\n",
       "BOOKS_AND_REFERENCE    4.311537\n",
       "PERSONALIZATION        4.306873\n",
       "GAME                   4.282506\n",
       "PARENTING              4.282223\n",
       "HEALTH_AND_FITNESS     4.266296\n",
       "BEAUTY                 4.260882\n",
       "SHOPPING               4.254052\n",
       "SOCIAL                 4.248001\n",
       "WEATHER                4.239675\n",
       "SPORTS                 4.218404\n",
       "PRODUCTIVITY           4.208287\n",
       "HOUSE_AND_HOME         4.196819\n",
       "FAMILY                 4.192490\n",
       "PHOTOGRAPHY            4.192179\n",
       "AUTO_AND_VEHICLES      4.190824\n",
       "MEDICAL                4.190167\n",
       "LIBRARIES_AND_DEMO     4.182938\n",
       "FOOD_AND_DRINK         4.170709\n",
       "COMMUNICATION          4.163842\n",
       "COMICS                 4.156445\n",
       "BUSINESS               4.145987\n",
       "NEWS_AND_MAGAZINES     4.142993\n",
       "FINANCE                4.139108\n",
       "ENTERTAINMENT          4.126174\n",
       "TRAVEL_AND_LOCAL       4.119716\n",
       "LIFESTYLE              4.112427\n",
       "VIDEO_PLAYERS          4.074858\n",
       "TOOLS                  4.065970\n",
       "MAPS_AND_NAVIGATION    4.065061\n",
       "DATING                 4.007864\n",
       "Name: Rating, dtype: float64"
      ]
     },
     "execution_count": 15,
     "metadata": {},
     "output_type": "execute_result"
    }
   ],
   "source": [
    "df.groupby('Category').mean()['Rating'].sort_values(ascending = False)"
   ]
  },
  {
   "cell_type": "markdown",
   "id": "2e8d77b3",
   "metadata": {},
   "source": [
    "### How many paid apps are there in each category in descending order"
   ]
  },
  {
   "cell_type": "code",
   "execution_count": 17,
   "id": "f973991b",
   "metadata": {},
   "outputs": [
    {
     "data": {
      "text/plain": [
       "Category\n",
       "FAMILY                 190\n",
       "MEDICAL                109\n",
       "GAME                    83\n",
       "PERSONALIZATION         82\n",
       "TOOLS                   77\n",
       "BOOKS_AND_REFERENCE     28\n",
       "PRODUCTIVITY            28\n",
       "COMMUNICATION           27\n",
       "SPORTS                  24\n",
       "PHOTOGRAPHY             22\n",
       "LIFESTYLE               19\n",
       "FINANCE                 17\n",
       "HEALTH_AND_FITNESS      16\n",
       "BUSINESS                14\n",
       "TRAVEL_AND_LOCAL        12\n",
       "WEATHER                  8\n",
       "DATING                   7\n",
       "MAPS_AND_NAVIGATION      5\n",
       "EDUCATION                4\n",
       "VIDEO_PLAYERS            4\n",
       "AUTO_AND_VEHICLES        3\n",
       "SOCIAL                   3\n",
       "ART_AND_DESIGN           3\n",
       "NEWS_AND_MAGAZINES       2\n",
       "PARENTING                2\n",
       "FOOD_AND_DRINK           2\n",
       "SHOPPING                 2\n",
       "ENTERTAINMENT            2\n",
       "LIBRARIES_AND_DEMO       1\n",
       "EVENTS                   1\n",
       "Name: Type, dtype: int64"
      ]
     },
     "execution_count": 17,
     "metadata": {},
     "output_type": "execute_result"
    }
   ],
   "source": [
    "df_pr = df[df['Type'] == 'Paid']\n",
    "df_pr.groupby('Category').count()['Type'].sort_values(ascending = False)"
   ]
  },
  {
   "cell_type": "code",
   "execution_count": null,
   "id": "ad7706af",
   "metadata": {},
   "outputs": [],
   "source": []
  }
 ],
 "metadata": {
  "kernelspec": {
   "display_name": "Python 3 (ipykernel)",
   "language": "python",
   "name": "python3"
  },
  "language_info": {
   "codemirror_mode": {
    "name": "ipython",
    "version": 3
   },
   "file_extension": ".py",
   "mimetype": "text/x-python",
   "name": "python",
   "nbconvert_exporter": "python",
   "pygments_lexer": "ipython3",
   "version": "3.9.13"
  }
 },
 "nbformat": 4,
 "nbformat_minor": 5
}
