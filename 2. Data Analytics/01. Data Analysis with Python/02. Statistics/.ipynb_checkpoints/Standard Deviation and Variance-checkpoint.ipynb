{
 "cells": [
  {
   "cell_type": "code",
   "execution_count": 1,
   "id": "7ae89092",
   "metadata": {},
   "outputs": [],
   "source": [
    "import numpy as np\n",
    "marks = np.array([9,8,5,2,6])"
   ]
  },
  {
   "cell_type": "code",
   "execution_count": 2,
   "id": "7d316730",
   "metadata": {},
   "outputs": [
    {
     "data": {
      "text/plain": [
       "6.0"
      ]
     },
     "execution_count": 2,
     "metadata": {},
     "output_type": "execute_result"
    }
   ],
   "source": [
    "marks.mean()"
   ]
  },
  {
   "cell_type": "code",
   "execution_count": 3,
   "id": "cc23bc8b",
   "metadata": {},
   "outputs": [],
   "source": [
    "def standard_dev(arr):\n",
    "    mean = arr.mean()\n",
    "    final_val = 0\n",
    "    for i in arr:\n",
    "        val = (i - mean)**2\n",
    "        final_val  += val\n",
    "    return (final_val/len(arr))**0.5"
   ]
  },
  {
   "cell_type": "code",
   "execution_count": 6,
   "id": "b8342351",
   "metadata": {},
   "outputs": [
    {
     "data": {
      "text/plain": [
       "5.999999999999999"
      ]
     },
     "execution_count": 6,
     "metadata": {},
     "output_type": "execute_result"
    }
   ],
   "source": [
    "standard_dev(marks)**2"
   ]
  },
  {
   "cell_type": "code",
   "execution_count": null,
   "id": "960ff6a7",
   "metadata": {},
   "outputs": [],
   "source": []
  }
 ],
 "metadata": {
  "kernelspec": {
   "display_name": "Python 3 (ipykernel)",
   "language": "python",
   "name": "python3"
  },
  "language_info": {
   "codemirror_mode": {
    "name": "ipython",
    "version": 3
   },
   "file_extension": ".py",
   "mimetype": "text/x-python",
   "name": "python",
   "nbconvert_exporter": "python",
   "pygments_lexer": "ipython3",
   "version": "3.9.13"
  }
 },
 "nbformat": 4,
 "nbformat_minor": 5
}
