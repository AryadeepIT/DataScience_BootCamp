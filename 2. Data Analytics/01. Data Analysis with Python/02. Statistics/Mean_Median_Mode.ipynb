{
 "cells": [
  {
   "cell_type": "markdown",
   "id": "6456399b",
   "metadata": {},
   "source": [
    "### Mean"
   ]
  },
  {
   "cell_type": "code",
   "execution_count": 1,
   "id": "9d2345e3",
   "metadata": {},
   "outputs": [],
   "source": [
    "import numpy as np"
   ]
  },
  {
   "cell_type": "code",
   "execution_count": 2,
   "id": "3ea48721",
   "metadata": {},
   "outputs": [
    {
     "name": "stdout",
     "output_type": "stream",
     "text": [
      "5.0\n"
     ]
    }
   ],
   "source": [
    "arr = np.array([1, 3, 5, 7, 9])\n",
    "\n",
    "# in formal way\n",
    "mean = sum(arr)/len(arr)\n",
    "print(mean)"
   ]
  },
  {
   "cell_type": "code",
   "execution_count": 3,
   "id": "a04d945c",
   "metadata": {},
   "outputs": [
    {
     "data": {
      "text/plain": [
       "5.0"
      ]
     },
     "execution_count": 3,
     "metadata": {},
     "output_type": "execute_result"
    }
   ],
   "source": [
    "np.mean(arr)  # using numpy module"
   ]
  },
  {
   "cell_type": "code",
   "execution_count": 4,
   "id": "b853f8b4",
   "metadata": {},
   "outputs": [
    {
     "data": {
      "text/plain": [
       "6.333333333333333"
      ]
     },
     "execution_count": 4,
     "metadata": {},
     "output_type": "execute_result"
    }
   ],
   "source": [
    "# weighted average\n",
    "# example - \n",
    "# [1, 3, 5, 7, 9]\n",
    "# (1x1 + 3x2 + 5x3 + 7x4 + 9x5)/5\n",
    "\n",
    "\n",
    "# using numpy weighted average\n",
    "arr = np.array([1, 3, 5, 7, 9])\n",
    "w = np.array([1, 2, 3, 4, 5])\n",
    "np.average(arr, weights = w)"
   ]
  },
  {
   "cell_type": "code",
   "execution_count": 6,
   "id": "d1a1522d",
   "metadata": {},
   "outputs": [
    {
     "data": {
      "text/plain": [
       "3.5"
      ]
     },
     "execution_count": 6,
     "metadata": {},
     "output_type": "execute_result"
    }
   ],
   "source": [
    "# in case of 2D Array\n",
    "arr1 = np.array([[1, 2, 3],[4, 5, 6]])\n",
    "np.mean(arr1)"
   ]
  },
  {
   "cell_type": "code",
   "execution_count": 7,
   "id": "108976b2",
   "metadata": {},
   "outputs": [
    {
     "data": {
      "text/plain": [
       "array([2.5, 3.5, 4.5])"
      ]
     },
     "execution_count": 7,
     "metadata": {},
     "output_type": "execute_result"
    }
   ],
   "source": [
    "# calculating mean across row\n",
    "arr1 = np.array([[1, 2, 3],\n",
    "                 [4, 5, 6]])\n",
    "np.mean(arr1, axis=0)   # 1+5/2 , 2+5/2, 3+6/2"
   ]
  },
  {
   "cell_type": "code",
   "execution_count": 8,
   "id": "70a2cd76",
   "metadata": {},
   "outputs": [
    {
     "data": {
      "text/plain": [
       "array([2., 5.])"
      ]
     },
     "execution_count": 8,
     "metadata": {},
     "output_type": "execute_result"
    }
   ],
   "source": [
    "# calculating mean across column\n",
    "arr1 = np.array([[1, 2, 3],[4, 5, 6]])\n",
    "np.mean(arr1, axis=1)   # 1+2+3/3, 4+5+6/3"
   ]
  },
  {
   "cell_type": "markdown",
   "id": "930d7881",
   "metadata": {},
   "source": [
    "### Median\n",
    "1. sort in ascending order\n",
    "2. check length of the array\n",
    "3. n%2==1 n is odd, median would be [ (n+1) / 2 ]\n",
    "4. n%2==0 n is even, median would be [(n+2)+(n/2+1)/2]"
   ]
  },
  {
   "cell_type": "code",
   "execution_count": 9,
   "id": "29670431",
   "metadata": {},
   "outputs": [
    {
     "data": {
      "text/plain": [
       "5.0"
      ]
     },
     "execution_count": 9,
     "metadata": {},
     "output_type": "execute_result"
    }
   ],
   "source": [
    "arr = np.array([1, 3, 5, 7, 9])   # length = 5, 5 is odd , so median = 5+1/2 = 3, so, 5 is median\n",
    "np.median(arr)"
   ]
  },
  {
   "cell_type": "code",
   "execution_count": 11,
   "id": "8976ce9b",
   "metadata": {},
   "outputs": [
    {
     "data": {
      "text/plain": [
       "4.0"
      ]
     },
     "execution_count": 11,
     "metadata": {},
     "output_type": "execute_result"
    }
   ],
   "source": [
    "arr1 = np.array([1, 3, 5, 7]) # length = 4, 4 is even, so median = [{(4+2)+(4/2+1)} / 2] = 6+3/2 = 4\n",
    "np.median(arr1)"
   ]
  },
  {
   "cell_type": "markdown",
   "id": "791b95e6",
   "metadata": {},
   "source": [
    "### numpy does not have mode function"
   ]
  },
  {
   "cell_type": "code",
   "execution_count": 12,
   "id": "31815b1b",
   "metadata": {},
   "outputs": [],
   "source": [
    "# what is mode \n",
    "# [1,3,3,3,5,5,9]\n",
    "# mode = maximum occurance of element\n",
    "# 3 is mode here"
   ]
  },
  {
   "cell_type": "code",
   "execution_count": 18,
   "id": "373aec85",
   "metadata": {},
   "outputs": [],
   "source": [
    "arr = [1,3,3,3,3,5,5,9]\n",
    "from collections import Counter\n",
    "count = Counter(arr)"
   ]
  },
  {
   "cell_type": "code",
   "execution_count": 19,
   "id": "73eb7177",
   "metadata": {},
   "outputs": [
    {
     "data": {
      "text/plain": [
       "[(3, 4)]"
      ]
     },
     "execution_count": 19,
     "metadata": {},
     "output_type": "execute_result"
    }
   ],
   "source": [
    "count.most_common(1)     # so 3 occurs 4 times"
   ]
  },
  {
   "cell_type": "code",
   "execution_count": null,
   "id": "310c0900",
   "metadata": {},
   "outputs": [],
   "source": []
  }
 ],
 "metadata": {
  "kernelspec": {
   "display_name": "Python 3 (ipykernel)",
   "language": "python",
   "name": "python3"
  },
  "language_info": {
   "codemirror_mode": {
    "name": "ipython",
    "version": 3
   },
   "file_extension": ".py",
   "mimetype": "text/x-python",
   "name": "python",
   "nbconvert_exporter": "python",
   "pygments_lexer": "ipython3",
   "version": "3.9.13"
  }
 },
 "nbformat": 4,
 "nbformat_minor": 5
}
