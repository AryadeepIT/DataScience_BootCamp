{
 "cells": [
  {
   "cell_type": "markdown",
   "id": "c748e709",
   "metadata": {},
   "source": [
    "### Importing Libraries"
   ]
  },
  {
   "cell_type": "code",
   "execution_count": 8,
   "id": "a603b7be",
   "metadata": {},
   "outputs": [
    {
     "data": {
      "text/html": [
       "<div>\n",
       "<style scoped>\n",
       "    .dataframe tbody tr th:only-of-type {\n",
       "        vertical-align: middle;\n",
       "    }\n",
       "\n",
       "    .dataframe tbody tr th {\n",
       "        vertical-align: top;\n",
       "    }\n",
       "\n",
       "    .dataframe thead th {\n",
       "        text-align: right;\n",
       "    }\n",
       "</style>\n",
       "<table border=\"1\" class=\"dataframe\">\n",
       "  <thead>\n",
       "    <tr style=\"text-align: right;\">\n",
       "      <th></th>\n",
       "      <th>Country Name</th>\n",
       "      <th>Country Code</th>\n",
       "      <th>Year</th>\n",
       "      <th>Value</th>\n",
       "      <th>GDP</th>\n",
       "    </tr>\n",
       "  </thead>\n",
       "  <tbody>\n",
       "    <tr>\n",
       "      <th>0</th>\n",
       "      <td>Arab World</td>\n",
       "      <td>ARB</td>\n",
       "      <td>1968</td>\n",
       "      <td>2.576068e+10</td>\n",
       "      <td>0.00</td>\n",
       "    </tr>\n",
       "    <tr>\n",
       "      <th>1</th>\n",
       "      <td>Arab World</td>\n",
       "      <td>ARB</td>\n",
       "      <td>1969</td>\n",
       "      <td>2.843420e+10</td>\n",
       "      <td>10.38</td>\n",
       "    </tr>\n",
       "    <tr>\n",
       "      <th>2</th>\n",
       "      <td>Arab World</td>\n",
       "      <td>ARB</td>\n",
       "      <td>1970</td>\n",
       "      <td>3.138550e+10</td>\n",
       "      <td>10.38</td>\n",
       "    </tr>\n",
       "    <tr>\n",
       "      <th>3</th>\n",
       "      <td>Arab World</td>\n",
       "      <td>ARB</td>\n",
       "      <td>1971</td>\n",
       "      <td>3.642691e+10</td>\n",
       "      <td>16.06</td>\n",
       "    </tr>\n",
       "    <tr>\n",
       "      <th>4</th>\n",
       "      <td>Arab World</td>\n",
       "      <td>ARB</td>\n",
       "      <td>1972</td>\n",
       "      <td>4.331606e+10</td>\n",
       "      <td>18.91</td>\n",
       "    </tr>\n",
       "  </tbody>\n",
       "</table>\n",
       "</div>"
      ],
      "text/plain": [
       "  Country Name Country Code  Year         Value    GDP\n",
       "0   Arab World          ARB  1968  2.576068e+10   0.00\n",
       "1   Arab World          ARB  1969  2.843420e+10  10.38\n",
       "2   Arab World          ARB  1970  3.138550e+10  10.38\n",
       "3   Arab World          ARB  1971  3.642691e+10  16.06\n",
       "4   Arab World          ARB  1972  4.331606e+10  18.91"
      ]
     },
     "execution_count": 8,
     "metadata": {},
     "output_type": "execute_result"
    }
   ],
   "source": [
    "# !pip install plotly\n",
    "\n",
    "import os\n",
    "import pandas as pd\n",
    "import plotly.express as px\n",
    "import plotly.offline as pof\n",
    "\n",
    "\n",
    "# Load the csv file and save it in Dataframe\n",
    "df = pd.read_csv('gdp.csv')\n",
    "\n",
    "# Find GDP Growth of All Countries\n",
    "\n",
    "final_data = []\n",
    "\n",
    "for country_name in df['Country Name'].unique():\n",
    "    df_pr = df[df['Country Name'] == country_name]\n",
    "    data = df_pr.values\n",
    "    gdp_change = [0]\n",
    "    \n",
    "    for i in range(1, len(data)):\n",
    "        previous_year_GDP = data[i-1][3]\n",
    "        current_year_GDP = data[i][3]\n",
    "        \n",
    "        gdp_change.append(round(((current_year_GDP - previous_year_GDP)/ previous_year_GDP)*100,2 ))\n",
    "    df_pr = df_pr.assign(GDP = gdp_change)\n",
    "    final_data.append(df_pr)\n",
    "\n",
    "df = pd.concat(final_data, axis = 0)\n",
    "df.head()"
   ]
  },
  {
   "cell_type": "markdown",
   "id": "d0ffa8f1",
   "metadata": {},
   "source": [
    "### GDP Comparision Between Specific Countries"
   ]
  },
  {
   "cell_type": "code",
   "execution_count": 4,
   "id": "87bfa4cd",
   "metadata": {},
   "outputs": [],
   "source": [
    "def compare_gdp_country_code(lst , isOpen):\n",
    "    dfs = []\n",
    "\n",
    "    for i in lst:\n",
    "        dfs.append(df[df['Country Code'] == i])\n",
    "\n",
    "        df_pr = pd.concat(dfs, axis = 0)\n",
    "        \n",
    "    fig = px.line(df_pr, x = 'Year', y = 'GDP', title = 'GDP Comparision -'+ '|'.join(lst), color = 'Country Name')\n",
    "\n",
    "    pof.plot(fig, filename = ' vs '.join(lst) + 'Growth.html', auto_open = isOpen)\n",
    "    \n",
    "\n",
    "compare_gdp_country_code(['IND', 'USA' , 'CHN', 'ITA'], True)    "
   ]
  },
  {
   "cell_type": "markdown",
   "id": "7d88c74c",
   "metadata": {},
   "source": [
    "### GDP Growth Comparision of All Countries"
   ]
  },
  {
   "cell_type": "code",
   "execution_count": 6,
   "id": "2b864c3c",
   "metadata": {},
   "outputs": [
    {
     "data": {
      "text/plain": [
       "'GDP Growth of All Countries.html'"
      ]
     },
     "execution_count": 6,
     "metadata": {},
     "output_type": "execute_result"
    }
   ],
   "source": [
    "fig = px.line(df, x = 'Year', y = 'GDP', title = 'GDP Comparision', color = 'Country Name')\n",
    "\n",
    "pof.plot(fig, filename = 'GDP Growth of All Countries.html', auto_open = True)"
   ]
  },
  {
   "cell_type": "markdown",
   "id": "ec7af545",
   "metadata": {},
   "source": [
    "### GDP Growth of all Countries Graph Individually"
   ]
  },
  {
   "cell_type": "code",
   "execution_count": 20,
   "id": "59903cc4",
   "metadata": {},
   "outputs": [],
   "source": [
    "os.mkdir('GDP Growth Each Country')\n",
    "\n",
    "for country_code in df['Country Code'].unique():     \n",
    "    df_pr = df[df['Country Code'] == country_code]\n",
    "\n",
    "    fig = px.line(df_pr, x = 'Year', y = 'GDP', title = country_code+ ' GDP Growth')\n",
    "\n",
    "    pof.plot(fig, filename = 'GDP Growth Each Country/' + country_code +' GDP Growth.html', auto_open = False)"
   ]
  },
  {
   "cell_type": "markdown",
   "id": "a161eff0",
   "metadata": {},
   "source": [
    "### GDP Growth between 1960 - 2016"
   ]
  },
  {
   "cell_type": "code",
   "execution_count": 24,
   "id": "89ac9918",
   "metadata": {},
   "outputs": [
    {
     "data": {
      "text/plain": [
       "'GDP Growth.html'"
      ]
     },
     "execution_count": 24,
     "metadata": {},
     "output_type": "execute_result"
    }
   ],
   "source": [
    "dfs = []\n",
    "\n",
    "for country_name in df['Country Name'].unique(): \n",
    "    df_pr = df[df['Country Name'] == country_name]\n",
    "    if (len(df_pr) == 57):\n",
    "        dfs.append(df_pr)  # now we have only 120 countries data \n",
    "        \n",
    "df_pr = pd.concat(dfs, axis=0)\n",
    "\n",
    "fig = px.line(df_pr, x = 'Year', y = 'GDP', title = 'GDP Growth', color= 'Country Name')\n",
    "\n",
    "pof.plot(fig, filename = 'GDP Growth.html', auto_open = True)"
   ]
  },
  {
   "cell_type": "code",
   "execution_count": null,
   "id": "4e4b3907",
   "metadata": {},
   "outputs": [],
   "source": []
  }
 ],
 "metadata": {
  "kernelspec": {
   "display_name": "Python 3 (ipykernel)",
   "language": "python",
   "name": "python3"
  },
  "language_info": {
   "codemirror_mode": {
    "name": "ipython",
    "version": 3
   },
   "file_extension": ".py",
   "mimetype": "text/x-python",
   "name": "python",
   "nbconvert_exporter": "python",
   "pygments_lexer": "ipython3",
   "version": "3.9.13"
  }
 },
 "nbformat": 4,
 "nbformat_minor": 5
}
