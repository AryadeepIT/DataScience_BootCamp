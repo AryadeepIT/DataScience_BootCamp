{
 "cells": [
  {
   "cell_type": "markdown",
   "id": "c748e709",
   "metadata": {},
   "source": [
    "### Importing Libraries"
   ]
  },
  {
   "cell_type": "code",
   "execution_count": 1,
   "id": "a603b7be",
   "metadata": {},
   "outputs": [
    {
     "data": {
      "text/html": [
       "<div>\n",
       "<style scoped>\n",
       "    .dataframe tbody tr th:only-of-type {\n",
       "        vertical-align: middle;\n",
       "    }\n",
       "\n",
       "    .dataframe tbody tr th {\n",
       "        vertical-align: top;\n",
       "    }\n",
       "\n",
       "    .dataframe thead th {\n",
       "        text-align: right;\n",
       "    }\n",
       "</style>\n",
       "<table border=\"1\" class=\"dataframe\">\n",
       "  <thead>\n",
       "    <tr style=\"text-align: right;\">\n",
       "      <th></th>\n",
       "      <th>Country Name</th>\n",
       "      <th>Country Code</th>\n",
       "      <th>Year</th>\n",
       "      <th>Value</th>\n",
       "      <th>GDP</th>\n",
       "    </tr>\n",
       "  </thead>\n",
       "  <tbody>\n",
       "    <tr>\n",
       "      <th>0</th>\n",
       "      <td>Arab World</td>\n",
       "      <td>ARB</td>\n",
       "      <td>1968</td>\n",
       "      <td>2.576068e+10</td>\n",
       "      <td>0.00</td>\n",
       "    </tr>\n",
       "    <tr>\n",
       "      <th>1</th>\n",
       "      <td>Arab World</td>\n",
       "      <td>ARB</td>\n",
       "      <td>1969</td>\n",
       "      <td>2.843420e+10</td>\n",
       "      <td>10.38</td>\n",
       "    </tr>\n",
       "    <tr>\n",
       "      <th>2</th>\n",
       "      <td>Arab World</td>\n",
       "      <td>ARB</td>\n",
       "      <td>1970</td>\n",
       "      <td>3.138550e+10</td>\n",
       "      <td>10.38</td>\n",
       "    </tr>\n",
       "    <tr>\n",
       "      <th>3</th>\n",
       "      <td>Arab World</td>\n",
       "      <td>ARB</td>\n",
       "      <td>1971</td>\n",
       "      <td>3.642691e+10</td>\n",
       "      <td>16.06</td>\n",
       "    </tr>\n",
       "    <tr>\n",
       "      <th>4</th>\n",
       "      <td>Arab World</td>\n",
       "      <td>ARB</td>\n",
       "      <td>1972</td>\n",
       "      <td>4.331606e+10</td>\n",
       "      <td>18.91</td>\n",
       "    </tr>\n",
       "  </tbody>\n",
       "</table>\n",
       "</div>"
      ],
      "text/plain": [
       "  Country Name Country Code  Year         Value    GDP\n",
       "0   Arab World          ARB  1968  2.576068e+10   0.00\n",
       "1   Arab World          ARB  1969  2.843420e+10  10.38\n",
       "2   Arab World          ARB  1970  3.138550e+10  10.38\n",
       "3   Arab World          ARB  1971  3.642691e+10  16.06\n",
       "4   Arab World          ARB  1972  4.331606e+10  18.91"
      ]
     },
     "execution_count": 1,
     "metadata": {},
     "output_type": "execute_result"
    }
   ],
   "source": [
    "# !pip install plotly\n",
    "\n",
    "import os\n",
    "import pandas as pd\n",
    "import plotly.express as px\n",
    "import plotly.offline as pof\n",
    "\n",
    "\n",
    "# Load the csv file and save it in Dataframe\n",
    "df = pd.read_csv('gdp.csv')\n",
    "\n",
    "# Find GDP Growth of All Countries\n",
    "\n",
    "final_data = []\n",
    "\n",
    "for country_name in df['Country Name'].unique():\n",
    "    df_pr = df[df['Country Name'] == country_name]\n",
    "    data = df_pr.values\n",
    "    gdp_change = [0]\n",
    "    \n",
    "    for i in range(1, len(data)):\n",
    "        previous_year_GDP = data[i-1][3]\n",
    "        current_year_GDP = data[i][3]\n",
    "        \n",
    "        gdp_change.append(round(((current_year_GDP - previous_year_GDP)/ previous_year_GDP)*100,2 ))\n",
    "    df_pr = df_pr.assign(GDP = gdp_change)\n",
    "    final_data.append(df_pr)\n",
    "\n",
    "df = pd.concat(final_data, axis = 0)\n",
    "df.head()"
   ]
  },
  {
   "cell_type": "markdown",
   "id": "d0ffa8f1",
   "metadata": {},
   "source": [
    "### GDP of All Countries "
   ]
  },
  {
   "cell_type": "code",
   "execution_count": 2,
   "id": "d0c6eb94",
   "metadata": {},
   "outputs": [
    {
     "data": {
      "text/plain": [
       "'CountriesGDP.html'"
      ]
     },
     "execution_count": 2,
     "metadata": {},
     "output_type": "execute_result"
    }
   ],
   "source": [
    "fig = px.line(df, x = 'Year', y = 'Value', title = 'GDP Analysis of All Countries', color = 'Country Name')\n",
    "\n",
    "pof.plot(fig, filename = 'CountriesGDP.html')"
   ]
  },
  {
   "cell_type": "markdown",
   "id": "3b42a3bd",
   "metadata": {},
   "source": [
    "### Comparing India vs China GDP"
   ]
  },
  {
   "cell_type": "code",
   "execution_count": 6,
   "id": "d83fa1a3",
   "metadata": {},
   "outputs": [
    {
     "data": {
      "text/plain": [
       "'CompareGDPofINDvsCHN.html'"
      ]
     },
     "execution_count": 6,
     "metadata": {},
     "output_type": "execute_result"
    }
   ],
   "source": [
    "c1 = df[df['Country Name'] == 'India']\n",
    "c2 = df[df['Country Name'] == 'China']\n",
    "\n",
    "df_pr = pd.concat([c1, c2], axis=0)\n",
    "\n",
    "fig = px.line(df_pr, x = 'Year', y = 'Value', title = 'GDP Comparision | India and China', color = 'Country Name')\n",
    "\n",
    "pof.plot(fig, filename = 'CompareGDPofINDvsCHN.html')"
   ]
  },
  {
   "cell_type": "markdown",
   "id": "f296512c",
   "metadata": {},
   "source": [
    "### Comparing China's GDP with World GDP"
   ]
  },
  {
   "cell_type": "code",
   "execution_count": 5,
   "id": "4cc26ede",
   "metadata": {},
   "outputs": [
    {
     "data": {
      "text/plain": [
       "'CompareGDPofWorldvsCHN.html'"
      ]
     },
     "execution_count": 5,
     "metadata": {},
     "output_type": "execute_result"
    }
   ],
   "source": [
    "c1 = df[df['Country Name'] == 'World']\n",
    "c2 = df[df['Country Name'] == 'China']\n",
    "\n",
    "df_pr = pd.concat([c1, c2], axis=0)\n",
    "\n",
    "fig = px.line(df_pr, x = 'Year', y = 'Value', title = 'GDP Comparision | World and China', color = 'Country Name')\n",
    "\n",
    "pof.plot(fig, filename = 'CompareGDPofWorldvsCHN.html')"
   ]
  },
  {
   "cell_type": "code",
   "execution_count": null,
   "id": "33294afe",
   "metadata": {},
   "outputs": [],
   "source": []
  }
 ],
 "metadata": {
  "kernelspec": {
   "display_name": "Python 3 (ipykernel)",
   "language": "python",
   "name": "python3"
  },
  "language_info": {
   "codemirror_mode": {
    "name": "ipython",
    "version": 3
   },
   "file_extension": ".py",
   "mimetype": "text/x-python",
   "name": "python",
   "nbconvert_exporter": "python",
   "pygments_lexer": "ipython3",
   "version": "3.9.13"
  }
 },
 "nbformat": 4,
 "nbformat_minor": 5
}
