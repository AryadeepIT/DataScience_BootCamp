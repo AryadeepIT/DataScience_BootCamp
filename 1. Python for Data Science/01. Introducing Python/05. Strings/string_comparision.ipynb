{
 "cells": [
  {
   "cell_type": "code",
   "execution_count": 1,
   "id": "95822b5d",
   "metadata": {},
   "outputs": [
    {
     "name": "stdout",
     "output_type": "stream",
     "text": [
      "True\n",
      "True\n",
      "False\n",
      "False\n",
      "False\n",
      "True\n",
      "#############\n",
      "abcd > abc  True\n",
      "ZAB>ABC True\n",
      "abc>ABC True\n",
      "x>abcd True\n"
     ]
    }
   ],
   "source": [
    "s1 = \"aryadeepitcoderoom\"\n",
    "\n",
    "s2 = \"ide\"\n",
    "\n",
    "print(s1<s2) # returs true because 'a' is smaller than 'i' (it checks unicode value)\n",
    "print(s1<=s2)\n",
    "print(s1>s2)\n",
    "print(s1>=s2)\n",
    "print(s1==s2)\n",
    "print(s1 != s2)\n",
    "\n",
    "\n",
    "print(\"#############\")\n",
    "\n",
    "print(\"abcd > abc \",\"abcd\">\"abc\")   # 'd' is extra, so it is bigger\n",
    "print(\"ZAB>ABC\",\"ZAB\">\"ABC\")     # 'Z' has higher ASCII value than 'A'\n",
    "\n",
    "print(\"abc>ABC\",\"abc\">\"ABC\") # 'a' has higher ASCII value than 'A'\n",
    "\n",
    "print(\"x>abcd\",\"x\">\"abcd\") # same as above"
   ]
  },
  {
   "cell_type": "code",
   "execution_count": null,
   "id": "a2a345e2",
   "metadata": {},
   "outputs": [],
   "source": []
  }
 ],
 "metadata": {
  "kernelspec": {
   "display_name": "Python 3 (ipykernel)",
   "language": "python",
   "name": "python3"
  },
  "language_info": {
   "codemirror_mode": {
    "name": "ipython",
    "version": 3
   },
   "file_extension": ".py",
   "mimetype": "text/x-python",
   "name": "python",
   "nbconvert_exporter": "python",
   "pygments_lexer": "ipython3",
   "version": "3.9.13"
  }
 },
 "nbformat": 4,
 "nbformat_minor": 5
}
