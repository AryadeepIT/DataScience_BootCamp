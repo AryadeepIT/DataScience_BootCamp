{
 "cells": [
  {
   "cell_type": "markdown",
   "id": "854a6ed5",
   "metadata": {},
   "source": [
    "## Ord and chr"
   ]
  },
  {
   "cell_type": "code",
   "execution_count": 1,
   "id": "8853903c",
   "metadata": {},
   "outputs": [
    {
     "name": "stdout",
     "output_type": "stream",
     "text": [
      "97\n",
      "65\n",
      "a\n",
      "A\n"
     ]
    }
   ],
   "source": [
    "print(ord(\"a\"))     # chr to ord\n",
    "print(ord(\"A\"))\n",
    "print(chr(97))      # ord to chr\n",
    "print(chr(65))"
   ]
  },
  {
   "cell_type": "markdown",
   "id": "f0700ac8",
   "metadata": {},
   "source": [
    "## Indexing"
   ]
  },
  {
   "cell_type": "code",
   "execution_count": 2,
   "id": "ad62d154",
   "metadata": {},
   "outputs": [
    {
     "name": "stdout",
     "output_type": "stream",
     "text": [
      "arya\n",
      "a\n",
      "a\n",
      "r\n",
      "y\n"
     ]
    }
   ],
   "source": [
    "s = \"arya\"\n",
    "\n",
    "print(s)\n",
    "print(s[0])\n",
    "print(s[-1])\n",
    "print(s[1])\n",
    "print(s[-2])"
   ]
  },
  {
   "cell_type": "markdown",
   "id": "4ceb0bb5",
   "metadata": {},
   "source": [
    "## Strings are immutable"
   ]
  },
  {
   "cell_type": "code",
   "execution_count": 4,
   "id": "64e3e72a",
   "metadata": {},
   "outputs": [
    {
     "ename": "TypeError",
     "evalue": "'str' object does not support item assignment",
     "output_type": "error",
     "traceback": [
      "\u001b[1;31m---------------------------------------------------------------------------\u001b[0m",
      "\u001b[1;31mTypeError\u001b[0m                                 Traceback (most recent call last)",
      "\u001b[1;32m~\\AppData\\Local\\Temp\\ipykernel_8972\\3715083374.py\u001b[0m in \u001b[0;36m<module>\u001b[1;34m\u001b[0m\n\u001b[0;32m      1\u001b[0m \u001b[0ms\u001b[0m \u001b[1;33m=\u001b[0m \u001b[1;34m\"Rohit\"\u001b[0m\u001b[1;33m\u001b[0m\u001b[1;33m\u001b[0m\u001b[0m\n\u001b[1;32m----> 2\u001b[1;33m \u001b[0ms\u001b[0m\u001b[1;33m[\u001b[0m\u001b[1;36m0\u001b[0m\u001b[1;33m]\u001b[0m \u001b[1;33m=\u001b[0m \u001b[1;34m\"M\"\u001b[0m  \u001b[1;31m# error: item assignment not supported\u001b[0m\u001b[1;33m\u001b[0m\u001b[1;33m\u001b[0m\u001b[0m\n\u001b[0m\u001b[0;32m      3\u001b[0m \u001b[0mprint\u001b[0m\u001b[1;33m(\u001b[0m\u001b[0ms\u001b[0m\u001b[1;33m)\u001b[0m\u001b[1;33m\u001b[0m\u001b[1;33m\u001b[0m\u001b[0m\n",
      "\u001b[1;31mTypeError\u001b[0m: 'str' object does not support item assignment"
     ]
    }
   ],
   "source": [
    "s = \"Rohit\"\n",
    "s[0] = \"M\"  # error: item assignment not supported\n",
    "print(s)"
   ]
  },
  {
   "cell_type": "markdown",
   "id": "c8f1a15b",
   "metadata": {},
   "source": [
    "## Multiline string"
   ]
  },
  {
   "cell_type": "code",
   "execution_count": 5,
   "id": "677ae056",
   "metadata": {},
   "outputs": [
    {
     "name": "stdout",
     "output_type": "stream",
     "text": [
      " Hi,\n",
      "This is python course.\n",
      "Hope you are enjoying it. \n"
     ]
    }
   ],
   "source": [
    "s = \"\"\" Hi,\n",
    "This is python course.\n",
    "Hope you are enjoying it. \"\"\"\n",
    "print(s)"
   ]
  }
 ],
 "metadata": {
  "kernelspec": {
   "display_name": "Python 3 (ipykernel)",
   "language": "python",
   "name": "python3"
  },
  "language_info": {
   "codemirror_mode": {
    "name": "ipython",
    "version": 3
   },
   "file_extension": ".py",
   "mimetype": "text/x-python",
   "name": "python",
   "nbconvert_exporter": "python",
   "pygments_lexer": "ipython3",
   "version": "3.9.13"
  }
 },
 "nbformat": 4,
 "nbformat_minor": 5
}
