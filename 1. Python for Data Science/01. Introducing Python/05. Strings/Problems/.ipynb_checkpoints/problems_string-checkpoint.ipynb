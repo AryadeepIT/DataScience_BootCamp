{
 "cells": [
  {
   "cell_type": "markdown",
   "id": "ecafec91",
   "metadata": {},
   "source": [
    "### Q.1 - Reverse String"
   ]
  },
  {
   "cell_type": "code",
   "execution_count": 5,
   "id": "e7450e05",
   "metadata": {},
   "outputs": [
    {
     "data": {
      "text/plain": [
       "'mahbuS'"
      ]
     },
     "execution_count": 5,
     "metadata": {},
     "output_type": "execute_result"
    }
   ],
   "source": [
    "def reverseString(s):\n",
    "    #Write your code below to reverse s and return it\n",
    "    reverse = s[::-1]\n",
    "    return reverse\n",
    "\n",
    "reverseString(\"Subham\")"
   ]
  },
  {
   "cell_type": "markdown",
   "id": "53c44762",
   "metadata": {},
   "source": [
    "### Q.2 - Check Palindrome"
   ]
  },
  {
   "cell_type": "code",
   "execution_count": 3,
   "id": "fdbc5575",
   "metadata": {},
   "outputs": [
    {
     "data": {
      "text/plain": [
       "True"
      ]
     },
     "execution_count": 3,
     "metadata": {},
     "output_type": "execute_result"
    }
   ],
   "source": [
    "def isPalin(s):\n",
    "    #Your code below\n",
    "    if s[::-1].lower() == s.lower():\n",
    "        return True\n",
    "    else:\n",
    "        return False\n",
    "    #Remeber to ignore the case when comparing\n",
    "    \n",
    "isPalin(\"TenEt\")"
   ]
  },
  {
   "cell_type": "markdown",
   "id": "8745ba64",
   "metadata": {},
   "source": [
    "### Q.3 - Find Pattern\n",
    "Given a string s, and a pattern p. You need to find if p exists in s or not and return the starting index of p in s. If p does not exist in s then -1 will be returned.\n",
    "Here p and s both are case-sensitive."
   ]
  },
  {
   "cell_type": "raw",
   "id": "d79ec5bc",
   "metadata": {},
   "source": [
    "Input:\n",
    "s = \"Hello\"\n",
    "p = \"llo\"\n",
    "Output: \n",
    "2\n",
    "Explanation: llo starts from the second index in Hello."
   ]
  },
  {
   "cell_type": "code",
   "execution_count": 6,
   "id": "d9784b30",
   "metadata": {},
   "outputs": [
    {
     "data": {
      "text/plain": [
       "2"
      ]
     },
     "execution_count": 6,
     "metadata": {},
     "output_type": "execute_result"
    }
   ],
   "source": [
    "def findPattern(s,p):\n",
    "    #Your code below\n",
    "    pos = s.find(p)\n",
    "    return pos\n",
    "findPattern(\"Hello\",\"llo\")"
   ]
  },
  {
   "cell_type": "markdown",
   "id": "350d32c0",
   "metadata": {},
   "source": [
    "### Q.4 - Slice The String\n",
    "Given a string s, you need to slice it so that the output is a substring that contains all the chracters except first and last. The length of the s will be greater than 2."
   ]
  },
  {
   "cell_type": "raw",
   "id": "f14f9e0e",
   "metadata": {},
   "source": [
    "s = \"World\"\n",
    "Output:\n",
    "orl\n",
    "Explanation: The first and last characters\n",
    "are ignored."
   ]
  },
  {
   "cell_type": "code",
   "execution_count": 7,
   "id": "68ac3f37",
   "metadata": {},
   "outputs": [
    {
     "data": {
      "text/plain": [
       "'orl'"
      ]
     },
     "execution_count": 7,
     "metadata": {},
     "output_type": "execute_result"
    }
   ],
   "source": [
    "def sliceString(s):\n",
    "    #Write your code below\n",
    "    slice = s[1:len(s)-1:1]\n",
    "    return slice\n",
    "\n",
    "sliceString(\"World\")"
   ]
  },
  {
   "cell_type": "markdown",
   "id": "9e91f82f",
   "metadata": {},
   "source": [
    "### Q.5 - Change Case\n",
    "Given a string s, you need to perform the following operation.\n",
    "\n",
    "1. Capitalize the first letter and print.\n",
    "\n",
    "2. Convert the whole string to uppercase and print."
   ]
  },
  {
   "cell_type": "raw",
   "id": "352a39ac",
   "metadata": {},
   "source": [
    "Input:\n",
    "s = \"hello\"\n",
    "Output: \n",
    "Hello\n",
    "HELLO\n",
    "Explanation: In Hello,the first letter is\n",
    "capitalized. In HELLO all letters are in\n",
    "the uppercase."
   ]
  },
  {
   "cell_type": "code",
   "execution_count": 8,
   "id": "b1efb0bf",
   "metadata": {},
   "outputs": [
    {
     "name": "stdout",
     "output_type": "stream",
     "text": [
      "Hello\n",
      "HELLO\n"
     ]
    }
   ],
   "source": [
    "def changeCase(s):\n",
    "    \n",
    "    # code here to print capitalized,  and then in the upper case\n",
    "    cap = s.capitalize()\n",
    "    up = s.upper()\n",
    "    print(cap)\n",
    "    print(up)\n",
    "    \n",
    "changeCase(\"hello\")"
   ]
  },
  {
   "cell_type": "markdown",
   "id": "60310ede",
   "metadata": {},
   "source": [
    "### Q.6 - Print Alphabets\n",
    "Given two char c1 and c2.  you need to print all the alphabet starting from c1 to c2 in a single line."
   ]
  },
  {
   "cell_type": "raw",
   "id": "8d9b4620",
   "metadata": {},
   "source": [
    "Input:\n",
    "c1 = 'a'\n",
    "c2 = 'z'\n",
    "Output: \n",
    "a b c d e f g h i j k l m n o p q r s t u\n",
    "v w x y z\n",
    "Explanation:  Printed alphabets from a\n",
    "to z."
   ]
  },
  {
   "cell_type": "code",
   "execution_count": 9,
   "id": "cefad224",
   "metadata": {},
   "outputs": [
    {
     "name": "stdout",
     "output_type": "stream",
     "text": [
      "a b c d e f g h i j k l m n o p q r s t u v w x y z "
     ]
    }
   ],
   "source": [
    "def alphabets(c1,c2):\n",
    "    \n",
    "    #Code below to print alphabets from c1 to c2\n",
    "    # Don't provide a new line after printing\n",
    "    for i in range(ord(c1),ord(c2)+1,1):\n",
    "       print(chr(i),end =' ')\n",
    "\n",
    "alphabets('a','z')"
   ]
  }
 ],
 "metadata": {
  "kernelspec": {
   "display_name": "Python 3 (ipykernel)",
   "language": "python",
   "name": "python3"
  },
  "language_info": {
   "codemirror_mode": {
    "name": "ipython",
    "version": 3
   },
   "file_extension": ".py",
   "mimetype": "text/x-python",
   "name": "python",
   "nbconvert_exporter": "python",
   "pygments_lexer": "ipython3",
   "version": "3.9.13"
  }
 },
 "nbformat": 4,
 "nbformat_minor": 5
}
