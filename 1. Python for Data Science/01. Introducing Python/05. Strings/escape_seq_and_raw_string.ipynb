{
 "cells": [
  {
   "cell_type": "markdown",
   "id": "c5674f84",
   "metadata": {},
   "source": [
    "## Escape sequences(character with backslash)"
   ]
  },
  {
   "cell_type": "code",
   "execution_count": 2,
   "id": "27c97506",
   "metadata": {},
   "outputs": [
    {
     "name": "stdout",
     "output_type": "stream",
     "text": [
      "welcome to Aryadeep's course\n"
     ]
    }
   ],
   "source": [
    "s='welcome to Aryadeep\\'s course'\n",
    "print(s)"
   ]
  },
  {
   "cell_type": "markdown",
   "id": "fd41990d",
   "metadata": {},
   "source": [
    "## Escape backslash with n(\\n)"
   ]
  },
  {
   "cell_type": "code",
   "execution_count": 3,
   "id": "e8e3b91f",
   "metadata": {},
   "outputs": [
    {
     "name": "stdout",
     "output_type": "stream",
     "text": [
      "Hi \n",
      "welcome to the course\n"
     ]
    }
   ],
   "source": [
    "s=\"Hi \\nwelcome to the course\"\n",
    "print(s)"
   ]
  },
  {
   "cell_type": "markdown",
   "id": "e10f2df4",
   "metadata": {},
   "source": [
    "## Escaping the backslash itself"
   ]
  },
  {
   "cell_type": "code",
   "execution_count": 4,
   "id": "9d590d56",
   "metadata": {},
   "outputs": [
    {
     "name": "stdout",
     "output_type": "stream",
     "text": [
      "A simple \\ example\n",
      "Backslash at the end\\\n",
      "\\n\n",
      "\\t\n"
     ]
    }
   ],
   "source": [
    "s1=\"A simple \\ example\"\n",
    "print(s1)\n",
    "s2=\"Backslash at the end\\\\\"\n",
    "print(s2)\n",
    "s3=\"\\\\n\"\n",
    "print(s3)\n",
    "s4=\"\\\\t\"\n",
    "print(s4)"
   ]
  },
  {
   "cell_type": "markdown",
   "id": "689db7a4",
   "metadata": {},
   "source": [
    "## Raw string"
   ]
  },
  {
   "cell_type": "code",
   "execution_count": 8,
   "id": "9eb48fc9",
   "metadata": {},
   "outputs": [
    {
     "name": "stdout",
     "output_type": "stream",
     "text": [
      "D:\\Project\n",
      "ame.py\n",
      "D:\\Project\\name.py\n"
     ]
    }
   ],
   "source": [
    "s1=\"D:\\Project\\name.py\"\n",
    "print(s1)\n",
    "\n",
    "s2=r\"D:\\Project\\name.py\"\n",
    "print(s2)"
   ]
  }
 ],
 "metadata": {
  "kernelspec": {
   "display_name": "Python 3 (ipykernel)",
   "language": "python",
   "name": "python3"
  },
  "language_info": {
   "codemirror_mode": {
    "name": "ipython",
    "version": 3
   },
   "file_extension": ".py",
   "mimetype": "text/x-python",
   "name": "python",
   "nbconvert_exporter": "python",
   "pygments_lexer": "ipython3",
   "version": "3.9.13"
  }
 },
 "nbformat": 4,
 "nbformat_minor": 5
}
