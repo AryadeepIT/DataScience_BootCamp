{
 "cells": [
  {
   "cell_type": "code",
   "execution_count": 3,
   "id": "2fb8141f",
   "metadata": {},
   "outputs": [
    {
     "name": "stdout",
     "output_type": "stream",
     "text": [
      "Enter Text:\n",
      "Aryadeep Chakraborty\n",
      "Enter Pattern:\n",
      "deep\n",
      "4\n"
     ]
    }
   ],
   "source": [
    "txt = input(\"Enter Text:\\n\")\n",
    "pat = input(\"Enter Pattern:\\n\")\n",
    "\n",
    "pos = txt.find(pat)\n",
    "\n",
    "while pos>=0:\n",
    "    \n",
    "    print(pos)\n",
    "    pos = txt.find(pat,pos+1)"
   ]
  },
  {
   "cell_type": "code",
   "execution_count": 2,
   "id": "8a06eb0b",
   "metadata": {},
   "outputs": [
    {
     "name": "stdout",
     "output_type": "stream",
     "text": [
      "Enter Text:\n",
      "AryadeepisAryadeep\n",
      "Enter Pattern:\n",
      "Aryadeep\n",
      "0\n",
      "10\n"
     ]
    }
   ],
   "source": [
    "txt = input(\"Enter Text:\\n\")\n",
    "pat = input(\"Enter Pattern:\\n\")\n",
    "\n",
    "pos = txt.find(pat)\n",
    "\n",
    "while pos>=0:\n",
    "    \n",
    "    print(pos)\n",
    "    pos = txt.find(pat,pos+1)"
   ]
  }
 ],
 "metadata": {
  "kernelspec": {
   "display_name": "Python 3 (ipykernel)",
   "language": "python",
   "name": "python3"
  },
  "language_info": {
   "codemirror_mode": {
    "name": "ipython",
    "version": 3
   },
   "file_extension": ".py",
   "mimetype": "text/x-python",
   "name": "python",
   "nbconvert_exporter": "python",
   "pygments_lexer": "ipython3",
   "version": "3.9.13"
  }
 },
 "nbformat": 4,
 "nbformat_minor": 5
}
