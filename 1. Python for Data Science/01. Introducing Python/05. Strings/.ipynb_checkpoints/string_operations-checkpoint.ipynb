{
 "cells": [
  {
   "cell_type": "markdown",
   "id": "ef9dca95",
   "metadata": {},
   "source": [
    "## Checking for substring"
   ]
  },
  {
   "cell_type": "code",
   "execution_count": 1,
   "id": "4a32bbc6",
   "metadata": {},
   "outputs": [
    {
     "name": "stdout",
     "output_type": "stream",
     "text": [
      "True\n",
      "False\n"
     ]
    }
   ],
   "source": [
    "s1 = \"aryadeep\"\n",
    "s2 = \"deep\"\n",
    "\n",
    "print(s2 in s1)\n",
    "print(s2 not in s1)"
   ]
  },
  {
   "cell_type": "markdown",
   "id": "19bc89b9",
   "metadata": {},
   "source": [
    "## Concatenation"
   ]
  },
  {
   "cell_type": "code",
   "execution_count": 3,
   "id": "76ae5cfe",
   "metadata": {},
   "outputs": [
    {
     "name": "stdout",
     "output_type": "stream",
     "text": [
      "Aryadeep's World\n",
      "welcome to Aryadeep's World\n"
     ]
    }
   ],
   "source": [
    "s1 = \"Aryadeep\\'s\"\n",
    "s2 = \" World\"\n",
    "s3 = s1 + s2\n",
    "\n",
    "s4 = \"welcome to \" + s1 + s2\n",
    "\n",
    "print(s3)\n",
    "print(s4)"
   ]
  },
  {
   "cell_type": "markdown",
   "id": "9e8a5df5",
   "metadata": {},
   "source": [
    "## Position of substring"
   ]
  },
  {
   "cell_type": "code",
   "execution_count": 9,
   "id": "f3248f9c",
   "metadata": {},
   "outputs": [
    {
     "name": "stdout",
     "output_type": "stream",
     "text": [
      "0\n",
      "8\n",
      "8\n"
     ]
    }
   ],
   "source": [
    "s1 = \"deeparyadeep\"\n",
    "s2 = \"deep\"\n",
    "\n",
    "print(s1.index(s2))\n",
    "print(s1.rindex(s2))        # right index\n",
    "print(s1.index(s2,1,12))    # start and end index"
   ]
  },
  {
   "cell_type": "markdown",
   "id": "fb00a739",
   "metadata": {},
   "source": [
    "## Len,lower,upper"
   ]
  },
  {
   "cell_type": "code",
   "execution_count": 11,
   "id": "e9a19727",
   "metadata": {},
   "outputs": [
    {
     "name": "stdout",
     "output_type": "stream",
     "text": [
      "8\n",
      "ARYADEEP\n",
      "aryadeep\n",
      "False\n",
      "True\n"
     ]
    }
   ],
   "source": [
    "s1 = \"Aryadeep\"\n",
    "print(len(s1))\n",
    "\n",
    "s2 = s1.upper()\n",
    "print(s2)\n",
    "\n",
    "s3 = s2.lower()\n",
    "print(s3)\n",
    "\n",
    "print(s1.islower())\n",
    "print(s2.isupper())"
   ]
  },
  {
   "cell_type": "markdown",
   "id": "0fe729c4",
   "metadata": {},
   "source": [
    "## Startwith ,endwith"
   ]
  },
  {
   "cell_type": "code",
   "execution_count": 13,
   "id": "52c3b8e3",
   "metadata": {},
   "outputs": [
    {
     "name": "stdout",
     "output_type": "stream",
     "text": [
      "True\n",
      "True\n",
      "False\n",
      "True\n"
     ]
    }
   ],
   "source": [
    "s = \"Aryadeep is my name\"\n",
    "\n",
    "print(s.startswith(\"Arya\"))\n",
    "\n",
    "print(s.endswith(\"name\"))\n",
    "\n",
    "print(s.startswith(\"Aryadeep\", 1))     # start index\n",
    "\n",
    "print(s.startswith(\"deep\",4,len(s)))   # start index, last-index"
   ]
  },
  {
   "cell_type": "markdown",
   "id": "054dded8",
   "metadata": {},
   "source": [
    "## Split join"
   ]
  },
  {
   "cell_type": "code",
   "execution_count": 14,
   "id": "a21f7cd6",
   "metadata": {},
   "outputs": [
    {
     "name": "stdout",
     "output_type": "stream",
     "text": [
      "['Aryadeep', 'Chakraborty']\n",
      "['Aryadeep', ' Chakraborty']\n",
      "my name is aryadeep\n",
      "my name, is, aryadeep\n"
     ]
    }
   ],
   "source": [
    "s1 = \"Aryadeep Chakraborty\"\n",
    "\n",
    "print(s1.split())   # split by space ' '\n",
    "\n",
    "s2 = \"Aryadeep, Chakraborty\"\n",
    "print(s2.split(','))        # split by comma ','\n",
    "\n",
    "l = [\"my name\",\"is\",\"aryadeep\"]\n",
    "\n",
    "print(\" \".join(l))          # join by space\n",
    "\n",
    "print(\", \".join(l))         # join by comma"
   ]
  },
  {
   "cell_type": "markdown",
   "id": "93df57a1",
   "metadata": {},
   "source": [
    "## Strip"
   ]
  },
  {
   "cell_type": "code",
   "execution_count": 16,
   "id": "268aa079",
   "metadata": {},
   "outputs": [
    {
     "name": "stdout",
     "output_type": "stream",
     "text": [
      "Aryadeep\n",
      "Aryadeep__\n",
      "__Aryadeep\n"
     ]
    }
   ],
   "source": [
    "s1 = \"__Aryadeep__\"\n",
    "\n",
    "print(s1.strip(\"_\"))   # strip from both side\n",
    "\n",
    "print(s1.lstrip('_'))  # strip from left side\n",
    "\n",
    "print(s1.rstrip(\"_\"))   # strip from right side"
   ]
  },
  {
   "cell_type": "markdown",
   "id": "d99d7967",
   "metadata": {},
   "source": [
    "## Find"
   ]
  },
  {
   "cell_type": "code",
   "execution_count": 18,
   "id": "344d575e",
   "metadata": {},
   "outputs": [
    {
     "name": "stdout",
     "output_type": "stream",
     "text": [
      "0\n",
      "-1\n",
      "21\n"
     ]
    }
   ],
   "source": [
    "s1 = \"Aryadeep Chakraborty Aryadeep\"\n",
    "\n",
    "s2 = \"Aryadeep\"\n",
    "\n",
    "print(s1.find(s2))\n",
    "\n",
    "print(s1.find(\"aryadeep\"))\n",
    "\n",
    "n = len(s1)\n",
    "\n",
    "print(s1.find(s2,1,n))"
   ]
  }
 ],
 "metadata": {
  "kernelspec": {
   "display_name": "Python 3 (ipykernel)",
   "language": "python",
   "name": "python3"
  },
  "language_info": {
   "codemirror_mode": {
    "name": "ipython",
    "version": 3
   },
   "file_extension": ".py",
   "mimetype": "text/x-python",
   "name": "python",
   "nbconvert_exporter": "python",
   "pygments_lexer": "ipython3",
   "version": "3.9.13"
  }
 },
 "nbformat": 4,
 "nbformat_minor": 5
}
