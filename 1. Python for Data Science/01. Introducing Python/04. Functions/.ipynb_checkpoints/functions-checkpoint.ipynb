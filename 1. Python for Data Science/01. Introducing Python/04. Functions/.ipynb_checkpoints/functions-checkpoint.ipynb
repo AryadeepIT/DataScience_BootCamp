{
 "cells": [
  {
   "cell_type": "markdown",
   "id": "2145b5ba",
   "metadata": {},
   "source": [
    "## Prog 1"
   ]
  },
  {
   "cell_type": "code",
   "execution_count": 3,
   "id": "903e6cf2",
   "metadata": {},
   "outputs": [
    {
     "name": "stdout",
     "output_type": "stream",
     "text": [
      "Before calling fun()\n",
      "fun() called\n",
      "After calling fun()\n"
     ]
    }
   ],
   "source": [
    "def fun():\n",
    "    print(\"fun() called\")\n",
    "print(\"Before calling fun()\")\n",
    "fun()\n",
    "print(\"After calling fun()\")"
   ]
  },
  {
   "cell_type": "markdown",
   "id": "7d135d25",
   "metadata": {},
   "source": [
    "## Passing Parameter"
   ]
  },
  {
   "cell_type": "code",
   "execution_count": 4,
   "id": "0cdc6f18",
   "metadata": {},
   "outputs": [
    {
     "name": "stdout",
     "output_type": "stream",
     "text": [
      "My birthday is : \n",
      "21 10 2001\n"
     ]
    }
   ],
   "source": [
    "def printDate(d, m, y):\n",
    "    print(d, m , y, sep=\"-\")\n",
    "    \n",
    "print(\"My birthday is : \")\n",
    "print(\"21\", \"10\", \"2001\")"
   ]
  },
  {
   "cell_type": "markdown",
   "id": "fc03ffb8",
   "metadata": {},
   "source": [
    "## Return value"
   ]
  },
  {
   "cell_type": "code",
   "execution_count": 5,
   "id": "6ac1b26c",
   "metadata": {},
   "outputs": [
    {
     "name": "stdout",
     "output_type": "stream",
     "text": [
      "My birthday is : \n",
      "21 10 2001\n"
     ]
    }
   ],
   "source": [
    "def printDate(d, m, y):\n",
    "    return d+\"-\"+m+\"-\"+y\n",
    "    \n",
    "print(\"My birthday is : \")\n",
    "print(\"21\", \"10\", \"2001\")"
   ]
  },
  {
   "cell_type": "markdown",
   "id": "b29a48be",
   "metadata": {},
   "source": [
    "## Guess Output"
   ]
  },
  {
   "cell_type": "code",
   "execution_count": 6,
   "id": "d81607d7",
   "metadata": {},
   "outputs": [
    {
     "name": "stdout",
     "output_type": "stream",
     "text": [
      "Hi\n",
      "Welcome Sir\n",
      "I am Aryadeep, Happy to Help You...\n",
      "Bye! See You again...\n"
     ]
    }
   ],
   "source": [
    "def greet_msg():\n",
    "    print(\"Hi\")\n",
    "    print(\"Welcome Sir\")\n",
    "def exit_msg():\n",
    "    print(\"Bye! See You again...\")\n",
    "    \n",
    "greet_msg()\n",
    "print(\"I am Aryadeep, Happy to Help You...\")\n",
    "exit_msg()"
   ]
  }
 ],
 "metadata": {
  "kernelspec": {
   "display_name": "Python 3 (ipykernel)",
   "language": "python",
   "name": "python3"
  },
  "language_info": {
   "codemirror_mode": {
    "name": "ipython",
    "version": 3
   },
   "file_extension": ".py",
   "mimetype": "text/x-python",
   "name": "python",
   "nbconvert_exporter": "python",
   "pygments_lexer": "ipython3",
   "version": "3.9.13"
  }
 },
 "nbformat": 4,
 "nbformat_minor": 5
}
