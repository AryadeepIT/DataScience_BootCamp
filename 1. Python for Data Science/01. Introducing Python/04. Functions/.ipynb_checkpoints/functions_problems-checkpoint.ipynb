{
 "cells": [
  {
   "cell_type": "markdown",
   "id": "124764fc",
   "metadata": {},
   "source": [
    "### Q.1 - Function with no arguments\n",
    "This problem has no input. You need to write the function helloFunction that prints Hello."
   ]
  },
  {
   "cell_type": "code",
   "execution_count": 2,
   "id": "e5d87313",
   "metadata": {},
   "outputs": [
    {
     "name": "stdout",
     "output_type": "stream",
     "text": [
      "Hello\n"
     ]
    }
   ],
   "source": [
    "def helloFunction():\n",
    "    print(\"Hello\")\n",
    "    \n",
    "\n",
    "helloFunction()"
   ]
  },
  {
   "cell_type": "markdown",
   "id": "64934017",
   "metadata": {},
   "source": [
    "### Q.2 - Function with arguments\n",
    "Here two integers a and b are given. The take input and their values are passed as arguments to the function argumentFunction. The argumentFunction is responsible for the syntax print(a+b). You need to write this function."
   ]
  },
  {
   "cell_type": "code",
   "execution_count": 3,
   "id": "78fcb9c1",
   "metadata": {},
   "outputs": [
    {
     "name": "stdout",
     "output_type": "stream",
     "text": [
      "5\n"
     ]
    }
   ],
   "source": [
    "def argumentFunction(a, b):\n",
    "    print(a+b)\n",
    "    \n",
    "argumentFunction(2,3)"
   ]
  },
  {
   "cell_type": "markdown",
   "id": "c92631fd",
   "metadata": {},
   "source": [
    "### Q.3 - Function with return value\n",
    "Here one integer n is given. You need to write the complete function returnValueFunction that takes n as a parameter and uses the return keyword to return double the value of n."
   ]
  },
  {
   "cell_type": "code",
   "execution_count": 4,
   "id": "f7c7f9e4",
   "metadata": {},
   "outputs": [
    {
     "data": {
      "text/plain": [
       "10"
      ]
     },
     "execution_count": 4,
     "metadata": {},
     "output_type": "execute_result"
    }
   ],
   "source": [
    "def returnValueFunction(n):\n",
    "    return 2*n\n",
    "\n",
    "returnValueFunction(5)"
   ]
  }
 ],
 "metadata": {
  "kernelspec": {
   "display_name": "Python 3 (ipykernel)",
   "language": "python",
   "name": "python3"
  },
  "language_info": {
   "codemirror_mode": {
    "name": "ipython",
    "version": 3
   },
   "file_extension": ".py",
   "mimetype": "text/x-python",
   "name": "python",
   "nbconvert_exporter": "python",
   "pygments_lexer": "ipython3",
   "version": "3.9.13"
  }
 },
 "nbformat": 4,
 "nbformat_minor": 5
}
