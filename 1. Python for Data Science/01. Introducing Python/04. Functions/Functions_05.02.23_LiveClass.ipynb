{
 "cells": [
  {
   "cell_type": "code",
   "execution_count": 1,
   "id": "c701abb6",
   "metadata": {},
   "outputs": [],
   "source": [
    "def hello():\n",
    "    print(\"Hello World\")"
   ]
  },
  {
   "cell_type": "code",
   "execution_count": 2,
   "id": "e3a14c7e",
   "metadata": {},
   "outputs": [
    {
     "name": "stdout",
     "output_type": "stream",
     "text": [
      "Hello World\n"
     ]
    }
   ],
   "source": [
    "hello()"
   ]
  },
  {
   "cell_type": "code",
   "execution_count": 3,
   "id": "072a1367",
   "metadata": {},
   "outputs": [],
   "source": [
    "# use it with one argument\n",
    "def hello(name):\n",
    "    print(\"hello\", name)"
   ]
  },
  {
   "cell_type": "code",
   "execution_count": 4,
   "id": "98e15740",
   "metadata": {},
   "outputs": [
    {
     "name": "stdout",
     "output_type": "stream",
     "text": [
      "hello arya\n"
     ]
    }
   ],
   "source": [
    "print(\"hello\", \"arya\")"
   ]
  },
  {
   "cell_type": "code",
   "execution_count": 6,
   "id": "682cb389",
   "metadata": {},
   "outputs": [
    {
     "name": "stdout",
     "output_type": "stream",
     "text": [
      "hello Rohit\n"
     ]
    }
   ],
   "source": [
    "print(\"hello\", \"Rohit\")"
   ]
  },
  {
   "cell_type": "code",
   "execution_count": 8,
   "id": "e4537079",
   "metadata": {},
   "outputs": [
    {
     "name": "stdout",
     "output_type": "stream",
     "text": [
      "hello Arya\n"
     ]
    }
   ],
   "source": [
    "a = \"Arya\"\n",
    "hello(a)"
   ]
  },
  {
   "cell_type": "code",
   "execution_count": 9,
   "id": "62ec95d9",
   "metadata": {},
   "outputs": [],
   "source": [
    "def sum(a, b):\n",
    "    total = a+b;\n",
    "    a=10;\n",
    "    print(a)\n",
    "    return total"
   ]
  },
  {
   "cell_type": "code",
   "execution_count": 10,
   "id": "c57a81bc",
   "metadata": {},
   "outputs": [
    {
     "name": "stdout",
     "output_type": "stream",
     "text": [
      "10\n"
     ]
    },
    {
     "data": {
      "text/plain": [
       "50"
      ]
     },
     "execution_count": 10,
     "metadata": {},
     "output_type": "execute_result"
    }
   ],
   "source": [
    "sum(20,30)"
   ]
  },
  {
   "cell_type": "code",
   "execution_count": 11,
   "id": "8e5556de",
   "metadata": {},
   "outputs": [],
   "source": [
    "def sum2(a, b):\n",
    "    a=10;\n",
    "    total = a+b;\n",
    "    \n",
    "    print(a)\n",
    "    return total"
   ]
  },
  {
   "cell_type": "code",
   "execution_count": 12,
   "id": "f04e7b8c",
   "metadata": {},
   "outputs": [
    {
     "name": "stdout",
     "output_type": "stream",
     "text": [
      "10\n"
     ]
    },
    {
     "data": {
      "text/plain": [
       "40"
      ]
     },
     "execution_count": 12,
     "metadata": {},
     "output_type": "execute_result"
    }
   ],
   "source": [
    "sum2(20,30)"
   ]
  },
  {
   "cell_type": "code",
   "execution_count": 13,
   "id": "b66a27bd",
   "metadata": {},
   "outputs": [],
   "source": [
    "def sum3(a, b):\n",
    "    total = a+b;\n",
    "    a=10;\n",
    "    total = a+b;\n",
    "    \n",
    "    print(a)\n",
    "    return total"
   ]
  },
  {
   "cell_type": "code",
   "execution_count": 14,
   "id": "5c74a3ab",
   "metadata": {},
   "outputs": [
    {
     "name": "stdout",
     "output_type": "stream",
     "text": [
      "10\n"
     ]
    },
    {
     "data": {
      "text/plain": [
       "40"
      ]
     },
     "execution_count": 14,
     "metadata": {},
     "output_type": "execute_result"
    }
   ],
   "source": [
    "sum3(20,30)"
   ]
  },
  {
   "cell_type": "code",
   "execution_count": 15,
   "id": "9a5eb6b5",
   "metadata": {},
   "outputs": [
    {
     "data": {
      "text/plain": [
       "15"
      ]
     },
     "execution_count": 15,
     "metadata": {},
     "output_type": "execute_result"
    }
   ],
   "source": [
    "def add_list(mylist):\n",
    "    abc = 0\n",
    "    for a in mylist:\n",
    "        abc += a\n",
    "        \n",
    "    return abc\n",
    "\n",
    "mylist = [1,2,3,4,5]\n",
    "add_list(mylist)"
   ]
  },
  {
   "cell_type": "code",
   "execution_count": 17,
   "id": "2e19c371",
   "metadata": {},
   "outputs": [
    {
     "data": {
      "text/plain": [
       "1"
      ]
     },
     "execution_count": 17,
     "metadata": {},
     "output_type": "execute_result"
    }
   ],
   "source": [
    "def smallest_num(a,b,c):\n",
    "    return min(a,b,c)\n",
    "smallest_num(1,2,3)"
   ]
  },
  {
   "cell_type": "code",
   "execution_count": 18,
   "id": "c9849f2c",
   "metadata": {},
   "outputs": [
    {
     "name": "stdout",
     "output_type": "stream",
     "text": [
      "5 is odd\n"
     ]
    }
   ],
   "source": [
    "def check(x):\n",
    "    if x < 5:\n",
    "        x=5\n",
    "    if x % 2 ==0:\n",
    "        print(x, 'is even')\n",
    "    else:\n",
    "        print(x, 'is odd')\n",
    "        \n",
    "a=4\n",
    "check(4)"
   ]
  },
  {
   "cell_type": "code",
   "execution_count": 21,
   "id": "e8083866",
   "metadata": {},
   "outputs": [
    {
     "name": "stdout",
     "output_type": "stream",
     "text": [
      "Greetings\n",
      "Greetings\n",
      "Greetings\n"
     ]
    }
   ],
   "source": [
    "def print_new(x,y):\n",
    "    for i in range(y):\n",
    "        print(x)\n",
    "z=3\n",
    "        \n",
    "print_new(\"Greetings\", z)"
   ]
  },
  {
   "cell_type": "code",
   "execution_count": 22,
   "id": "002160f3",
   "metadata": {},
   "outputs": [
    {
     "data": {
      "text/plain": [
       "['Spike', 'jerry', 'Tom']"
      ]
     },
     "execution_count": 22,
     "metadata": {},
     "output_type": "execute_result"
    }
   ],
   "source": [
    "def winner(names):\n",
    "    temp = names[0]  # Tom\n",
    "    names[0] = names[-1] # Tom = Spike  ['Spike', 'Jerry', 'Spike']\n",
    "    names[-1] = temp # ['Spike', 'jerry', 'Tom']\n",
    "    return names\n",
    "r= [\"Tom\", \"jerry\", \"Spike\"]\n",
    "winner(r)"
   ]
  },
  {
   "cell_type": "code",
   "execution_count": 26,
   "id": "190f17d9",
   "metadata": {},
   "outputs": [
    {
     "name": "stdout",
     "output_type": "stream",
     "text": [
      "10\n",
      "3\n"
     ]
    }
   ],
   "source": [
    "# *args, *kwargs = keyword arguments\n",
    "\n",
    "sum4 = sum(1,2)\n",
    "print(sum4)"
   ]
  },
  {
   "cell_type": "code",
   "execution_count": null,
   "id": "b79f9829",
   "metadata": {},
   "outputs": [],
   "source": [
    "[1,2,3,4,5]"
   ]
  },
  {
   "cell_type": "code",
   "execution_count": 29,
   "id": "41cb5035",
   "metadata": {},
   "outputs": [
    {
     "name": "stdout",
     "output_type": "stream",
     "text": [
      "8\n"
     ]
    }
   ],
   "source": [
    "def any_num(*args):\n",
    "    sum_ = 0\n",
    "    for i in args:\n",
    "        sum_ += i\n",
    "    print(sum_)\n",
    "        \n",
    "any_num(1, 4, 3)"
   ]
  },
  {
   "cell_type": "code",
   "execution_count": 33,
   "id": "c1d949b6",
   "metadata": {},
   "outputs": [
    {
     "name": "stdout",
     "output_type": "stream",
     "text": [
      "8\n"
     ]
    }
   ],
   "source": [
    "def any_kw_number(**kwargs):  #a=10, b=20, c=30, d=40\n",
    "    sum_ = 0\n",
    "    for value in kwargs.values():\n",
    "        sum_ += value\n",
    "    print(sum_)\n",
    "        \n",
    "any_kw_number(a=1, b=4, c=3)"
   ]
  },
  {
   "cell_type": "code",
   "execution_count": 34,
   "id": "0dc34d41",
   "metadata": {},
   "outputs": [
    {
     "name": "stdout",
     "output_type": "stream",
     "text": [
      "1\n",
      "4\n",
      "3\n"
     ]
    }
   ],
   "source": [
    "def any_kw_number(**kwargs):  #a=10, b=20, c=30, d=40\n",
    "    for value in kwargs.values():\n",
    "        print(value)\n",
    "        \n",
    "any_kw_number(a=1, b=4, c=3)"
   ]
  },
  {
   "cell_type": "code",
   "execution_count": 35,
   "id": "2a48d262",
   "metadata": {},
   "outputs": [
    {
     "name": "stdout",
     "output_type": "stream",
     "text": [
      "4\n"
     ]
    }
   ],
   "source": [
    "# lambda function\n",
    "g = lambda x: x*x\n",
    "print(g(2))"
   ]
  },
  {
   "cell_type": "code",
   "execution_count": 37,
   "id": "e229ece1",
   "metadata": {},
   "outputs": [
    {
     "name": "stdout",
     "output_type": "stream",
     "text": [
      "5\n"
     ]
    }
   ],
   "source": [
    "g = lambda x,y: x+y\n",
    "print(g(2,3))"
   ]
  },
  {
   "cell_type": "code",
   "execution_count": null,
   "id": "e4b2a282",
   "metadata": {},
   "outputs": [],
   "source": [
    "# lambda function with filter, map, reduce\n",
    "\n",
    "# filter(lambda arg : expres, input_collection)"
   ]
  },
  {
   "cell_type": "code",
   "execution_count": 39,
   "id": "2cc1c5d0",
   "metadata": {},
   "outputs": [
    {
     "name": "stdout",
     "output_type": "stream",
     "text": [
      "[5, 7, 55, 13, 91]\n"
     ]
    }
   ],
   "source": [
    "list_ = [5,7,12,55,13,10002,91]\n",
    "\n",
    "selected_list = list(filter(lambda x: (x%2 != 0), list_))\n",
    "print(selected_list)\n"
   ]
  },
  {
   "cell_type": "code",
   "execution_count": 41,
   "id": "3163cb35",
   "metadata": {},
   "outputs": [
    {
     "data": {
      "text/plain": [
       "<filter at 0x1caceb6e2b0>"
      ]
     },
     "execution_count": 41,
     "metadata": {},
     "output_type": "execute_result"
    }
   ],
   "source": [
    "list_ = [5,7,12,55,13,10002,91]\n",
    "\n",
    "filter(lambda x: (x%2 != 0), list_)"
   ]
  },
  {
   "cell_type": "code",
   "execution_count": 42,
   "id": "53bc364c",
   "metadata": {},
   "outputs": [
    {
     "name": "stdout",
     "output_type": "stream",
     "text": [
      "['kayak', 'radar', 'rotor']\n"
     ]
    }
   ],
   "source": [
    "my_list = [\"kayak\", 'boat', \"radar\", \"satellite\", \"rotor\"]\n",
    "result = list(filter(lambda x: (x== \"\".join(reversed(x))), my_list)) ## palindromes\n",
    "print(result)"
   ]
  },
  {
   "cell_type": "code",
   "execution_count": null,
   "id": "a08fb467",
   "metadata": {},
   "outputs": [],
   "source": [
    "# lambda fuction with map\n",
    "\n",
    "## map - not reduce input number, rather transforming the input\n",
    "# [1,2,3,4,5] -> [11,12,13,14,15]"
   ]
  },
  {
   "cell_type": "code",
   "execution_count": 43,
   "id": "54312dd6",
   "metadata": {},
   "outputs": [
    {
     "name": "stdout",
     "output_type": "stream",
     "text": [
      "[10, 14, 24, 110, 26, 2004, 182]\n"
     ]
    }
   ],
   "source": [
    "list_ = [5,7,12,55,13,1002, 91]\n",
    "mapped_list = list(map(lambda x: x*2, list_))\n",
    "print(mapped_list)"
   ]
  },
  {
   "cell_type": "code",
   "execution_count": 47,
   "id": "3d72f456",
   "metadata": {},
   "outputs": [],
   "source": [
    "from functools import reduce"
   ]
  },
  {
   "cell_type": "code",
   "execution_count": 55,
   "id": "4726012c",
   "metadata": {},
   "outputs": [
    {
     "data": {
      "text/plain": [
       "1002"
      ]
     },
     "execution_count": 55,
     "metadata": {},
     "output_type": "execute_result"
    }
   ],
   "source": [
    "## reduce is also used with lambda\n",
    "# Output -> 1 number(Aggrigation)\n",
    "\n",
    "list_ = [5,7,12,55,13,1002, 91]\n",
    "reduce(lambda a,b : max(a,b), list_)"
   ]
  },
  {
   "cell_type": "code",
   "execution_count": null,
   "id": "70205120",
   "metadata": {},
   "outputs": [],
   "source": []
  }
 ],
 "metadata": {
  "kernelspec": {
   "display_name": "Python 3 (ipykernel)",
   "language": "python",
   "name": "python3"
  },
  "language_info": {
   "codemirror_mode": {
    "name": "ipython",
    "version": 3
   },
   "file_extension": ".py",
   "mimetype": "text/x-python",
   "name": "python",
   "nbconvert_exporter": "python",
   "pygments_lexer": "ipython3",
   "version": "3.9.13"
  }
 },
 "nbformat": 4,
 "nbformat_minor": 5
}
