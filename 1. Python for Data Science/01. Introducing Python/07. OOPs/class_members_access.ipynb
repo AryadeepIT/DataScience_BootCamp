{
 "cells": [
  {
   "cell_type": "code",
   "execution_count": 4,
   "id": "bd638039",
   "metadata": {},
   "outputs": [
    {
     "name": "stdout",
     "output_type": "stream",
     "text": [
      "10\n",
      "20\n",
      "Hi\n"
     ]
    }
   ],
   "source": [
    "class Test:\n",
    "    def __init__(self, x, y):\n",
    "        self.x = x\n",
    "        self.y = y\n",
    "        \n",
    "    @staticmethod\n",
    "    def fun():\n",
    "        print(\"Hi\")\n",
    "\n",
    "t = Test(10, 20)\n",
    "print(t.x)\n",
    "print(t.y)\n",
    "t.fun()"
   ]
  },
  {
   "cell_type": "code",
   "execution_count": 3,
   "id": "2002ad8c",
   "metadata": {},
   "outputs": [
    {
     "name": "stdout",
     "output_type": "stream",
     "text": [
      "10\n",
      "20\n",
      "Hi\n"
     ]
    }
   ],
   "source": [
    "class Test:\n",
    "    def __init__(self, x, y):\n",
    "        self._x = x\n",
    "        self.y = y\n",
    "        \n",
    "    @staticmethod\n",
    "    def _fun():\n",
    "        print(\"Hi\")\n",
    "\n",
    "t = Test(10, 20)\n",
    "print(t._x)\n",
    "print(t.y)\n",
    "t._fun()"
   ]
  },
  {
   "cell_type": "code",
   "execution_count": 7,
   "id": "e9b19c7b",
   "metadata": {},
   "outputs": [
    {
     "ename": "AttributeError",
     "evalue": "'Test' object has no attribute '__x'",
     "output_type": "error",
     "traceback": [
      "\u001b[1;31m---------------------------------------------------------------------------\u001b[0m",
      "\u001b[1;31mAttributeError\u001b[0m                            Traceback (most recent call last)",
      "\u001b[1;32m~\\AppData\\Local\\Temp\\ipykernel_3604\\2352423960.py\u001b[0m in \u001b[0;36m<module>\u001b[1;34m\u001b[0m\n\u001b[0;32m      9\u001b[0m \u001b[1;33m\u001b[0m\u001b[0m\n\u001b[0;32m     10\u001b[0m \u001b[0mt\u001b[0m \u001b[1;33m=\u001b[0m \u001b[0mTest\u001b[0m\u001b[1;33m(\u001b[0m\u001b[1;36m10\u001b[0m\u001b[1;33m,\u001b[0m \u001b[1;36m20\u001b[0m\u001b[1;33m)\u001b[0m\u001b[1;33m\u001b[0m\u001b[1;33m\u001b[0m\u001b[0m\n\u001b[1;32m---> 11\u001b[1;33m \u001b[0mprint\u001b[0m\u001b[1;33m(\u001b[0m\u001b[0mt\u001b[0m\u001b[1;33m.\u001b[0m\u001b[0m__x\u001b[0m\u001b[1;33m)\u001b[0m\u001b[1;33m\u001b[0m\u001b[1;33m\u001b[0m\u001b[0m\n\u001b[0m\u001b[0;32m     12\u001b[0m \u001b[0mprint\u001b[0m\u001b[1;33m(\u001b[0m\u001b[0mt\u001b[0m\u001b[1;33m.\u001b[0m\u001b[0my\u001b[0m\u001b[1;33m)\u001b[0m\u001b[1;33m\u001b[0m\u001b[1;33m\u001b[0m\u001b[0m\n\u001b[0;32m     13\u001b[0m \u001b[0mt\u001b[0m\u001b[1;33m.\u001b[0m\u001b[0m__fun\u001b[0m\u001b[1;33m(\u001b[0m\u001b[1;33m)\u001b[0m\u001b[1;33m\u001b[0m\u001b[1;33m\u001b[0m\u001b[0m\n",
      "\u001b[1;31mAttributeError\u001b[0m: 'Test' object has no attribute '__x'"
     ]
    }
   ],
   "source": [
    "# when we use 2 underscores before a member name, it becomes in-accessible(private)\n",
    "class Test:\n",
    "    def __init__(self, x, y):\n",
    "        self.__x = x   # __ <- private restriction\n",
    "        self.y = y\n",
    "        \n",
    "    @staticmethod\n",
    "    def __fun():\n",
    "        print(\"Hi\")\n",
    "\n",
    "t = Test(10, 20)\n",
    "print(t.__x)    # _Test__x we can use, but not recommended\n",
    "print(t.y)\n",
    "t.__fun()"
   ]
  },
  {
   "cell_type": "code",
   "execution_count": 9,
   "id": "4ee64258",
   "metadata": {},
   "outputs": [
    {
     "name": "stdout",
     "output_type": "stream",
     "text": [
      "10\n",
      "20\n",
      "Hi\n"
     ]
    }
   ],
   "source": [
    "# 2 underscore at the end = no longer private\n",
    "\n",
    "class Test:\n",
    "    def __init__(self, x, y):\n",
    "        self.__x__ = x\n",
    "        self.y = y\n",
    "        \n",
    "    @staticmethod\n",
    "    def fun():\n",
    "        print(\"Hi\")\n",
    "\n",
    "t = Test(10, 20)\n",
    "print(t.__x__)\n",
    "print(t.y)\n",
    "t.fun()"
   ]
  },
  {
   "cell_type": "code",
   "execution_count": 14,
   "id": "3f6e6fbe",
   "metadata": {},
   "outputs": [
    {
     "name": "stdout",
     "output_type": "stream",
     "text": [
      "5\n",
      "10\n"
     ]
    }
   ],
   "source": [
    "class Test:\n",
    "    def __init__(self, x):\n",
    "        self.x = x\n",
    "        self.__y = 10\n",
    "        \n",
    "    def printTest(self):\n",
    "        print(self.x)\n",
    "        print(self.__y)\n",
    "        \n",
    "t = Test(5)\n",
    "t.printTest()"
   ]
  },
  {
   "cell_type": "code",
   "execution_count": null,
   "id": "e96ba9d1",
   "metadata": {},
   "outputs": [],
   "source": []
  }
 ],
 "metadata": {
  "kernelspec": {
   "display_name": "Python 3 (ipykernel)",
   "language": "python",
   "name": "python3"
  },
  "language_info": {
   "codemirror_mode": {
    "name": "ipython",
    "version": 3
   },
   "file_extension": ".py",
   "mimetype": "text/x-python",
   "name": "python",
   "nbconvert_exporter": "python",
   "pygments_lexer": "ipython3",
   "version": "3.9.13"
  }
 },
 "nbformat": 4,
 "nbformat_minor": 5
}
