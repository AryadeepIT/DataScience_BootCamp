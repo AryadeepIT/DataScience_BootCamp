{
 "cells": [
  {
   "cell_type": "code",
   "execution_count": 1,
   "id": "eea4f894",
   "metadata": {},
   "outputs": [
    {
     "name": "stdout",
     "output_type": "stream",
     "text": [
      "10 +i20\n",
      "30 +i50\n"
     ]
    }
   ],
   "source": [
    "class Complex:\n",
    "    def __init__(self, real, imag):\n",
    "        self.real = real\n",
    "        self.imag = imag\n",
    "    def print(self):\n",
    "        print(str(self.real)+\" +i\"+str(self.imag))\n",
    "    def add(self, c):\n",
    "        self.real += c.real\n",
    "        self.imag += c.imag\n",
    "        \n",
    "c1 = Complex(10, 20)\n",
    "c1.print()\n",
    "c2 = Complex(20, 30)\n",
    "c1.add(c2)\n",
    "c1.print()"
   ]
  },
  {
   "cell_type": "code",
   "execution_count": null,
   "id": "d0535b3b",
   "metadata": {},
   "outputs": [],
   "source": []
  }
 ],
 "metadata": {
  "kernelspec": {
   "display_name": "Python 3 (ipykernel)",
   "language": "python",
   "name": "python3"
  },
  "language_info": {
   "codemirror_mode": {
    "name": "ipython",
    "version": 3
   },
   "file_extension": ".py",
   "mimetype": "text/x-python",
   "name": "python",
   "nbconvert_exporter": "python",
   "pygments_lexer": "ipython3",
   "version": "3.9.13"
  }
 },
 "nbformat": 4,
 "nbformat_minor": 5
}
