{
 "cells": [
  {
   "cell_type": "code",
   "execution_count": 1,
   "id": "a1d92eec",
   "metadata": {},
   "outputs": [
    {
     "name": "stdout",
     "output_type": "stream",
     "text": [
      "101\n",
      "Rahul\n",
      "21000\n"
     ]
    }
   ],
   "source": [
    "class Person:\n",
    "    def __init__(self, id, name):\n",
    "        self.id = id\n",
    "        self.name = name\n",
    "\n",
    "class Employee(Person):\n",
    "    def __init__(self, id, name, salary):\n",
    "        super().__init__(id, name)\n",
    "        self.salary = salary\n",
    "    def printDetails(self):\n",
    "        print(self.id)\n",
    "        print(self.name)\n",
    "        print(self.salary)\n",
    "        \n",
    "e = Employee(101, \"Rahul\", 21000)\n",
    "e.printDetails()"
   ]
  },
  {
   "cell_type": "code",
   "execution_count": 7,
   "id": "cd9556ec",
   "metadata": {},
   "outputs": [
    {
     "name": "stdout",
     "output_type": "stream",
     "text": [
      "100\n",
      "Aryadeep\n",
      "40000\n",
      "20000\n",
      "\n",
      "101\n",
      "Sanchita\n",
      "50000\n"
     ]
    }
   ],
   "source": [
    "# Multi-level Inheritance\n",
    "\n",
    "class Person:\n",
    "    def __init__(self, id, name):\n",
    "        self.id = id\n",
    "        self.name = name\n",
    "    def printDetails(self):\n",
    "        print(self.id)\n",
    "        print(self.name)\n",
    "\n",
    "class Employee(Person):\n",
    "    def __init__(self, id, name, sal):\n",
    "        super().__init__(id, name)\n",
    "        self.salary = sal\n",
    "    def printDetails(self):\n",
    "        super().printDetails()\n",
    "        print(self.salary)\n",
    "        \n",
    "class SalesEmployee(Employee):\n",
    "    def __init__(self, id, name, sal, si):\n",
    "        super().__init__(id, name, sal)\n",
    "        self.salesInc = si\n",
    "    def printDetails(self):\n",
    "        super().printDetails()\n",
    "        print(self.salesInc)\n",
    "        \n",
    "se = SalesEmployee(100, \"Aryadeep\", 40000, 20000)\n",
    "se.printDetails()\n",
    "e = Employee(101, \"Sanchita\", 50000)\n",
    "print()\n",
    "e.printDetails()"
   ]
  },
  {
   "cell_type": "code",
   "execution_count": 8,
   "id": "c38b17ab",
   "metadata": {},
   "outputs": [
    {
     "name": "stdout",
     "output_type": "stream",
     "text": [
      "<built-in function id>\n",
      "IT\n"
     ]
    }
   ],
   "source": [
    "# Multiple Inheritance\n",
    "class Student:\n",
    "    def __init__(self, sid, dept):\n",
    "        self.sid = id\n",
    "        self.dept = dept\n",
    "class Faculty:\n",
    "    def __init__(self, eid, dept):\n",
    "        self.eid = id\n",
    "        self.dept = dept\n",
    "        \n",
    "class phDStudent(Student, Faculty):\n",
    "    def __init__(self, id, dept):\n",
    "        super().__init__(id, dept)\n",
    "        \n",
    "ps = phDStudent(101, \"IT\")\n",
    "print(ps.sid)\n",
    "print(ps.dept)"
   ]
  },
  {
   "cell_type": "code",
   "execution_count": 9,
   "id": "3b2b612e",
   "metadata": {},
   "outputs": [
    {
     "name": "stdout",
     "output_type": "stream",
     "text": [
      "Student: \n",
      "101\n",
      "Aryadeep\n"
     ]
    }
   ],
   "source": [
    "# The Diamond Problem\n",
    "\n",
    "class Person:\n",
    "    def __init__(self, id, name):\n",
    "        self.id = id\n",
    "        self.name = name\n",
    "        \n",
    "class Student(Person):\n",
    "    def __init__(self, id, n):\n",
    "        super().__init__(id, n)\n",
    "    def printDetails(self):\n",
    "        print(\"Student: \")\n",
    "        print(self.id)\n",
    "        print(self.name)\n",
    "\n",
    "class Faculty(Person):\n",
    "    def __init__(self, id, n):\n",
    "        super().__init__(id, n)\n",
    "    def printDetails(self):\n",
    "        print(\"Faculty: \")\n",
    "        print(self.id)\n",
    "        print(self.name)\n",
    "        \n",
    "class PhDStud(Student, Faculty):\n",
    "    def __init__(self, id, n):\n",
    "        super().__init__(id, n)\n",
    "        \n",
    "ps = PhDStud(101, \"Aryadeep\")\n",
    "ps.printDetails()"
   ]
  },
  {
   "cell_type": "code",
   "execution_count": null,
   "id": "a88c49f5",
   "metadata": {},
   "outputs": [],
   "source": []
  }
 ],
 "metadata": {
  "kernelspec": {
   "display_name": "Python 3 (ipykernel)",
   "language": "python",
   "name": "python3"
  },
  "language_info": {
   "codemirror_mode": {
    "name": "ipython",
    "version": 3
   },
   "file_extension": ".py",
   "mimetype": "text/x-python",
   "name": "python",
   "nbconvert_exporter": "python",
   "pygments_lexer": "ipython3",
   "version": "3.9.13"
  }
 },
 "nbformat": 4,
 "nbformat_minor": 5
}
