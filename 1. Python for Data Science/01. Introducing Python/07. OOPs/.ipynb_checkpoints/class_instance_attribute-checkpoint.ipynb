{
 "cells": [
  {
   "cell_type": "code",
   "execution_count": 1,
   "id": "6bf8b638",
   "metadata": {},
   "outputs": [
    {
     "name": "stdout",
     "output_type": "stream",
     "text": [
      "Aryadeep IT Solutions\n",
      "1001\n",
      "Aryadeep IT Solutions\n"
     ]
    }
   ],
   "source": [
    "class Employee:\n",
    "    compName = \"Aryadeep IT Solutions\"\n",
    "    def __init__(self, id):\n",
    "        self.id = id\n",
    "        \n",
    "e = Employee(1001)\n",
    "print(e.compName)\n",
    "print(e.id)\n",
    "print(Employee.compName)"
   ]
  },
  {
   "cell_type": "code",
   "execution_count": 2,
   "id": "610a0036",
   "metadata": {},
   "outputs": [
    {
     "name": "stdout",
     "output_type": "stream",
     "text": [
      "Aryadeep IT Solutions\n",
      "Aryadeep IT Solutions\n",
      "Aryadeep IT Solutions\n"
     ]
    }
   ],
   "source": [
    "class Employee:\n",
    "    compName = \"Aryadeep IT Solutions\"\n",
    "    def __init__(self, id):\n",
    "        self.id = id\n",
    "        \n",
    "e1 = Employee(1001)\n",
    "e2 = Employee(1002)\n",
    "print(Employee.compName)\n",
    "print(e1.compName)\n",
    "print(e2.compName)"
   ]
  },
  {
   "cell_type": "markdown",
   "id": "fb41856d",
   "metadata": {},
   "source": [
    "### We can add attribues later"
   ]
  },
  {
   "cell_type": "code",
   "execution_count": 3,
   "id": "9299d410",
   "metadata": {},
   "outputs": [
    {
     "name": "stdout",
     "output_type": "stream",
     "text": [
      "Aryadeep\n",
      "Fresher\n",
      "Kolkata\n"
     ]
    }
   ],
   "source": [
    "class Employee:\n",
    "    compName = \"Aryadeep IT Solutions\"\n",
    "    def __init__(self, id):\n",
    "        self.id = id\n",
    "    def fun(self, n):\n",
    "        self.name = n\n",
    "        \n",
    "e = Employee(1001)\n",
    "e.fun(\"Aryadeep\")\n",
    "print(e.name)\n",
    "e.designation = \"Fresher\"\n",
    "print(e.designation)\n",
    "Employee.officeAdd = \"Kolkata\"\n",
    "print(e.officeAdd)"
   ]
  },
  {
   "cell_type": "code",
   "execution_count": 6,
   "id": "c8dccfb1",
   "metadata": {},
   "outputs": [
    {
     "name": "stdout",
     "output_type": "stream",
     "text": [
      "Bangalore\n",
      "Pune\n"
     ]
    }
   ],
   "source": [
    "class Employee:\n",
    "    compName = \"Aryadeep IT Solutions\"\n",
    "    def __init__(self, id):\n",
    "        self.id = id\n",
    "        \n",
    "e = Employee(1001)\n",
    "Employee.officeAdd = \"Bangalore\" \n",
    "e.officeAdd = \"Pune\"\n",
    "print(Employee.officeAdd)\n",
    "print(e.officeAdd)"
   ]
  },
  {
   "cell_type": "code",
   "execution_count": null,
   "id": "cb8efc1e",
   "metadata": {},
   "outputs": [],
   "source": []
  }
 ],
 "metadata": {
  "kernelspec": {
   "display_name": "Python 3 (ipykernel)",
   "language": "python",
   "name": "python3"
  },
  "language_info": {
   "codemirror_mode": {
    "name": "ipython",
    "version": 3
   },
   "file_extension": ".py",
   "mimetype": "text/x-python",
   "name": "python",
   "nbconvert_exporter": "python",
   "pygments_lexer": "ipython3",
   "version": "3.9.13"
  }
 },
 "nbformat": 4,
 "nbformat_minor": 5
}
