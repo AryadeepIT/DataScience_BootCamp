{
 "cells": [
  {
   "cell_type": "code",
   "execution_count": 1,
   "id": "f93ff019",
   "metadata": {},
   "outputs": [
    {
     "name": "stdout",
     "output_type": "stream",
     "text": [
      "Sanchita Beauty Production\n",
      "Sanchita Beauty Production\n"
     ]
    }
   ],
   "source": [
    "class Employee:\n",
    "    compName = \"Aryadeep IT Solutions\"\n",
    "    \n",
    "    def __init__(self, name, age):\n",
    "        self.name = name\n",
    "        self.age = age\n",
    "        \n",
    "    @classmethod\n",
    "    def setCompName(cls, cName):\n",
    "        cls.compName = cName\n",
    "        \n",
    "Employee.setCompName(\"Sanchita Beauty Production\")\n",
    "print(Employee.compName)\n",
    "e = Employee(\"Aryadeep\", 22)\n",
    "print(e.compName)"
   ]
  },
  {
   "cell_type": "code",
   "execution_count": 8,
   "id": "4ccedf77",
   "metadata": {},
   "outputs": [
    {
     "name": "stdout",
     "output_type": "stream",
     "text": [
      "Aryadeep\n",
      "24\n"
     ]
    }
   ],
   "source": [
    "# class method to create instance\n",
    "import time\n",
    "from datetime import date\n",
    "\n",
    "class Employee:    \n",
    "    def __init__(self, name, age):\n",
    "        self.name = name\n",
    "        self.age = age\n",
    "        \n",
    "    @classmethod\n",
    "    def getFromBirthYear(cls, name, year):\n",
    "        return cls(name, date.today().year - year)\n",
    "        \n",
    "e = Employee.getFromBirthYear(\"Aryadeep\", 1999)\n",
    "print(e.name)\n",
    "print(e.age)"
   ]
  },
  {
   "cell_type": "code",
   "execution_count": null,
   "id": "70749cbb",
   "metadata": {},
   "outputs": [],
   "source": []
  }
 ],
 "metadata": {
  "kernelspec": {
   "display_name": "Python 3 (ipykernel)",
   "language": "python",
   "name": "python3"
  },
  "language_info": {
   "codemirror_mode": {
    "name": "ipython",
    "version": 3
   },
   "file_extension": ".py",
   "mimetype": "text/x-python",
   "name": "python",
   "nbconvert_exporter": "python",
   "pygments_lexer": "ipython3",
   "version": "3.9.13"
  }
 },
 "nbformat": 4,
 "nbformat_minor": 5
}
