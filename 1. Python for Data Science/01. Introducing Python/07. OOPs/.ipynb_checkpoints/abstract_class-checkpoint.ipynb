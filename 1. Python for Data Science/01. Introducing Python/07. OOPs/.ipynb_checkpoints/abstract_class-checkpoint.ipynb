{
 "cells": [
  {
   "cell_type": "code",
   "execution_count": 1,
   "id": "188029f1",
   "metadata": {},
   "outputs": [
    {
     "name": "stdout",
     "output_type": "stream",
     "text": [
      "There are 3 sides\n"
     ]
    }
   ],
   "source": [
    "from abc import ABC, abstractmethod\n",
    "class Polygon(ABC):\n",
    "    def __init__(self, color):\n",
    "        self.color = color\n",
    "        \n",
    "    @abstractmethod\n",
    "    def printSides(self):\n",
    "        pass\n",
    "class Triangle(Polygon):\n",
    "    def __init__(self, color):\n",
    "        super().__init__(color)\n",
    "    def printSides(self):\n",
    "        print(\"There are 3 sides\")\n",
    "        \n",
    "p = Triangle(\"Red\")\n",
    "p.printSides()"
   ]
  },
  {
   "cell_type": "code",
   "execution_count": 4,
   "id": "bb7c1f1b",
   "metadata": {},
   "outputs": [
    {
     "name": "stdout",
     "output_type": "stream",
     "text": [
      "Red\n"
     ]
    }
   ],
   "source": [
    "from abc import ABC, abstractmethod\n",
    "class Polygon(ABC):\n",
    "    def __init__(self, color):\n",
    "        self.color = color\n",
    "        \n",
    "    @abstractmethod\n",
    "    def printSides(self):\n",
    "        pass\n",
    "    def prinColor(self):\n",
    "        print(self.color)\n",
    "        \n",
    "class Triangle(Polygon):\n",
    "    def __init__(self, color):\n",
    "        super().__init__(color)\n",
    "    def printSides(self):\n",
    "        print(\"There are 3 sides\")\n",
    "        \n",
    "p = Triangle(\"Red\")\n",
    "p.prinColor()"
   ]
  },
  {
   "cell_type": "code",
   "execution_count": null,
   "id": "0801bb1a",
   "metadata": {},
   "outputs": [],
   "source": []
  }
 ],
 "metadata": {
  "kernelspec": {
   "display_name": "Python 3 (ipykernel)",
   "language": "python",
   "name": "python3"
  },
  "language_info": {
   "codemirror_mode": {
    "name": "ipython",
    "version": 3
   },
   "file_extension": ".py",
   "mimetype": "text/x-python",
   "name": "python",
   "nbconvert_exporter": "python",
   "pygments_lexer": "ipython3",
   "version": "3.9.13"
  }
 },
 "nbformat": 4,
 "nbformat_minor": 5
}
