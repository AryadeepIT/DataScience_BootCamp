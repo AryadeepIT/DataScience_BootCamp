{
 "cells": [
  {
   "cell_type": "code",
   "execution_count": 1,
   "id": "557e69b3",
   "metadata": {},
   "outputs": [
    {
     "name": "stdout",
     "output_type": "stream",
     "text": [
      "10\n",
      "20\n"
     ]
    }
   ],
   "source": [
    "def fun(l):\n",
    "    for x in l:\n",
    "        print(x)\n",
    "fun([10, 20])"
   ]
  },
  {
   "cell_type": "code",
   "execution_count": 1,
   "id": "b3f54efc",
   "metadata": {},
   "outputs": [
    {
     "name": "stdout",
     "output_type": "stream",
     "text": [
      "101\n",
      "Aryadeep\n",
      "102\n",
      "Rahul\n",
      "30000\n"
     ]
    }
   ],
   "source": [
    "# method overriding\n",
    "\n",
    "class Employee:\n",
    "    def __init__(self, id, name):\n",
    "        self.id = id\n",
    "        self.name= name\n",
    "    def printDetails(self):\n",
    "        print(self.id)\n",
    "        print(self.name)\n",
    "        \n",
    "class SalesEmployee(Employee):\n",
    "    def __init__(self, id, name, si):\n",
    "        super().__init__(id, name)\n",
    "        self.salesInc = si\n",
    "    def printDetails(self):\n",
    "        super().printDetails()\n",
    "        print(self.salesInc)\n",
    "        \n",
    "el = [Employee(101, \"Aryadeep\"), SalesEmployee(102, \"Rahul\", 30000)]\n",
    "for x in el:\n",
    "    x.printDetails()"
   ]
  },
  {
   "cell_type": "code",
   "execution_count": 5,
   "id": "69488096",
   "metadata": {},
   "outputs": [
    {
     "name": "stdout",
     "output_type": "stream",
     "text": [
      "fun() of Director \n",
      "fun() of customer\n"
     ]
    }
   ],
   "source": [
    "class Director:\n",
    "    def fun(self):\n",
    "        print(\"fun() of Director \")\n",
    "class Customer:\n",
    "    def fun(self):\n",
    "        print(\"fun() of customer\")\n",
    "        \n",
    "l = [Director(), Customer()]\n",
    "for i in l:\n",
    "    i.fun()"
   ]
  },
  {
   "cell_type": "code",
   "execution_count": 8,
   "id": "15a0c441",
   "metadata": {},
   "outputs": [
    {
     "name": "stdout",
     "output_type": "stream",
     "text": [
      "8\n",
      "4\n"
     ]
    }
   ],
   "source": [
    "# inbuilt polymorphic functions - len, type, id\n",
    "print(len(\"Aryadeep\"))\n",
    "print(len([10, 20, 30, 40]))"
   ]
  },
  {
   "cell_type": "code",
   "execution_count": 9,
   "id": "2e1047a2",
   "metadata": {},
   "outputs": [
    {
     "name": "stdout",
     "output_type": "stream",
     "text": [
      "5\n",
      "AryadeepChakraborty\n",
      "True\n",
      "False\n",
      "6\n",
      "aryaarya\n"
     ]
    }
   ],
   "source": [
    "# polymorphic operators\n",
    "print(3+2)\n",
    "print(\"Aryadeep\"+\"Chakraborty\")\n",
    "print(10<100)\n",
    "print(\"geeks\"<\"for\")\n",
    "print(3*2)\n",
    "print(\"arya\"*2)"
   ]
  },
  {
   "cell_type": "code",
   "execution_count": 10,
   "id": "39a7912f",
   "metadata": {},
   "outputs": [
    {
     "name": "stdout",
     "output_type": "stream",
     "text": [
      "1000\n"
     ]
    }
   ],
   "source": [
    "# Operator overloading\n",
    "\n",
    "class Product:\n",
    "    def __init__(self, name, price):\n",
    "        self.name = name\n",
    "        self.price = price\n",
    "    def __add__(self, other):\n",
    "        return self.price + other.price\n",
    "    \n",
    "p1 = Product(\"Keyboard\", 600)\n",
    "p2 = Product(\"Mouse\", 400)\n",
    "print(p1+p2)"
   ]
  },
  {
   "cell_type": "code",
   "execution_count": 15,
   "id": "85590d8f",
   "metadata": {},
   "outputs": [],
   "source": [
    "# more operator can not be overloaded (Dunder/magic method)"
   ]
  },
  {
   "cell_type": "raw",
   "id": "6c8b7061",
   "metadata": {},
   "source": [
    "__lt__(self, other)  # overloads less than operator\n",
    "__le__(self, other)  # overloads less than equal to operator\n",
    "__eq__(self, other)  # overloads equal to operator\n",
    "__ne__(self, other)  # overloads not equal to operator\n",
    "__gt__(self, other)  # overloads greater than operator\n",
    "__ge__(self, other)  # overloads greater than equal to operator\n",
    "__sub__(self, other) # overloads subtraction operator\n",
    "__mul__(self, other) # overloads multiplication operator"
   ]
  },
  {
   "cell_type": "code",
   "execution_count": null,
   "id": "b34da4b1",
   "metadata": {},
   "outputs": [],
   "source": []
  }
 ],
 "metadata": {
  "kernelspec": {
   "display_name": "Python 3 (ipykernel)",
   "language": "python",
   "name": "python3"
  },
  "language_info": {
   "codemirror_mode": {
    "name": "ipython",
    "version": 3
   },
   "file_extension": ".py",
   "mimetype": "text/x-python",
   "name": "python",
   "nbconvert_exporter": "python",
   "pygments_lexer": "ipython3",
   "version": "3.9.13"
  }
 },
 "nbformat": 4,
 "nbformat_minor": 5
}
