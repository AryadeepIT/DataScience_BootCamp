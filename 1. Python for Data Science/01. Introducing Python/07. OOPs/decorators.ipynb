{
 "cells": [
  {
   "cell_type": "code",
   "execution_count": 4,
   "id": "adfa8bb2",
   "metadata": {
    "scrolled": true
   },
   "outputs": [
    {
     "name": "stdout",
     "output_type": "stream",
     "text": [
      "Inside fun1\n",
      "\n",
      "Inside fun2\n",
      "Inside fun1\n"
     ]
    }
   ],
   "source": [
    "# functions assigned to a variable and passed as parameter\n",
    "\n",
    "def fun1():\n",
    "    print(\"Inside fun1\")\n",
    "    \n",
    "def fun2(f):\n",
    "    print(\"Inside fun2\")\n",
    "    f()\n",
    "    \n",
    "f = fun1\n",
    "f()\n",
    "print()\n",
    "fun2(f)"
   ]
  },
  {
   "cell_type": "code",
   "execution_count": 5,
   "id": "6c0c23f4",
   "metadata": {},
   "outputs": [
    {
     "name": "stdout",
     "output_type": "stream",
     "text": [
      "Inside fun2\n",
      "inside fun1\n"
     ]
    }
   ],
   "source": [
    "# function inside a function\n",
    "\n",
    "def fun2():\n",
    "    print(\"Inside fun2\")\n",
    "    def fun1():\n",
    "        print(\"inside fun1\")\n",
    "    fun1()\n",
    "    \n",
    "fun2()"
   ]
  },
  {
   "cell_type": "code",
   "execution_count": 6,
   "id": "df71c834",
   "metadata": {},
   "outputs": [
    {
     "name": "stdout",
     "output_type": "stream",
     "text": [
      "Welcome\n",
      "user\n"
     ]
    }
   ],
   "source": [
    "# an example decorator\n",
    "\n",
    "def decFun(f):\n",
    "    def innerFun():\n",
    "        print(\"Welcome\")\n",
    "        f()\n",
    "    return innerFun\n",
    "\n",
    "def fun():\n",
    "    print(\"user\")\n",
    "\n",
    "fun = decFun(fun)\n",
    "fun()"
   ]
  },
  {
   "cell_type": "code",
   "execution_count": 7,
   "id": "860639b8",
   "metadata": {},
   "outputs": [
    {
     "name": "stdout",
     "output_type": "stream",
     "text": [
      "Welcome\n",
      "user\n"
     ]
    }
   ],
   "source": [
    "# short syntax of decorator\n",
    "def decFun(f):\n",
    "    def innerFun():\n",
    "        print(\"Welcome\")\n",
    "        f()\n",
    "    return innerFun\n",
    "\n",
    "@decFun\n",
    "def fun():\n",
    "    print(\"user\")\n",
    "\n",
    "fun()"
   ]
  },
  {
   "cell_type": "code",
   "execution_count": null,
   "id": "4f2c89a7",
   "metadata": {},
   "outputs": [],
   "source": []
  }
 ],
 "metadata": {
  "kernelspec": {
   "display_name": "Python 3 (ipykernel)",
   "language": "python",
   "name": "python3"
  },
  "language_info": {
   "codemirror_mode": {
    "name": "ipython",
    "version": 3
   },
   "file_extension": ".py",
   "mimetype": "text/x-python",
   "name": "python",
   "nbconvert_exporter": "python",
   "pygments_lexer": "ipython3",
   "version": "3.9.13"
  }
 },
 "nbformat": 4,
 "nbformat_minor": 5
}
