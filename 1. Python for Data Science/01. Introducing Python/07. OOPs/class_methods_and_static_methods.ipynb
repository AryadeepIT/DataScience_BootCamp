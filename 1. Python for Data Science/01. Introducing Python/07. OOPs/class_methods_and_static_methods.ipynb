{
 "cells": [
  {
   "cell_type": "code",
   "execution_count": 9,
   "id": "7f51fedd",
   "metadata": {},
   "outputs": [
    {
     "name": "stdout",
     "output_type": "stream",
     "text": [
      "Sanchita Beauty Production\n",
      "Sanchita Beauty Production\n"
     ]
    }
   ],
   "source": [
    "class Employee:\n",
    "    compName = \"Aryadeep IT Solutions\"\n",
    "    \n",
    "    def __init__(self, name, age):\n",
    "        self.name = name\n",
    "        self.age = age\n",
    "        \n",
    "    @classmethod\n",
    "    def setCompName(cls, cName):\n",
    "        cls.compName = cName\n",
    "        \n",
    "Employee.setCompName(\"Sanchita Beauty Production\")\n",
    "print(Employee.compName)\n",
    "e = Employee(\"Aryadeep\", 23)\n",
    "print(e.compName)"
   ]
  },
  {
   "cell_type": "code",
   "execution_count": 10,
   "id": "3cfe8214",
   "metadata": {},
   "outputs": [
    {
     "name": "stdout",
     "output_type": "stream",
     "text": [
      "Aryadeep\n",
      "24\n"
     ]
    }
   ],
   "source": [
    "# class method to create instance\n",
    "import time\n",
    "from datetime import date\n",
    "\n",
    "class Employee:    \n",
    "    def __init__(self, name, age):\n",
    "        self.name = name\n",
    "        self.age = age\n",
    "        \n",
    "    @classmethod\n",
    "    def getFromBirthYear(cls, name, year):\n",
    "        return cls(name, date.today().year - year)\n",
    "        \n",
    "e = Employee.getFromBirthYear(\"Aryadeep\", 1999)\n",
    "print(e.name)\n",
    "print(e.age)"
   ]
  },
  {
   "cell_type": "code",
   "execution_count": 17,
   "id": "ed2c076e",
   "metadata": {},
   "outputs": [
    {
     "name": "stdout",
     "output_type": "stream",
     "text": [
      "Aryadeep\n",
      "23\n",
      "True\n",
      "True\n"
     ]
    }
   ],
   "source": [
    "# static method\n",
    "\n",
    "class Person:\n",
    "    def __init__(self, name, age):\n",
    "        self.name = name\n",
    "        self.age = age\n",
    "    @staticmethod\n",
    "    def isAdult(age):\n",
    "        return (age>18)\n",
    "    def printDetails(self):\n",
    "        print(self.name)\n",
    "        print(self.age)\n",
    "        print(self.__class__.isAdult(23))\n",
    "        \n",
    "p = Person(\"Aryadeep\", 23)\n",
    "p.printDetails()\n",
    "print(Person.isAdult(24))"
   ]
  },
  {
   "cell_type": "code",
   "execution_count": null,
   "id": "bed350b9",
   "metadata": {},
   "outputs": [],
   "source": []
  }
 ],
 "metadata": {
  "kernelspec": {
   "display_name": "Python 3 (ipykernel)",
   "language": "python",
   "name": "python3"
  },
  "language_info": {
   "codemirror_mode": {
    "name": "ipython",
    "version": 3
   },
   "file_extension": ".py",
   "mimetype": "text/x-python",
   "name": "python",
   "nbconvert_exporter": "python",
   "pygments_lexer": "ipython3",
   "version": "3.9.13"
  }
 },
 "nbformat": 4,
 "nbformat_minor": 5
}
