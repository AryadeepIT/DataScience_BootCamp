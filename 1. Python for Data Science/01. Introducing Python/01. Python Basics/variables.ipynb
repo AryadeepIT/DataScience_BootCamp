{
 "cells": [
  {
   "cell_type": "code",
   "execution_count": 1,
   "id": "25de831c",
   "metadata": {},
   "outputs": [],
   "source": [
    "age = 38\n",
    "name = \"Aryadeep\"\n",
    "weight = 58.5"
   ]
  },
  {
   "cell_type": "code",
   "execution_count": 2,
   "id": "ba67db57",
   "metadata": {},
   "outputs": [
    {
     "name": "stdout",
     "output_type": "stream",
     "text": [
      "38\n",
      "Aryadeep\n",
      "58.5\n"
     ]
    }
   ],
   "source": [
    "print(age)\n",
    "print(name)\n",
    "print(weight)"
   ]
  },
  {
   "cell_type": "code",
   "execution_count": 3,
   "id": "7c0a04bc",
   "metadata": {},
   "outputs": [
    {
     "name": "stdout",
     "output_type": "stream",
     "text": [
      "118\n"
     ]
    }
   ],
   "source": [
    "price = 100\n",
    "tax = 18\n",
    "total_price = price + tax\n",
    "print(total_price)"
   ]
  },
  {
   "cell_type": "code",
   "execution_count": 4,
   "id": "59194d9f",
   "metadata": {},
   "outputs": [
    {
     "name": "stdout",
     "output_type": "stream",
     "text": [
      "10 geek 20 30\n"
     ]
    }
   ],
   "source": [
    "x = 10\n",
    "y = \"geek\"\n",
    "z = 20\n",
    "w = z\n",
    "w = 30\n",
    "print(x, y, z, w)"
   ]
  },
  {
   "cell_type": "code",
   "execution_count": 5,
   "id": "77a784d6",
   "metadata": {},
   "outputs": [
    {
     "name": "stdout",
     "output_type": "stream",
     "text": [
      "10\n",
      "geek\n"
     ]
    }
   ],
   "source": [
    "x = 10\n",
    "print(x)\n",
    "x = \"geek\"\n",
    "print(x)"
   ]
  },
  {
   "cell_type": "code",
   "execution_count": 6,
   "id": "69fc5111",
   "metadata": {},
   "outputs": [],
   "source": [
    "is_valid = True\n",
    "marks = 90\n",
    "pi = 3.14\n",
    "city_name = \"Kolkata\""
   ]
  },
  {
   "cell_type": "code",
   "execution_count": 7,
   "id": "a7c82f28",
   "metadata": {},
   "outputs": [
    {
     "name": "stdout",
     "output_type": "stream",
     "text": [
      "True\n",
      "90\n",
      "3.14\n",
      "Kolkata\n"
     ]
    }
   ],
   "source": [
    "print(is_valid)\n",
    "print(marks)\n",
    "print(pi)\n",
    "print(city_name)"
   ]
  },
  {
   "cell_type": "code",
   "execution_count": 8,
   "id": "3d238de4",
   "metadata": {},
   "outputs": [
    {
     "ename": "NameError",
     "evalue": "name 'nd' is not defined",
     "output_type": "error",
     "traceback": [
      "\u001b[1;31m---------------------------------------------------------------------------\u001b[0m",
      "\u001b[1;31mNameError\u001b[0m                                 Traceback (most recent call last)",
      "\u001b[1;32m~\\AppData\\Local\\Temp\\ipykernel_12088\\1268948723.py\u001b[0m in \u001b[0;36m<module>\u001b[1;34m\u001b[0m\n\u001b[1;32m----> 1\u001b[1;33m \u001b[0mprint\u001b[0m\u001b[1;33m(\u001b[0m\u001b[0mnd\u001b[0m\u001b[1;33m)\u001b[0m \u001b[1;31m# nameError\u001b[0m\u001b[1;33m\u001b[0m\u001b[1;33m\u001b[0m\u001b[0m\n\u001b[0m",
      "\u001b[1;31mNameError\u001b[0m: name 'nd' is not defined"
     ]
    }
   ],
   "source": [
    "print(nd) # nameError"
   ]
  },
  {
   "cell_type": "code",
   "execution_count": null,
   "id": "251d092f",
   "metadata": {},
   "outputs": [],
   "source": []
  }
 ],
 "metadata": {
  "kernelspec": {
   "display_name": "Python 3 (ipykernel)",
   "language": "python",
   "name": "python3"
  },
  "language_info": {
   "codemirror_mode": {
    "name": "ipython",
    "version": 3
   },
   "file_extension": ".py",
   "mimetype": "text/x-python",
   "name": "python",
   "nbconvert_exporter": "python",
   "pygments_lexer": "ipython3",
   "version": "3.9.13"
  }
 },
 "nbformat": 4,
 "nbformat_minor": 5
}
