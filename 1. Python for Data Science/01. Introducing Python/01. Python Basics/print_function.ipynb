{
 "cells": [
  {
   "cell_type": "code",
   "execution_count": 1,
   "id": "3783c70f",
   "metadata": {},
   "outputs": [
    {
     "name": "stdout",
     "output_type": "stream",
     "text": [
      "Hello\n",
      "Welcome to MyWorld\n",
      "\n",
      "Hope you are enjoying python\n"
     ]
    }
   ],
   "source": [
    "print(\"Hello\")  # single string print\n",
    "\n",
    "print(\"Welcome\", \"to\", \"MyWorld\")  # multiple str print seperated by space\n",
    "\n",
    "print()  # printing new line\n",
    "\n",
    "print(\"Hope you are enjoying python\")  # multiple word, but single string seperated by space"
   ]
  },
  {
   "cell_type": "code",
   "execution_count": 3,
   "id": "f8f5637e",
   "metadata": {},
   "outputs": [
    {
     "name": "stdout",
     "output_type": "stream",
     "text": [
      "welcome to to MyWorld\n",
      "05-02-2023\n",
      "10+20+30 40 50\n"
     ]
    }
   ],
   "source": [
    "print(\"welcome to\", end=\" \")  # line will end with \" \", so no new line\n",
    "\n",
    "print(\"to MyWorld\")  # end is not given,by default new line\n",
    "\n",
    "print(\"05\", \"02\", \"2023\", sep='-')  # print param seperated by sep = '-'\n",
    "\n",
    "print(10, 20, 30, sep='+', end=\" \")  # print param seperated by sep = '+' and end with \" \" space\n",
    "\n",
    "print(40, 50)"
   ]
  },
  {
   "cell_type": "code",
   "execution_count": null,
   "id": "27fa0aff",
   "metadata": {},
   "outputs": [],
   "source": []
  }
 ],
 "metadata": {
  "kernelspec": {
   "display_name": "Python 3 (ipykernel)",
   "language": "python",
   "name": "python3"
  },
  "language_info": {
   "codemirror_mode": {
    "name": "ipython",
    "version": 3
   },
   "file_extension": ".py",
   "mimetype": "text/x-python",
   "name": "python",
   "nbconvert_exporter": "python",
   "pygments_lexer": "ipython3",
   "version": "3.9.13"
  }
 },
 "nbformat": 4,
 "nbformat_minor": 5
}
