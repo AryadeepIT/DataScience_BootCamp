{
 "cells": [
  {
   "cell_type": "code",
   "execution_count": 1,
   "id": "8506f17c",
   "metadata": {},
   "outputs": [
    {
     "name": "stdout",
     "output_type": "stream",
     "text": [
      "Enter your Name:Aryadeep\n",
      "Enter your age:80\n",
      "\n",
      "Welcome Aryadeep\n",
      "your age is: 80\n"
     ]
    }
   ],
   "source": [
    "name = input(\"Enter your Name:\")\n",
    "age = input(\"Enter your age:\")\n",
    "\n",
    "print()\n",
    "\n",
    "print(\"Welcome \" + name)\n",
    "print(\"your age is: \" + age)"
   ]
  },
  {
   "cell_type": "code",
   "execution_count": 2,
   "id": "5af0937f",
   "metadata": {},
   "outputs": [
    {
     "name": "stdout",
     "output_type": "stream",
     "text": [
      "Enter first Number:15\n",
      "Enter second Number:20\n",
      "\n",
      "sum is: 35\n"
     ]
    }
   ],
   "source": [
    "# addition of two number\n",
    "\n",
    "x = input(\"Enter first Number:\")  # input take str\n",
    "y = input(\"Enter second Number:\")\n",
    "\n",
    "x = int(x)  # converting str to int\n",
    "y = int(y)\n",
    "\n",
    "res = x + y\n",
    "\n",
    "print()\n",
    "\n",
    "print(\"sum is:\",res)"
   ]
  },
  {
   "cell_type": "code",
   "execution_count": 4,
   "id": "826bebd6",
   "metadata": {},
   "outputs": [
    {
     "name": "stdout",
     "output_type": "stream",
     "text": [
      "Enter first Number: \n",
      "56\n",
      "Enter second Number: \n",
      "20\n",
      "76\n"
     ]
    }
   ],
   "source": [
    "x = int(input(\"Enter first Number: \\n\"))  # input take str, converting str to int\n",
    "y = int(input(\"Enter second Number: \\n\"))\n",
    "\n",
    "\n",
    "res = x + y\n",
    "\n",
    "print(res)"
   ]
  },
  {
   "cell_type": "code",
   "execution_count": 5,
   "id": "7e520b22",
   "metadata": {},
   "outputs": [
    {
     "name": "stdout",
     "output_type": "stream",
     "text": [
      "42\n",
      "30\n",
      "sum is : 72\n"
     ]
    }
   ],
   "source": [
    "x=int(input())\n",
    "y=int(input())\n",
    "\n",
    "res = x+y\n",
    "\n",
    "print(\"sum is :\",res)"
   ]
  },
  {
   "cell_type": "code",
   "execution_count": null,
   "id": "d66b9703",
   "metadata": {},
   "outputs": [],
   "source": []
  }
 ],
 "metadata": {
  "kernelspec": {
   "display_name": "Python 3 (ipykernel)",
   "language": "python",
   "name": "python3"
  },
  "language_info": {
   "codemirror_mode": {
    "name": "ipython",
    "version": 3
   },
   "file_extension": ".py",
   "mimetype": "text/x-python",
   "name": "python",
   "nbconvert_exporter": "python",
   "pygments_lexer": "ipython3",
   "version": "3.9.13"
  }
 },
 "nbformat": 4,
 "nbformat_minor": 5
}
