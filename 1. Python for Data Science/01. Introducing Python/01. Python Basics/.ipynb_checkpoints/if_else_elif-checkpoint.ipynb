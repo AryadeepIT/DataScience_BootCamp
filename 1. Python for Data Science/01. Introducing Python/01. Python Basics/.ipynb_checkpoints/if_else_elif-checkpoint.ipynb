{
 "cells": [
  {
   "cell_type": "markdown",
   "id": "89dea7e5",
   "metadata": {},
   "source": [
    "## Even odd"
   ]
  },
  {
   "cell_type": "code",
   "execution_count": 1,
   "id": "83292dce",
   "metadata": {},
   "outputs": [
    {
     "name": "stdout",
     "output_type": "stream",
     "text": [
      "Enter a number:\n",
      "6\n",
      "Even\n"
     ]
    }
   ],
   "source": [
    "n = int(input(\"Enter a number:\\n\"))\n",
    "\n",
    "if n % 2 == 0:  # checking remainder \n",
    "    print(\"Even\")  # number is divisible by 2\n",
    "else:\n",
    "    print(\"odd\")"
   ]
  },
  {
   "cell_type": "code",
   "execution_count": 2,
   "id": "e789c271",
   "metadata": {},
   "outputs": [
    {
     "name": "stdout",
     "output_type": "stream",
     "text": [
      "Enter a number:\n",
      "7\n",
      "odd\n"
     ]
    }
   ],
   "source": [
    "n = int(input(\"Enter a number:\\n\"))\n",
    "\n",
    "if n % 2 == 0:  # checking remainder \n",
    "    print(\"Even\")  # number is divisible by 2\n",
    "else:\n",
    "    print(\"odd\")"
   ]
  },
  {
   "cell_type": "markdown",
   "id": "84c9d31b",
   "metadata": {},
   "source": [
    "## Negative positive zero"
   ]
  },
  {
   "cell_type": "code",
   "execution_count": 3,
   "id": "85e1f4c0",
   "metadata": {},
   "outputs": [
    {
     "name": "stdout",
     "output_type": "stream",
     "text": [
      "Enter a number:\n",
      "3\n",
      "Positive\n"
     ]
    }
   ],
   "source": [
    "n = int(input(\"Enter a number:\\n\"))\n",
    "\n",
    "if n>0:\n",
    "    print(\"Positive\")   # number is greater than zero\n",
    "\n",
    "elif n<0:\n",
    "    print(\"Negative\")   # number is less than zero\n",
    "\n",
    "else:\n",
    "    print(\"Zero\")"
   ]
  },
  {
   "cell_type": "markdown",
   "id": "48c497b3",
   "metadata": {},
   "source": [
    "## Nested if-else, +ve even, -ve even…………"
   ]
  },
  {
   "cell_type": "code",
   "execution_count": 4,
   "id": "4a4eba3d",
   "metadata": {},
   "outputs": [
    {
     "name": "stdout",
     "output_type": "stream",
     "text": [
      "Enter a number:\n",
      "-20\n",
      "negative even\n"
     ]
    }
   ],
   "source": [
    "n = int(input(\"Enter a number:\\n\"))\n",
    "\n",
    "if n > 0:\n",
    "    \n",
    "    print(\"Positive\", end=' ')\n",
    "\n",
    "    if n % 2 == 0:\n",
    "        \n",
    "        print(\"even\")  # number is +ve and even\n",
    "        \n",
    "    else:\n",
    "        \n",
    "        print(\"odd\")  # number is +ve and odd\n",
    "        \n",
    "\n",
    "elif n < 0:\n",
    "    \n",
    "    print(\"negative\", end=\" \")\n",
    "    \n",
    "\n",
    "    if n % 2 == 0:\n",
    "        \n",
    "        print(\"even\")       # number is -ve and even\n",
    "        \n",
    "    else:\n",
    "        \n",
    "        print(\"odd\")        # number is -ve and odd\n",
    "\n",
    "else:\n",
    "    \n",
    "    print(\"zero\")           # number is neither -ve nor +ve"
   ]
  }
 ],
 "metadata": {
  "kernelspec": {
   "display_name": "Python 3 (ipykernel)",
   "language": "python",
   "name": "python3"
  },
  "language_info": {
   "codemirror_mode": {
    "name": "ipython",
    "version": 3
   },
   "file_extension": ".py",
   "mimetype": "text/x-python",
   "name": "python",
   "nbconvert_exporter": "python",
   "pygments_lexer": "ipython3",
   "version": "3.9.13"
  }
 },
 "nbformat": 4,
 "nbformat_minor": 5
}
