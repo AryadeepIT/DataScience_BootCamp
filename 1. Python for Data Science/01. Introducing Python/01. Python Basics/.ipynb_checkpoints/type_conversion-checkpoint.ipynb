{
 "cells": [
  {
   "cell_type": "markdown",
   "id": "a5bc562c",
   "metadata": {},
   "source": [
    "## Implicit conversion"
   ]
  },
  {
   "cell_type": "code",
   "execution_count": 1,
   "id": "0fffb46d",
   "metadata": {},
   "outputs": [
    {
     "name": "stdout",
     "output_type": "stream",
     "text": [
      "11.5\n",
      "11\n"
     ]
    }
   ],
   "source": [
    "# implicit type conversion\n",
    "\n",
    "a = 10\n",
    "b = 1.5\n",
    "c = a + b  # a convert to float\n",
    "print(c)\n",
    "\n",
    "\n",
    "d = True\n",
    "e = a + d  # bool convert to 1 or 0\n",
    "print(e)"
   ]
  },
  {
   "cell_type": "markdown",
   "id": "30824f2d",
   "metadata": {},
   "source": [
    "## Explicit str to int float"
   ]
  },
  {
   "cell_type": "code",
   "execution_count": 2,
   "id": "2f74b1e4",
   "metadata": {},
   "outputs": [
    {
     "name": "stdout",
     "output_type": "stream",
     "text": [
      "145\n",
      "135.0\n"
     ]
    }
   ],
   "source": [
    "# explicit conversion\n",
    "\n",
    "s = '135'\n",
    "\n",
    "i = 10 + int(s)  # str to int conversion\n",
    "\n",
    "f = float(s)  # str to float conversion\n",
    "\n",
    "print(i)\n",
    "print(f)"
   ]
  },
  {
   "cell_type": "markdown",
   "id": "ebb3354c",
   "metadata": {},
   "source": [
    "## List ,tuple str conversion 1"
   ]
  },
  {
   "cell_type": "code",
   "execution_count": 4,
   "id": "7742769a",
   "metadata": {},
   "outputs": [
    {
     "name": "stdout",
     "output_type": "stream",
     "text": [
      "str to list ['a', 'r', 'y', 'a', 'd', 'e', 'e', 'p']\n",
      "str to tuple ('a', 'r', 'y', 'a', 'd', 'e', 'e', 'p')\n",
      " {'y', 'd', 'e', 'a', 'p', 'r'}\n"
     ]
    }
   ],
   "source": [
    "# explicit conversion\n",
    "\n",
    "s = 'aryadeep'\n",
    "\n",
    "print('str to list', list(s))\n",
    "\n",
    "print('str to tuple', tuple(s))\n",
    "\n",
    "print('', set(s))"
   ]
  },
  {
   "cell_type": "markdown",
   "id": "acf2fe13",
   "metadata": {},
   "source": [
    "## …… to str"
   ]
  },
  {
   "cell_type": "code",
   "execution_count": 5,
   "id": "6fd27004",
   "metadata": {},
   "outputs": [
    {
     "name": "stdout",
     "output_type": "stream",
     "text": [
      "list to str ['a', 'b', 'c']\n",
      "int to str, 1011\n",
      "float to str 12.5\n"
     ]
    }
   ],
   "source": [
    "l = ['a', 'b', 'c']\n",
    "\n",
    "print('list to str', str(l))\n",
    "\n",
    "a = 10\n",
    "\n",
    "b = 11\n",
    "\n",
    "print('int to str,', str(a) + str(b))\n",
    "\n",
    "c = 12.5\n",
    "\n",
    "print('float to str', str(c))\n"
   ]
  },
  {
   "cell_type": "markdown",
   "id": "85650b58",
   "metadata": {},
   "source": [
    "## ….. To list"
   ]
  },
  {
   "cell_type": "code",
   "execution_count": 6,
   "id": "eb7af347",
   "metadata": {},
   "outputs": [
    {
     "name": "stdout",
     "output_type": "stream",
     "text": [
      "tuple to list [10, 20, 30]\n",
      "set to list [10, 20, 30]\n"
     ]
    }
   ],
   "source": [
    "t = (10, 20, 30)\n",
    "\n",
    "print('tuple to list', list(t))\n",
    "\n",
    "s = {10, 20, 30}\n",
    "\n",
    "print('set to list', list(s))"
   ]
  },
  {
   "cell_type": "markdown",
   "id": "6d540f55",
   "metadata": {},
   "source": [
    "## Int to binary"
   ]
  },
  {
   "cell_type": "code",
   "execution_count": 7,
   "id": "7fe18e6c",
   "metadata": {},
   "outputs": [
    {
     "name": "stdout",
     "output_type": "stream",
     "text": [
      "int to binary 20--> 0b10100\n",
      "int to hexa 20--> 0x14\n",
      "int to octa 20--> 0o24\n"
     ]
    }
   ],
   "source": [
    "# int to binary\n",
    "\n",
    "a = 20\n",
    "\n",
    "print('int to binary 20-->', bin(a))\n",
    "\n",
    "print('int to hexa 20-->', hex(a))\n",
    "\n",
    "print('int to octa 20-->', oct(a))"
   ]
  },
  {
   "cell_type": "markdown",
   "id": "ce8a9a3e",
   "metadata": {},
   "source": [
    "## Binary to int"
   ]
  },
  {
   "cell_type": "code",
   "execution_count": 8,
   "id": "301f76b1",
   "metadata": {},
   "outputs": [
    {
     "name": "stdout",
     "output_type": "stream",
     "text": [
      "binary to int 9\n",
      "oct to int 10\n",
      "hexa to int 161\n"
     ]
    }
   ],
   "source": [
    "# int to binary\n",
    "\n",
    "a = \"1001\"\n",
    "\n",
    "print('binary to int', int(a, 2))  # base is 2\n",
    "\n",
    "b = \"12\"\n",
    "\n",
    "print('oct to int', int(b, 8))  # base is 8\n",
    "\n",
    "c = \"A1\"\n",
    "\n",
    "print('hexa to int', int(c, 16))    # base is 16"
   ]
  },
  {
   "cell_type": "code",
   "execution_count": null,
   "id": "6efc0151",
   "metadata": {},
   "outputs": [],
   "source": []
  }
 ],
 "metadata": {
  "kernelspec": {
   "display_name": "Python 3 (ipykernel)",
   "language": "python",
   "name": "python3"
  },
  "language_info": {
   "codemirror_mode": {
    "name": "ipython",
    "version": 3
   },
   "file_extension": ".py",
   "mimetype": "text/x-python",
   "name": "python",
   "nbconvert_exporter": "python",
   "pygments_lexer": "ipython3",
   "version": "3.9.13"
  }
 },
 "nbformat": 4,
 "nbformat_minor": 5
}
