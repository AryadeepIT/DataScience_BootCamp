{
 "cells": [
  {
   "cell_type": "markdown",
   "id": "5655abb1",
   "metadata": {},
   "source": [
    "## Int float complex"
   ]
  },
  {
   "cell_type": "code",
   "execution_count": 1,
   "id": "4e24d5d7",
   "metadata": {},
   "outputs": [
    {
     "name": "stdout",
     "output_type": "stream",
     "text": [
      "<class 'int'>\n",
      "<class 'float'>\n",
      "<class 'complex'>\n"
     ]
    }
   ],
   "source": [
    "a = 10\n",
    "print(type(a))\n",
    "\n",
    "b = 10.5\n",
    "print(type(b))\n",
    "\n",
    "c = 2 + 4j\n",
    "print(type(c))"
   ]
  },
  {
   "cell_type": "markdown",
   "id": "d142c60b",
   "metadata": {},
   "source": [
    "## Sequence type (list,str,tuple…)"
   ]
  },
  {
   "cell_type": "code",
   "execution_count": 2,
   "id": "427ca29e",
   "metadata": {},
   "outputs": [
    {
     "name": "stdout",
     "output_type": "stream",
     "text": [
      "<class 'str'>\n",
      "<class 'list'>\n",
      "<class 'tuple'>\n",
      "<class 'set'>\n",
      "<class 'dict'>\n"
     ]
    }
   ],
   "source": [
    "# sequence type\n",
    "\n",
    "str = \"gfg\"\n",
    "print(type(str))\n",
    "\n",
    "l = [10, 20, 30]\n",
    "print(type(l))\n",
    "\n",
    "t = (10, 20, 30)\n",
    "print(type(t))\n",
    "\n",
    "s = {10, 20, 30}\n",
    "print(type(s))\n",
    "\n",
    "d = {10: \"gfg\", 20: \"ide\"}\n",
    "print(type(d))"
   ]
  },
  {
   "cell_type": "code",
   "execution_count": null,
   "id": "0fdb519e",
   "metadata": {},
   "outputs": [],
   "source": []
  }
 ],
 "metadata": {
  "kernelspec": {
   "display_name": "Python 3 (ipykernel)",
   "language": "python",
   "name": "python3"
  },
  "language_info": {
   "codemirror_mode": {
    "name": "ipython",
    "version": 3
   },
   "file_extension": ".py",
   "mimetype": "text/x-python",
   "name": "python",
   "nbconvert_exporter": "python",
   "pygments_lexer": "ipython3",
   "version": "3.9.13"
  }
 },
 "nbformat": 4,
 "nbformat_minor": 5
}
