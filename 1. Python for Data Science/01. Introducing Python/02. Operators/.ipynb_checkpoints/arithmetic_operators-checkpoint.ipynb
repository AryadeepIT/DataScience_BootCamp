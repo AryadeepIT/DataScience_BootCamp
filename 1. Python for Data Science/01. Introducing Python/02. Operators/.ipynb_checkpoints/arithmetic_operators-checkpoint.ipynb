{
 "cells": [
  {
   "cell_type": "markdown",
   "id": "eb998158",
   "metadata": {},
   "source": [
    "## Mathematical operation"
   ]
  },
  {
   "cell_type": "code",
   "execution_count": 1,
   "id": "4ea41264",
   "metadata": {},
   "outputs": [
    {
     "name": "stdout",
     "output_type": "stream",
     "text": [
      "9 4\n",
      "addition: 13\n",
      "subtraction: 5\n",
      "multiplication: 36\n",
      "float division: 2.25\n",
      "integer division: 2\n",
      "remainder: 1\n",
      "power: 6561\n"
     ]
    }
   ],
   "source": [
    "x = 9\n",
    "y = 4\n",
    "\n",
    "print(x,y)\n",
    "\n",
    "print(\"addition:\", x + y)\n",
    "\n",
    "print(\"subtraction:\", x - y)\n",
    "\n",
    "print(\"multiplication:\", x * y)\n",
    "\n",
    "print(\"float division:\", x / y)\n",
    "\n",
    "print(\"integer division:\", x // y)\n",
    "\n",
    "print(\"remainder:\", x % y)\n",
    "\n",
    "print(\"power:\", x ** y)"
   ]
  },
  {
   "cell_type": "markdown",
   "id": "15a04dd6",
   "metadata": {},
   "source": [
    "## Negative float division"
   ]
  },
  {
   "cell_type": "code",
   "execution_count": 2,
   "id": "5770a77e",
   "metadata": {},
   "outputs": [
    {
     "name": "stdout",
     "output_type": "stream",
     "text": [
      " // gives  floor value of division -3\n",
      "// with float give float 2.0\n",
      "negative power  0.25\n"
     ]
    }
   ],
   "source": [
    "x = -5\n",
    "\n",
    "y = 2\n",
    "\n",
    "print(\" // gives  floor value of division\", x // 2)\n",
    "\n",
    "x = 5.0\n",
    "\n",
    "y = 2\n",
    "\n",
    "print(\"// with float give float\", x // y)\n",
    "\n",
    "x = 2\n",
    "y = -2\n",
    "\n",
    "print('negative power ',x ** y)\n"
   ]
  },
  {
   "cell_type": "markdown",
   "id": "bf54439f",
   "metadata": {},
   "source": [
    "## Precedence"
   ]
  },
  {
   "cell_type": "code",
   "execution_count": 3,
   "id": "9205c73a",
   "metadata": {},
   "outputs": [
    {
     "name": "stdout",
     "output_type": "stream",
     "text": [
      "* has higher precedence than + so 5+2*3 :- 11\n",
      " power has highest precedence than *,+ so 5+3*4**2 :-  53\n"
     ]
    }
   ],
   "source": [
    "print('* has higher precedence than + so 5+2*3 :-', 5 + 2 * 3)\n",
    "\n",
    "print(' power has highest precedence than *,+ so 5+3*4**2 :- ', 5 + 3 * 4 ** 2)"
   ]
  },
  {
   "cell_type": "markdown",
   "id": "647bd01b",
   "metadata": {},
   "source": [
    "## Associative and bracket"
   ]
  },
  {
   "cell_type": "code",
   "execution_count": 4,
   "id": "d164fe1a",
   "metadata": {},
   "outputs": [
    {
     "name": "stdout",
     "output_type": "stream",
     "text": [
      "+ and - has same precedence, here associative decide evaluation, left to right :- 7\n",
      " power has right to left associative, 2**2**-1 :-  1.4142135623730951\n",
      " if bracket is used associative and precedence ignored ((2**2)**-1):-  0.25\n"
     ]
    }
   ],
   "source": [
    "print('+ and - has same precedence, here associative decide evaluation, left to right :-', 5 + 4 - 2)\n",
    "\n",
    "print(' power has right to left associative, 2**2**-1 :- ', 2 ** 2 ** -1)\n",
    "\n",
    "print(' if bracket is used associative and precedence ignored ((2**2)**-1):- ', ((2 ** 2) ** -1))"
   ]
  },
  {
   "cell_type": "code",
   "execution_count": null,
   "id": "de9417e8",
   "metadata": {},
   "outputs": [],
   "source": []
  }
 ],
 "metadata": {
  "kernelspec": {
   "display_name": "Python 3 (ipykernel)",
   "language": "python",
   "name": "python3"
  },
  "language_info": {
   "codemirror_mode": {
    "name": "ipython",
    "version": 3
   },
   "file_extension": ".py",
   "mimetype": "text/x-python",
   "name": "python",
   "nbconvert_exporter": "python",
   "pygments_lexer": "ipython3",
   "version": "3.9.13"
  }
 },
 "nbformat": 4,
 "nbformat_minor": 5
}
