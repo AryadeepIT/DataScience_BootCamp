{
 "cells": [
  {
   "cell_type": "code",
   "execution_count": 1,
   "id": "1d59f268",
   "metadata": {},
   "outputs": [
    {
     "name": "stdout",
     "output_type": "stream",
     "text": [
      "Enter x:\n",
      "2304\n",
      "\n",
      "last digit is: 4\n"
     ]
    }
   ],
   "source": [
    "x = int(input(\"Enter x:\\n\"))    # nth\n",
    "\n",
    "ld = x%10   # remainder after dividing by 10\n",
    "\n",
    "print()\n",
    "\n",
    "print(\"last digit is:\",ld)"
   ]
  },
  {
   "cell_type": "code",
   "execution_count": null,
   "id": "4cbe2ece",
   "metadata": {},
   "outputs": [],
   "source": []
  }
 ],
 "metadata": {
  "kernelspec": {
   "display_name": "Python 3 (ipykernel)",
   "language": "python",
   "name": "python3"
  },
  "language_info": {
   "codemirror_mode": {
    "name": "ipython",
    "version": 3
   },
   "file_extension": ".py",
   "mimetype": "text/x-python",
   "name": "python",
   "nbconvert_exporter": "python",
   "pygments_lexer": "ipython3",
   "version": "3.9.13"
  }
 },
 "nbformat": 4,
 "nbformat_minor": 5
}
