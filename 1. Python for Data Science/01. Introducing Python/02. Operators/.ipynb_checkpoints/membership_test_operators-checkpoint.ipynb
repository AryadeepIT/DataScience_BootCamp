{
 "cells": [
  {
   "cell_type": "markdown",
   "id": "ea56d905",
   "metadata": {},
   "source": [
    "## In string"
   ]
  },
  {
   "cell_type": "code",
   "execution_count": 1,
   "id": "479a24b9",
   "metadata": {},
   "outputs": [
    {
     "name": "stdout",
     "output_type": "stream",
     "text": [
      "True\n",
      "True\n",
      "False\n"
     ]
    }
   ],
   "source": [
    "s = \"aryadeep\"\n",
    "\n",
    "print(\"a\" in s)  # checking for \"g\" in s\n",
    "\n",
    "print(\"deep\" in s)  # checking for \"for\" in s\n",
    "\n",
    "print(\"ps\" in s)"
   ]
  },
  {
   "cell_type": "markdown",
   "id": "f5efd821",
   "metadata": {},
   "source": [
    "## In dictionary"
   ]
  },
  {
   "cell_type": "code",
   "execution_count": 2,
   "id": "face8613",
   "metadata": {},
   "outputs": [
    {
     "name": "stdout",
     "output_type": "stream",
     "text": [
      "True\n",
      "False\n",
      "False\n"
     ]
    }
   ],
   "source": [
    "d = {10: \"abc\", 20: \"efg\"}\n",
    "\n",
    "print(10 in d)  # key 10 is in d\n",
    "\n",
    "print(15 in d)  # key 15 is not in d\n",
    "\n",
    "print(\"abc\" in d)  # in look for key, so key \"abc\" not in d"
   ]
  },
  {
   "cell_type": "markdown",
   "id": "0eaadd6d",
   "metadata": {},
   "source": [
    "## In list"
   ]
  },
  {
   "cell_type": "code",
   "execution_count": 3,
   "id": "c84bc551",
   "metadata": {},
   "outputs": [
    {
     "name": "stdout",
     "output_type": "stream",
     "text": [
      "True\n",
      "False\n"
     ]
    }
   ],
   "source": [
    "l = [10, 20, 30, 15]\n",
    "\n",
    "print(30 in l)  # 30 is in list l\n",
    "\n",
    "print([20, 30] in l)  # [20,30] is a list, which is not in l\n"
   ]
  },
  {
   "cell_type": "markdown",
   "id": "f3724a36",
   "metadata": {},
   "source": [
    "## Not in"
   ]
  },
  {
   "cell_type": "code",
   "execution_count": 4,
   "id": "b5778764",
   "metadata": {},
   "outputs": [
    {
     "name": "stdout",
     "output_type": "stream",
     "text": [
      "False\n",
      "True\n",
      "True\n"
     ]
    }
   ],
   "source": [
    "l = [10, 20, 30, 15]\n",
    "\n",
    "print(30 not in l)\n",
    "\n",
    "print(40 not in l)\n",
    "\n",
    "print([20, 30] not in l)"
   ]
  },
  {
   "cell_type": "code",
   "execution_count": null,
   "id": "2bc5d97a",
   "metadata": {},
   "outputs": [],
   "source": []
  }
 ],
 "metadata": {
  "kernelspec": {
   "display_name": "Python 3 (ipykernel)",
   "language": "python",
   "name": "python3"
  },
  "language_info": {
   "codemirror_mode": {
    "name": "ipython",
    "version": 3
   },
   "file_extension": ".py",
   "mimetype": "text/x-python",
   "name": "python",
   "nbconvert_exporter": "python",
   "pygments_lexer": "ipython3",
   "version": "3.9.13"
  }
 },
 "nbformat": 4,
 "nbformat_minor": 5
}
