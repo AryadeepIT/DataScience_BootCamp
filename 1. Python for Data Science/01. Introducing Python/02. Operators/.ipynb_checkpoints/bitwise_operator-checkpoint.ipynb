{
 "cells": [
  {
   "cell_type": "markdown",
   "id": "f9bca5b1",
   "metadata": {},
   "source": [
    "## Int to bin"
   ]
  },
  {
   "cell_type": "code",
   "execution_count": 1,
   "id": "c8096fde",
   "metadata": {},
   "outputs": [
    {
     "name": "stdout",
     "output_type": "stream",
     "text": [
      "0b10010\n",
      "0b1100\n",
      "18\n",
      "12\n"
     ]
    }
   ],
   "source": [
    "print(bin(18))\n",
    "print(bin(12))\n",
    "\n",
    "print(int(\"0b10010\", 2))  # binary to int\n",
    "\n",
    "print(int(\"0b1100\", 2))"
   ]
  },
  {
   "cell_type": "markdown",
   "id": "2200d16f",
   "metadata": {},
   "source": [
    "## Bitwise and ,or,xor"
   ]
  },
  {
   "cell_type": "code",
   "execution_count": 2,
   "id": "0e658c08",
   "metadata": {},
   "outputs": [
    {
     "name": "stdout",
     "output_type": "stream",
     "text": [
      "bitwise and: 3 & 6: 2\n",
      "bitwise or: 3 | 6: 7\n",
      "bitwise xor: 3 ^ 6: 5\n"
     ]
    }
   ],
   "source": [
    "x = 3\n",
    "y = 6\n",
    "# bitwise And : &\n",
    "\n",
    "print(\"bitwise and: 3 & 6:\", 3 & 6)\n",
    "\n",
    "# bitwise or : |\n",
    "\n",
    "print(\"bitwise or: 3 | 6:\", 3 | 6)\n",
    "\n",
    "# bitwise xor : ^\n",
    "\n",
    "print(\"bitwise xor: 3 ^ 6:\", 3 ^ 6)"
   ]
  },
  {
   "cell_type": "markdown",
   "id": "3c057eab",
   "metadata": {},
   "source": [
    "## Left shift"
   ]
  },
  {
   "cell_type": "code",
   "execution_count": 3,
   "id": "c6dfbe34",
   "metadata": {},
   "outputs": [
    {
     "name": "stdout",
     "output_type": "stream",
     "text": [
      "left shift: 5 by 1 10\n",
      "left shift: 5 by 2 20\n",
      "left shift:, 5 by 3 40\n"
     ]
    }
   ],
   "source": [
    "x = 5\n",
    "\n",
    "print(\"left shift: 5 by 1\", x << 1)   \n",
    "\n",
    "print(\"left shift: 5 by 2\", x << 2)\n",
    "\n",
    "print(\"left shift:, 5 by 3\", x << 3)"
   ]
  },
  {
   "cell_type": "markdown",
   "id": "fda262d8",
   "metadata": {},
   "source": [
    "## Right shift"
   ]
  },
  {
   "cell_type": "code",
   "execution_count": 4,
   "id": "d5645c6b",
   "metadata": {},
   "outputs": [
    {
     "name": "stdout",
     "output_type": "stream",
     "text": [
      "right shift: 5 by 1: 2\n",
      "right shift: 5 by 2: 1\n",
      "right shift:, 5 by 3: 0\n"
     ]
    }
   ],
   "source": [
    "x = 5\n",
    "\n",
    "print(\"right shift: 5 by 1:\", x >> 1)\n",
    "\n",
    "print(\"right shift: 5 by 2:\", x >> 2)\n",
    "\n",
    "print(\"right shift:, 5 by 3:\", x >> 3)"
   ]
  },
  {
   "cell_type": "markdown",
   "id": "c7f33681",
   "metadata": {},
   "source": [
    "## Bitwise not"
   ]
  },
  {
   "cell_type": "code",
   "execution_count": 5,
   "id": "3238cc19",
   "metadata": {},
   "outputs": [
    {
     "name": "stdout",
     "output_type": "stream",
     "text": [
      "bitwise not : ~5: -6\n"
     ]
    }
   ],
   "source": [
    "# bitwise not\n",
    "\n",
    "x = 5\n",
    "\n",
    "print(\"bitwise not : ~5:\", ~x)  # bitwise not"
   ]
  },
  {
   "cell_type": "code",
   "execution_count": null,
   "id": "e906431f",
   "metadata": {},
   "outputs": [],
   "source": []
  }
 ],
 "metadata": {
  "kernelspec": {
   "display_name": "Python 3 (ipykernel)",
   "language": "python",
   "name": "python3"
  },
  "language_info": {
   "codemirror_mode": {
    "name": "ipython",
    "version": 3
   },
   "file_extension": ".py",
   "mimetype": "text/x-python",
   "name": "python",
   "nbconvert_exporter": "python",
   "pygments_lexer": "ipython3",
   "version": "3.9.13"
  }
 },
 "nbformat": 4,
 "nbformat_minor": 5
}
