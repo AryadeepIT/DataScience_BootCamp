{
 "cells": [
  {
   "cell_type": "markdown",
   "id": "e7e7ad52",
   "metadata": {},
   "source": [
    "## by using formula"
   ]
  },
  {
   "cell_type": "code",
   "execution_count": 2,
   "id": "bb668fab",
   "metadata": {},
   "outputs": [
    {
     "name": "stdout",
     "output_type": "stream",
     "text": [
      "Enter n:\n",
      "5\n",
      "\n",
      "sum is: 15.0\n"
     ]
    }
   ],
   "source": [
    "n = int(input(\"Enter n:\\n\"))    # nth\n",
    "\n",
    "sum = n*(n+1)/2\n",
    "\n",
    "print()\n",
    "\n",
    "print(\"sum is:\",sum)"
   ]
  },
  {
   "cell_type": "markdown",
   "id": "57c5ce7b",
   "metadata": {},
   "source": []
  }
 ],
 "metadata": {
  "kernelspec": {
   "display_name": "Python 3 (ipykernel)",
   "language": "python",
   "name": "python3"
  },
  "language_info": {
   "codemirror_mode": {
    "name": "ipython",
    "version": 3
   },
   "file_extension": ".py",
   "mimetype": "text/x-python",
   "name": "python",
   "nbconvert_exporter": "python",
   "pygments_lexer": "ipython3",
   "version": "3.9.13"
  }
 },
 "nbformat": 4,
 "nbformat_minor": 5
}
