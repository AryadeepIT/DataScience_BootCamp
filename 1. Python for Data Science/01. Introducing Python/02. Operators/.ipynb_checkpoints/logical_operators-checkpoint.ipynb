{
 "cells": [
  {
   "cell_type": "markdown",
   "id": "6bcaf685",
   "metadata": {},
   "source": [
    "## And ,Or, Not"
   ]
  },
  {
   "cell_type": "code",
   "execution_count": 1,
   "id": "ee15dcde",
   "metadata": {},
   "outputs": [
    {
     "name": "stdout",
     "output_type": "stream",
     "text": [
      "and:- both should be true: a<b and b<c: True\n",
      "or: a<b or b>c: True\n",
      "not: a>b: True\n"
     ]
    }
   ],
   "source": [
    "a = 10\n",
    "b = 20\n",
    "c = 30\n",
    "\n",
    "print('and:- both should be true: a<b and b<c:', a < b and b < c)\n",
    "\n",
    "print('or: a<b or b>c:', a < b or b > c)\n",
    "\n",
    "print('not: a>b:',not a > b)"
   ]
  },
  {
   "cell_type": "markdown",
   "id": "20fc3919",
   "metadata": {},
   "source": [
    "## Container and bool"
   ]
  },
  {
   "cell_type": "code",
   "execution_count": 2,
   "id": "7148dc3b",
   "metadata": {},
   "outputs": [
    {
     "name": "stdout",
     "output_type": "stream",
     "text": [
      " in case of false, default value taken s2: defaultStr\n",
      " in case of true, default value taken l2: [1, 2, 3]\n"
     ]
    }
   ],
   "source": [
    "s1 = ''\n",
    "\n",
    "s2 = s1 or 'defaultStr'\n",
    "\n",
    "print(\" in case of false, default value taken s2:\", s2)\n",
    "\n",
    "l1 = []\n",
    "\n",
    "l2 = l1 or [1, 2, 3]\n",
    "\n",
    "print(\" in case of true, default value taken l2:\", l2)"
   ]
  },
  {
   "cell_type": "markdown",
   "id": "8eb1bd17",
   "metadata": {},
   "source": [
    "## Int value and bool"
   ]
  },
  {
   "cell_type": "code",
   "execution_count": 3,
   "id": "dd39a6d4",
   "metadata": {},
   "outputs": [
    {
     "name": "stdout",
     "output_type": "stream",
     "text": [
      " x or 30:  10\n",
      "y or 30 30\n",
      " z and 50: 50\n"
     ]
    }
   ],
   "source": [
    "x = 10\n",
    "\n",
    "print(\" x or 30: \", x or 30)  # in \"or\" if 1st value is true, 2nd not considered\n",
    "\n",
    "y = 0\n",
    "\n",
    "print(\"y or 30\", y or 30)  # \n",
    "\n",
    "z = 40\n",
    "\n",
    "print(\" z and 50:\", z and 50)  # in \"and\" value till last is considered,"
   ]
  },
  {
   "cell_type": "code",
   "execution_count": null,
   "id": "f46968cf",
   "metadata": {},
   "outputs": [],
   "source": []
  }
 ],
 "metadata": {
  "kernelspec": {
   "display_name": "Python 3 (ipykernel)",
   "language": "python",
   "name": "python3"
  },
  "language_info": {
   "codemirror_mode": {
    "name": "ipython",
    "version": 3
   },
   "file_extension": ".py",
   "mimetype": "text/x-python",
   "name": "python",
   "nbconvert_exporter": "python",
   "pygments_lexer": "ipython3",
   "version": "3.9.13"
  }
 },
 "nbformat": 4,
 "nbformat_minor": 5
}
