{
 "cells": [
  {
   "cell_type": "code",
   "execution_count": 1,
   "id": "86891033",
   "metadata": {},
   "outputs": [
    {
     "name": "stdout",
     "output_type": "stream",
     "text": [
      "Enter a:\n",
      "2\n",
      "Enter r:\n",
      "3\n",
      "Enter n:\n",
      "4\n",
      "\n",
      "nth term is 54\n"
     ]
    }
   ],
   "source": [
    "a = int(input(\"Enter a:\\n\"))    # first number\n",
    "r = int(input(\"Enter r:\\n\"))    # common ration\n",
    "n = int(input(\"Enter n:\\n\"))    # nth\n",
    "\n",
    "res = a*r**(n-1)\n",
    "\n",
    "print()\n",
    "\n",
    "print(\"nth term is\",res)"
   ]
  },
  {
   "cell_type": "code",
   "execution_count": null,
   "id": "3ef68f91",
   "metadata": {},
   "outputs": [],
   "source": []
  }
 ],
 "metadata": {
  "kernelspec": {
   "display_name": "Python 3 (ipykernel)",
   "language": "python",
   "name": "python3"
  },
  "language_info": {
   "codemirror_mode": {
    "name": "ipython",
    "version": 3
   },
   "file_extension": ".py",
   "mimetype": "text/x-python",
   "name": "python",
   "nbconvert_exporter": "python",
   "pygments_lexer": "ipython3",
   "version": "3.9.13"
  }
 },
 "nbformat": 4,
 "nbformat_minor": 5
}
