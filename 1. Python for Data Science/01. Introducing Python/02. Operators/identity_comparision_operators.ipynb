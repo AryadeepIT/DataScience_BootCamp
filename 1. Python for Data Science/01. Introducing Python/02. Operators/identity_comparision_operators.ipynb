{
 "cells": [
  {
   "cell_type": "markdown",
   "id": "655943a6",
   "metadata": {},
   "source": [
    "## String ,int ,float and id"
   ]
  },
  {
   "cell_type": "code",
   "execution_count": 1,
   "id": "ab052ca5",
   "metadata": {},
   "outputs": [
    {
     "name": "stdout",
     "output_type": "stream",
     "text": [
      "x and y has same address: True\n",
      "False\n",
      "x1 is x2: True\n",
      "y1 is y2: False\n",
      "z1 is z2 True\n"
     ]
    }
   ],
   "source": [
    "x = 10\n",
    "y = x\n",
    "print(\"x and y has same address:\", x is y)\n",
    "print(x is not y)\n",
    "\n",
    "x1 = 10\n",
    "x2 = 10\n",
    "\n",
    "y1 = 10.5\n",
    "y2 = 10.5\n",
    "\n",
    "z1 = \"aryadeep\"\n",
    "z2 = \"aryadeep\"\n",
    "\n",
    "print(\"x1 is x2:\",x1 is x2)     # python allocate same memory for same literal\n",
    "print(\"y1 is y2:\",y1 is y2)\n",
    "print(\"z1 is z2\", z1 is z2)"
   ]
  },
  {
   "cell_type": "markdown",
   "id": "7fec0977",
   "metadata": {},
   "source": [
    "## Container and id"
   ]
  },
  {
   "cell_type": "code",
   "execution_count": 2,
   "id": "f2fcad16",
   "metadata": {},
   "outputs": [
    {
     "name": "stdout",
     "output_type": "stream",
     "text": [
      "li is l2: False\n"
     ]
    }
   ],
   "source": [
    "l1 = [10, 20, 30]\n",
    "\n",
    "l2 = [10, 20, 30]\n",
    "\n",
    "print(\"li is l2:\", l1 is l2) # value is same but is give false. but in string and int it gives true"
   ]
  },
  {
   "cell_type": "code",
   "execution_count": null,
   "id": "a2cc03ac",
   "metadata": {},
   "outputs": [],
   "source": []
  }
 ],
 "metadata": {
  "kernelspec": {
   "display_name": "Python 3 (ipykernel)",
   "language": "python",
   "name": "python3"
  },
  "language_info": {
   "codemirror_mode": {
    "name": "ipython",
    "version": 3
   },
   "file_extension": ".py",
   "mimetype": "text/x-python",
   "name": "python",
   "nbconvert_exporter": "python",
   "pygments_lexer": "ipython3",
   "version": "3.9.13"
  }
 },
 "nbformat": 4,
 "nbformat_minor": 5
}
