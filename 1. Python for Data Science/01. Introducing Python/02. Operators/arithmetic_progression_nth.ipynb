{
 "cells": [
  {
   "cell_type": "markdown",
   "id": "5e052690",
   "metadata": {},
   "source": [
    "## Arithmetic Progression"
   ]
  },
  {
   "cell_type": "code",
   "execution_count": 1,
   "id": "4589be3c",
   "metadata": {},
   "outputs": [
    {
     "name": "stdout",
     "output_type": "stream",
     "text": [
      "Enter a:\n",
      "2\n",
      "Enter d:\n",
      "3\n",
      "Enter n:\n",
      "4\n",
      "\n",
      "nth term is 11\n"
     ]
    }
   ],
   "source": [
    "a = int(input(\"Enter a:\\n\"))    # first number\n",
    "d = int(input(\"Enter d:\\n\"))    # difference\n",
    "n = int(input(\"Enter n:\\n\"))    # nth\n",
    "\n",
    "res = a + (n - 1) * d\n",
    "\n",
    "print()\n",
    "\n",
    "print(\"nth term is\",res)"
   ]
  }
 ],
 "metadata": {
  "kernelspec": {
   "display_name": "Python 3 (ipykernel)",
   "language": "python",
   "name": "python3"
  },
  "language_info": {
   "codemirror_mode": {
    "name": "ipython",
    "version": 3
   },
   "file_extension": ".py",
   "mimetype": "text/x-python",
   "name": "python",
   "nbconvert_exporter": "python",
   "pygments_lexer": "ipython3",
   "version": "3.9.13"
  }
 },
 "nbformat": 4,
 "nbformat_minor": 5
}
