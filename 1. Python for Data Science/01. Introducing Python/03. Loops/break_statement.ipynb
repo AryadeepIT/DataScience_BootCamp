{
 "cells": [
  {
   "cell_type": "markdown",
   "id": "f2cc13d5",
   "metadata": {},
   "source": [
    "## Smallest divisor greater than 1"
   ]
  },
  {
   "cell_type": "code",
   "execution_count": 2,
   "id": "507721be",
   "metadata": {},
   "outputs": [
    {
     "name": "stdout",
     "output_type": "stream",
     "text": [
      "Enter n:\n",
      "6\n",
      "2\n"
     ]
    }
   ],
   "source": [
    "n = int(input(\"Enter n:\\n\"))\n",
    "\n",
    "for x in range(2, n + 1):\n",
    "    if n % x == 0:\n",
    "        print(x)\n",
    "        break\n",
    "    x=2\n"
   ]
  },
  {
   "cell_type": "code",
   "execution_count": 3,
   "id": "df02e6bc",
   "metadata": {},
   "outputs": [
    {
     "name": "stdout",
     "output_type": "stream",
     "text": [
      "Enter n:\n",
      "15\n",
      "3\n"
     ]
    }
   ],
   "source": [
    "# while loop\n",
    "n = int(input(\"Enter n:\\n\"))\n",
    "while x<=n:\n",
    "    if n%x ==0:\n",
    "        print(x)\n",
    "        break\n",
    "    x = x+1"
   ]
  },
  {
   "cell_type": "markdown",
   "id": "4696a6da",
   "metadata": {},
   "source": [
    "## Guess the output"
   ]
  },
  {
   "cell_type": "code",
   "execution_count": 4,
   "id": "acde4b19",
   "metadata": {},
   "outputs": [
    {
     "name": "stdout",
     "output_type": "stream",
     "text": [
      "1\n",
      "2\n",
      "3\n"
     ]
    }
   ],
   "source": [
    "i=1\n",
    "\n",
    "while i<=5:\n",
    "    \n",
    "    if i==3:\n",
    "        break\n",
    "    print(i)\n",
    "    \n",
    "    i=i+1\n",
    "\n",
    "print(i)"
   ]
  }
 ],
 "metadata": {
  "kernelspec": {
   "display_name": "Python 3 (ipykernel)",
   "language": "python",
   "name": "python3"
  },
  "language_info": {
   "codemirror_mode": {
    "name": "ipython",
    "version": 3
   },
   "file_extension": ".py",
   "mimetype": "text/x-python",
   "name": "python",
   "nbconvert_exporter": "python",
   "pygments_lexer": "ipython3",
   "version": "3.9.13"
  }
 },
 "nbformat": 4,
 "nbformat_minor": 5
}
