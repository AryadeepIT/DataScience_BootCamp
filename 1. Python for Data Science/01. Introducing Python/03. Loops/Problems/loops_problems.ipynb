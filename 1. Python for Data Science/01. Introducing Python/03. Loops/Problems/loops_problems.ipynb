{
 "cells": [
  {
   "cell_type": "markdown",
   "id": "43e8d464",
   "metadata": {},
   "source": [
    "### Q.1 - For Loop1\n",
    "You are given a number n, you need to print its multiplication table in a single line.\n",
    "\n",
    "Note: Please go through the range function in the video tutorial(for Python)."
   ]
  },
  {
   "cell_type": "code",
   "execution_count": 2,
   "id": "4d3d96fa",
   "metadata": {},
   "outputs": [
    {
     "name": "stdout",
     "output_type": "stream",
     "text": [
      "5\n",
      "5 10 15 20 25 30 35 40 45 50 "
     ]
    }
   ],
   "source": [
    "n=int(input())\n",
    "    ## in is a membership operator that is true if something is a member of sequence\n",
    "for i in range(1, 11,1): ## i in range(x,y,z) means i goes from x to y-1 and increments z steps in each iteration\n",
    "    print(i*n, end=\" \") ## Separating by spaces using end =\" \""
   ]
  },
  {
   "cell_type": "markdown",
   "id": "51bc2934",
   "metadata": {},
   "source": [
    "### Q.1 - For Loop2\n",
    "You are given a String S, you need to print its characters at even indices(index starts at 0)."
   ]
  },
  {
   "cell_type": "code",
   "execution_count": 3,
   "id": "30bce05a",
   "metadata": {},
   "outputs": [
    {
     "name": "stdout",
     "output_type": "stream",
     "text": [
      "Aryadeep\n",
      "Ayde"
     ]
    }
   ],
   "source": [
    "s=input().strip()\n",
    "    \n",
    "    \n",
    "for i in range(len(s)): ## from 0 to length of str and skip 2\n",
    "    if i %2 ==0:\n",
    "        print(s[i], end=\"\")##printing character and separating characters"
   ]
  },
  {
   "cell_type": "markdown",
   "id": "09bcb538",
   "metadata": {},
   "source": [
    "### Q.3 - While loop\n",
    "Given a number x, the task is to print the numbers from x to 0 in decreasing order in a single line."
   ]
  },
  {
   "cell_type": "code",
   "execution_count": 4,
   "id": "d5e6b0a3",
   "metadata": {},
   "outputs": [
    {
     "name": "stdout",
     "output_type": "stream",
     "text": [
      "3\n",
      "3 2 1 0 "
     ]
    }
   ],
   "source": [
    "x=int(input())\n",
    "    \n",
    "# Complete the code below\n",
    "while(x >= 0):\n",
    "        \n",
    "    # your statement below to print the number\n",
    "    # in decreasing order\n",
    "    # Note: use end=\" \" parameter with print to seperate numbers by space.\n",
    "    ##Output for testcases will automatically separated by a new line by the print() in driver code\n",
    "    print(x, end=\" \")\n",
    "        \n",
    "    x -= 1"
   ]
  },
  {
   "cell_type": "markdown",
   "id": "559a9544",
   "metadata": {},
   "source": [
    "### Q.4 - Table Difference\n",
    "Given two number n1 and n2, n1 > n2. Find the differences between mathematical tables of n1 and n2."
   ]
  },
  {
   "cell_type": "code",
   "execution_count": 9,
   "id": "eaf8a053",
   "metadata": {},
   "outputs": [
    {
     "name": "stdout",
     "output_type": "stream",
     "text": [
      "Type 1st Number : 9\n",
      "Type 2nd Number : 4\n",
      "5 10 15 20 25 30 35 40 45 50 "
     ]
    }
   ],
   "source": [
    "n1=int(input('Type 1st Number : '))\n",
    "n2=int(input('Type 2nd Number : '))\n",
    "for i in range(1 , 11):\n",
    "        print( n1*i-n2*i,end=' ')"
   ]
  },
  {
   "cell_type": "markdown",
   "id": "30f02741",
   "metadata": {},
   "source": [
    "### Q.5 - Print Square\n",
    "Given an integer S, write a program to print the square of size S using * character. "
   ]
  },
  {
   "cell_type": "raw",
   "id": "c2e17790",
   "metadata": {},
   "source": [
    "input : s=4\n",
    "\n",
    "* * * *\n",
    "*     *\n",
    "*     *\n",
    "* * * *"
   ]
  },
  {
   "cell_type": "code",
   "execution_count": 11,
   "id": "7adc730a",
   "metadata": {},
   "outputs": [
    {
     "name": "stdout",
     "output_type": "stream",
     "text": [
      "* * * * \n",
      "*     *\n",
      "*     *\n",
      "* * * * \n"
     ]
    }
   ],
   "source": [
    "s=4\n",
    "for i in range(s):\n",
    "    if i==0 :  \n",
    "        print('* '*s)\n",
    "    elif i !=(s-1) :\n",
    "        print('* '+'  '*(s-2)+'*') \n",
    "    else:  \n",
    "        print('* '*s)"
   ]
  },
  {
   "cell_type": "markdown",
   "id": "3f588ed8",
   "metadata": {},
   "source": [
    "### Q.6 - Print Square Wall\n",
    "Given an integer s,  write a program to print the square wall of size s using single loops. Use * character to make the wall.\n",
    "\n",
    "Note: Use string multiplication for Python.\n"
   ]
  },
  {
   "cell_type": "raw",
   "id": "1cbd6a2e",
   "metadata": {},
   "source": [
    "input : s=5\n",
    "\n",
    "* * * * *\n",
    "* * * * *\n",
    "* * * * *\n",
    "* * * * *\n",
    "* * * * *"
   ]
  },
  {
   "cell_type": "code",
   "execution_count": 12,
   "id": "0499f0b5",
   "metadata": {},
   "outputs": [
    {
     "name": "stdout",
     "output_type": "stream",
     "text": [
      "* * * * * \n",
      "* * * * * \n",
      "* * * * * \n",
      "* * * * * \n",
      "* * * * * \n"
     ]
    }
   ],
   "source": [
    "s=5\n",
    "for i in range(s):    \n",
    "    print('* '*s)"
   ]
  },
  {
   "cell_type": "markdown",
   "id": "dbb3ccc4",
   "metadata": {},
   "source": [
    "### Q.7 - Print Square Wall 2\n",
    "Given an integer s,  write a program to print a square wall of size s without using string multiplication. Use nested loops instead. The * character will make up the wall."
   ]
  },
  {
   "cell_type": "raw",
   "id": "635d54d1",
   "metadata": {},
   "source": [
    "input:\n",
    "s=5\n",
    "\n",
    "* * * * *\n",
    "* * * * *\n",
    "* * * * *\n",
    "* * * * *\n",
    "* * * * *\n",
    "\n",
    "Explanation:\n",
    "Its perfect square wall. "
   ]
  },
  {
   "cell_type": "code",
   "execution_count": 13,
   "id": "111dbb0b",
   "metadata": {},
   "outputs": [
    {
     "name": "stdout",
     "output_type": "stream",
     "text": [
      "* * * * * \n",
      "* * * * * \n",
      "* * * * * \n",
      "* * * * * \n",
      "* * * * * \n"
     ]
    }
   ],
   "source": [
    "s=5\n",
    "for i in range(s):   \n",
    "    for j in range(s):\n",
    "        print(\"* \",end='')\n",
    "    #This print below gives new line, so you don't have to.\n",
    "    print()"
   ]
  },
  {
   "cell_type": "markdown",
   "id": "d1b99c57",
   "metadata": {},
   "source": [
    "### Q.8 - Right Angle Triangle\n",
    "Given an integer s. Write a program to print the Right angle triangle wall. The length of perpendicular and base is s.  Use single loop and string multiplication."
   ]
  },
  {
   "cell_type": "raw",
   "id": "0e7544e5",
   "metadata": {},
   "source": [
    "input:\n",
    "s=4\n",
    "\n",
    "*\n",
    "* *\n",
    "* * *\n",
    "* * * *"
   ]
  },
  {
   "cell_type": "code",
   "execution_count": 14,
   "id": "dd653960",
   "metadata": {},
   "outputs": [
    {
     "name": "stdout",
     "output_type": "stream",
     "text": [
      "* \n",
      "* * \n",
      "* * * \n",
      "* * * * \n"
     ]
    }
   ],
   "source": [
    "s=4\n",
    "for i in range(1,s+1):    \n",
    "    print(\"* \"*i)"
   ]
  },
  {
   "cell_type": "markdown",
   "id": "79212eb2",
   "metadata": {},
   "source": [
    "### Q.9 - Right Angle Triangle 2\n",
    "Given an integer s. Write a program to print the Right angle triangle. The length of the perpendicular and base is s.  Use single loop and string multiplication."
   ]
  },
  {
   "cell_type": "raw",
   "id": "a328d334",
   "metadata": {},
   "source": [
    "input:\n",
    "s=9\n",
    "*\n",
    "*  *\n",
    "*    *\n",
    "*      *\n",
    "*        *\n",
    "*          *\n",
    "*            *\n",
    "*              *\n",
    "* * * * * * * * * "
   ]
  },
  {
   "cell_type": "code",
   "execution_count": 15,
   "id": "0ea9771d",
   "metadata": {},
   "outputs": [
    {
     "name": "stdout",
     "output_type": "stream",
     "text": [
      "*\n",
      "*  *\n",
      "*    *\n",
      "*      *\n",
      "*        *\n",
      "*          *\n",
      "*            *\n",
      "*              *\n",
      "* * * * * * * * * \n"
     ]
    }
   ],
   "source": [
    "s=9\n",
    "for i in range(s):\n",
    "    if i == 0 :   \n",
    "        print(\"*\")\n",
    "    elif i == s-1:\n",
    "        print(\"* \" * s)   \n",
    "    else:\n",
    "        print(\"*\", (\" \" * (i-1)) * 2, \"*\", sep=\" \" )"
   ]
  },
  {
   "cell_type": "markdown",
   "id": "0208f5e8",
   "metadata": {},
   "source": [
    "### Q.10 - Inverted Right AngleTriangle\n",
    "Given an integer s. Write a program to print the Inverted \"Right angle triangle\" wall. The length of the perpendicular and base is s.  Use a single loop and string multiplication."
   ]
  },
  {
   "cell_type": "raw",
   "id": "a481a32b",
   "metadata": {},
   "source": [
    "input:\n",
    "s = 4\n",
    "\n",
    "* * * * \n",
    "* * * \n",
    "* * \n",
    "* "
   ]
  },
  {
   "cell_type": "code",
   "execution_count": 16,
   "id": "ab75d2fa",
   "metadata": {},
   "outputs": [
    {
     "name": "stdout",
     "output_type": "stream",
     "text": [
      "* * * * \n",
      "* * * \n",
      "* * \n",
      "* \n"
     ]
    }
   ],
   "source": [
    "s = 4\n",
    "for i in range(s):\n",
    "    print('* '*(s-i))"
   ]
  },
  {
   "cell_type": "markdown",
   "id": "624f908c",
   "metadata": {},
   "source": [
    "### Q.11 - Inverted Right Angle Triangle 2\n",
    "Given an integer s. Write a program to print the Inverted \"Right angle triangle\" wall. The length of the perpendicular and base is s. Use double loop."
   ]
  },
  {
   "cell_type": "raw",
   "id": "05ed089b",
   "metadata": {},
   "source": [
    "input:\n",
    "s = 4\n",
    "\n",
    "* * * * \n",
    "* * * \n",
    "* * \n",
    "*"
   ]
  },
  {
   "cell_type": "code",
   "execution_count": 17,
   "id": "931d2c7e",
   "metadata": {},
   "outputs": [
    {
     "name": "stdout",
     "output_type": "stream",
     "text": [
      "* * * * \n",
      "* * * \n",
      "* * \n",
      "* \n"
     ]
    }
   ],
   "source": [
    "s=4\n",
    "\n",
    "for i in range(s):\n",
    "    for j in range(s-i):\n",
    "        print(\"* \",end='')\n",
    "    print()"
   ]
  },
  {
   "cell_type": "markdown",
   "id": "ee3b2712",
   "metadata": {},
   "source": [
    "### Q.12 - Sum of N Numbers\n",
    "Given an integer N find the sum of the first N natural number."
   ]
  },
  {
   "cell_type": "raw",
   "id": "aa379c4b",
   "metadata": {},
   "source": [
    "Input:\n",
    "N = 10\n",
    "Output: \n",
    "55\n",
    "Explanation:\n",
    "1 + 2 + 3 + 4 + 5 + 6 + 7 + 8 + 9 + 10 = 55."
   ]
  },
  {
   "cell_type": "code",
   "execution_count": 18,
   "id": "5e0da65f",
   "metadata": {},
   "outputs": [
    {
     "data": {
      "text/plain": [
       "55"
      ]
     },
     "execution_count": 18,
     "metadata": {},
     "output_type": "execute_result"
    }
   ],
   "source": [
    "def nSum(n):\n",
    "    \n",
    "    ans = 0\n",
    "    \n",
    "    #Write your code here to calculate and return sum of n number.\n",
    "    ans = (n*(n+1))//2\n",
    "    \n",
    "    \n",
    "    return ans\n",
    "\n",
    "nSum(10)"
   ]
  },
  {
   "cell_type": "markdown",
   "id": "d972f46f",
   "metadata": {},
   "source": [
    "### Q.13 - Factorial\n",
    "Given an integer N. Write a program to return the factorial of N.\n",
    "Note: 0 factorial is equal to 1."
   ]
  },
  {
   "cell_type": "raw",
   "id": "59cceeab",
   "metadata": {},
   "source": [
    "Input:\n",
    "N = 10\n",
    "Output: \n",
    "3628800\n",
    "Explanation:\n",
    "1*2*3*4*5*6*7*8*9*10 = 3628800 "
   ]
  },
  {
   "cell_type": "code",
   "execution_count": 19,
   "id": "cc695d3e",
   "metadata": {},
   "outputs": [
    {
     "data": {
      "text/plain": [
       "3628800"
      ]
     },
     "execution_count": 19,
     "metadata": {},
     "output_type": "execute_result"
    }
   ],
   "source": [
    "def nFactorial(n):\n",
    "    \n",
    "    ans = 1\n",
    "    \n",
    "    \n",
    "    #Write your code below\n",
    "    for i in range(n):\n",
    "        ans = ans*(n-i)\n",
    "    \n",
    "    \n",
    "    return ans\n",
    "\n",
    "nFactorial(10)"
   ]
  },
  {
   "cell_type": "markdown",
   "id": "a01caba1",
   "metadata": {},
   "source": [
    "### Q.14 - Divisor\n",
    "Given an integer N. Write a program to print all the divisors of N."
   ]
  },
  {
   "cell_type": "raw",
   "id": "ec5eefea",
   "metadata": {},
   "source": [
    "Input:\n",
    "N = 12\n",
    "Output: \n",
    "1 2 3 4 6 12\n",
    "Explanation:\n",
    "12 is divisible by 1 2 3 4 6 12."
   ]
  },
  {
   "cell_type": "code",
   "execution_count": 20,
   "id": "a90f94d3",
   "metadata": {},
   "outputs": [
    {
     "name": "stdout",
     "output_type": "stream",
     "text": [
      "1 2 3 4 6 12 "
     ]
    }
   ],
   "source": [
    "def divisor(n):\n",
    "    \n",
    "    # Complete the code given below\n",
    "    #Replace .... with your own code\n",
    "    \n",
    "    for i in range(1,n+1):\n",
    "        if n % i == 0 :\n",
    "            print(i, end = ' ')\n",
    "divisor(12)"
   ]
  },
  {
   "cell_type": "markdown",
   "id": "62b95648",
   "metadata": {},
   "source": [
    "### Q.15 - Check Prime\n",
    "Given an integer n check if n is prime or not.\n",
    "A prime number is a number that is divisible by 1 and itself only."
   ]
  },
  {
   "cell_type": "raw",
   "id": "552c84d9",
   "metadata": {},
   "source": [
    "Input:\n",
    "n = 17\n",
    "Output: \n",
    "True\n",
    "Explanation:\n",
    "17 is  divisible by  only 1 and 17.\n",
    "So it's a prime number."
   ]
  },
  {
   "cell_type": "code",
   "execution_count": 21,
   "id": "3ce94c71",
   "metadata": {},
   "outputs": [
    {
     "data": {
      "text/plain": [
       "True"
      ]
     },
     "execution_count": 21,
     "metadata": {},
     "output_type": "execute_result"
    }
   ],
   "source": [
    "def prime(n):\n",
    "    \n",
    "    # code here to check for prime.\n",
    "    # return True or False\n",
    "    flag = 0\n",
    "    if n<2:\n",
    "        flag=1\n",
    "    for i in range(2,n):\n",
    "        if n%i ==0:\n",
    "            flag=1\n",
    "            break\n",
    "    if flag!=1:\n",
    "        return True\n",
    "    else:\n",
    "        return False\n",
    "prime(17)"
   ]
  },
  {
   "cell_type": "markdown",
   "id": "69431f03",
   "metadata": {},
   "source": [
    "### Q.16 - Next Prime Number\n",
    "Given an integer n. Write a program to find the prime number next to n."
   ]
  },
  {
   "cell_type": "raw",
   "id": "3ce588fc",
   "metadata": {},
   "source": [
    "Input:\n",
    "n = 15\n",
    "Output: \n",
    "17\n",
    "Explanation:\n",
    "17 is next prime number."
   ]
  },
  {
   "cell_type": "code",
   "execution_count": 22,
   "id": "98064fb1",
   "metadata": {},
   "outputs": [
    {
     "data": {
      "text/plain": [
       "17"
      ]
     },
     "execution_count": 22,
     "metadata": {},
     "output_type": "execute_result"
    }
   ],
   "source": [
    "def nextPrime(n):\n",
    "    \n",
    "    # code here to find next prime number\n",
    "    # return next prime number\n",
    "    while n:\n",
    "        n = n + 1\n",
    "        for i in range(2,n+1):\n",
    "            if(n%i==0):\n",
    "                break\n",
    "        if(i==n):\n",
    "            return n\n",
    "        \n",
    "nextPrime(15)"
   ]
  },
  {
   "cell_type": "markdown",
   "id": "4d9ad79c",
   "metadata": {},
   "source": [
    "### Q.17 - Fibonacci Number\n",
    "Given an integer n. Write a program to find the nth Fibonacci number.\n",
    "The nth Fibonacci number is given by the forumla F(n)=F(n-1)+F(n-2). The first few fibonacci numbers are:\n",
    "1 1 2 3 5... and so on"
   ]
  },
  {
   "cell_type": "raw",
   "id": "3ddcf3de",
   "metadata": {},
   "source": [
    "Input:\n",
    "n = 4\n",
    "Output: \n",
    "3\n",
    "Explanation:\n",
    "In the series 1 1 2 3 5...... the fourth fibonacci number is 3."
   ]
  },
  {
   "cell_type": "code",
   "execution_count": 23,
   "id": "7da6eeca",
   "metadata": {},
   "outputs": [
    {
     "data": {
      "text/plain": [
       "3"
      ]
     },
     "execution_count": 23,
     "metadata": {},
     "output_type": "execute_result"
    }
   ],
   "source": [
    "def fibonacci(n):\n",
    "    \n",
    "    #Write your code below to calculate\n",
    "    #to calculate the nth fibonacci number\n",
    "    if n==0:\n",
    "        return 1\n",
    "    elif n==1:\n",
    "        return 1\n",
    "    else:\n",
    "        a=1\n",
    "        b=1\n",
    "        for i in range(1, n):\n",
    "            c = a+b\n",
    "            a = b\n",
    "            b = c\n",
    "        return a\n",
    "    \n",
    "fibonacci(4)"
   ]
  },
  {
   "cell_type": "markdown",
   "id": "1eb3b303",
   "metadata": {},
   "source": [
    "### Q.18 - GCD\n",
    "Given two numbers A and B. The task is to find the GCD of  A and B.\n",
    "The GCD of two numbers is the largest number that can divide both A and B perfectly."
   ]
  },
  {
   "cell_type": "raw",
   "id": "0ddc8913",
   "metadata": {},
   "source": [
    "Input:\n",
    "A = 6\n",
    "B = 9\n",
    "Output:\n",
    "3\n",
    "Explanation:\n",
    "After 3 there is no number that can\n",
    "divide both 6 and 9 perfectly."
   ]
  },
  {
   "cell_type": "code",
   "execution_count": 24,
   "id": "405e8e91",
   "metadata": {},
   "outputs": [
    {
     "data": {
      "text/plain": [
       "3"
      ]
     },
     "execution_count": 24,
     "metadata": {},
     "output_type": "execute_result"
    }
   ],
   "source": [
    "def gcd(a, b):\n",
    "    \n",
    "    # code here to calculate and return gcd of a and b\n",
    "    max1 = 0\n",
    "    for i in range(1, a+1):\n",
    "        if a%i==0 and b%i==0:\n",
    "            c = i\n",
    "    return c\n",
    "\n",
    "gcd(6, 9)"
   ]
  },
  {
   "cell_type": "markdown",
   "id": "4d40c3d0",
   "metadata": {},
   "source": [
    "### Q.19 - Capitalize and Count\n",
    "Given a string s.  Capitalize the first letter of all words and count the number of the words in the string."
   ]
  },
  {
   "cell_type": "raw",
   "id": "28de4d36",
   "metadata": {},
   "source": [
    "Input:\n",
    "s = \"welcome to the world of geeks\"\n",
    "Output: \n",
    "Welcome To The World Of Geeks\n",
    "6"
   ]
  },
  {
   "cell_type": "code",
   "execution_count": 25,
   "id": "747293f4",
   "metadata": {},
   "outputs": [
    {
     "name": "stdout",
     "output_type": "stream",
     "text": [
      "My Name Is Aryadeep\n",
      "4\n"
     ]
    }
   ],
   "source": [
    "def capCount(s):\n",
    "    \n",
    "    # Code here to print after captilizing first letter of all string\n",
    "    # and then print the count of number of words\n",
    "    # Your code should provide a new line after printing\n",
    "     spt = s.split(\" \")\n",
    "\n",
    "     lt2 = []\n",
    "\n",
    "     for i in spt :\n",
    "\n",
    "        lt2.append(i.title())\n",
    "\n",
    "     x = ' '.join(lt2)\n",
    "\n",
    "     y = len(lt2) \n",
    "\n",
    "     print(x)\n",
    "\n",
    "     print(y)\n",
    "        \n",
    "capCount(\"my name is aryadeep\")"
   ]
  }
 ],
 "metadata": {
  "kernelspec": {
   "display_name": "Python 3 (ipykernel)",
   "language": "python",
   "name": "python3"
  },
  "language_info": {
   "codemirror_mode": {
    "name": "ipython",
    "version": 3
   },
   "file_extension": ".py",
   "mimetype": "text/x-python",
   "name": "python",
   "nbconvert_exporter": "python",
   "pygments_lexer": "ipython3",
   "version": "3.9.13"
  }
 },
 "nbformat": 4,
 "nbformat_minor": 5
}
