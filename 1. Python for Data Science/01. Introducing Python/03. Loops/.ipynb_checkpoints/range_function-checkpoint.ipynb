{
 "cells": [
  {
   "cell_type": "markdown",
   "id": "af11f74c",
   "metadata": {},
   "source": [
    "## Range and list"
   ]
  },
  {
   "cell_type": "code",
   "execution_count": 1,
   "id": "6689017c",
   "metadata": {},
   "outputs": [
    {
     "name": "stdout",
     "output_type": "stream",
     "text": [
      "range(0, 5)\n"
     ]
    }
   ],
   "source": [
    "r = range(5)\n",
    "\n",
    "print(r)"
   ]
  },
  {
   "cell_type": "code",
   "execution_count": 2,
   "id": "c6987333",
   "metadata": {},
   "outputs": [
    {
     "name": "stdout",
     "output_type": "stream",
     "text": [
      "[0, 1, 2, 3, 4]\n"
     ]
    }
   ],
   "source": [
    "l = list(r)     # range to list\n",
    "print(l)"
   ]
  },
  {
   "cell_type": "markdown",
   "id": "518c1dc6",
   "metadata": {},
   "source": [
    "## Range with two parameter"
   ]
  },
  {
   "cell_type": "code",
   "execution_count": 3,
   "id": "f253885e",
   "metadata": {},
   "outputs": [
    {
     "name": "stdout",
     "output_type": "stream",
     "text": [
      "range(10, 20)\n",
      "[10, 11, 12, 13, 14, 15, 16, 17, 18, 19]\n",
      "\n"
     ]
    }
   ],
   "source": [
    "r = range(10,20)    # range with start and stop\n",
    "\n",
    "print(r)\n",
    "\n",
    "l = list(r)\n",
    "\n",
    "print(l)\n",
    "print()"
   ]
  },
  {
   "cell_type": "code",
   "execution_count": 4,
   "id": "65ce82ef",
   "metadata": {},
   "outputs": [
    {
     "name": "stdout",
     "output_type": "stream",
     "text": [
      "range(-2, 2)\n",
      "[-2, -1, 0, 1]\n"
     ]
    }
   ],
   "source": [
    "r = range(-2,2)\n",
    "    \n",
    "print(r)\n",
    "\n",
    "l = list(r)\n",
    "\n",
    "print(l)"
   ]
  },
  {
   "cell_type": "markdown",
   "id": "a1e365e1",
   "metadata": {},
   "source": [
    "## Range with three Parameter"
   ]
  },
  {
   "cell_type": "code",
   "execution_count": 5,
   "id": "5ccfdb0a",
   "metadata": {},
   "outputs": [
    {
     "name": "stdout",
     "output_type": "stream",
     "text": [
      "range(10, 20, 2)\n",
      "[10, 12, 14, 16, 18]\n",
      "\n"
     ]
    }
   ],
   "source": [
    "r = range(10,20,2)    # range with start and stop, and end\n",
    "\n",
    "print(r)\n",
    "\n",
    "l = list(r)\n",
    "\n",
    "print(l)\n",
    "print()"
   ]
  },
  {
   "cell_type": "markdown",
   "id": "4aad48bd",
   "metadata": {},
   "source": [
    "## Negative step"
   ]
  },
  {
   "cell_type": "code",
   "execution_count": 6,
   "id": "1988a4e3",
   "metadata": {},
   "outputs": [
    {
     "name": "stdout",
     "output_type": "stream",
     "text": [
      "range(20, 10, -2)\n",
      "[20, 18, 16, 14, 12]\n",
      "\n"
     ]
    }
   ],
   "source": [
    "r = range(20,10,-2)    # range with start and stop, and step\n",
    "\n",
    "print(r)\n",
    "\n",
    "l = list(r)\n",
    "\n",
    "print(l)\n",
    "print()"
   ]
  },
  {
   "cell_type": "code",
   "execution_count": 7,
   "id": "4e36c828",
   "metadata": {},
   "outputs": [
    {
     "name": "stdout",
     "output_type": "stream",
     "text": [
      "range(20, 10, -3)\n",
      "[20, 17, 14, 11]\n",
      "\n"
     ]
    }
   ],
   "source": [
    "r = range(20,10,-3)    # range with start and stop, and step\n",
    "\n",
    "print(r)\n",
    "\n",
    "l = list(r)\n",
    "\n",
    "print(l)\n",
    "print()"
   ]
  }
 ],
 "metadata": {
  "kernelspec": {
   "display_name": "Python 3 (ipykernel)",
   "language": "python",
   "name": "python3"
  },
  "language_info": {
   "codemirror_mode": {
    "name": "ipython",
    "version": 3
   },
   "file_extension": ".py",
   "mimetype": "text/x-python",
   "name": "python",
   "nbconvert_exporter": "python",
   "pygments_lexer": "ipython3",
   "version": "3.9.13"
  }
 },
 "nbformat": 4,
 "nbformat_minor": 5
}
