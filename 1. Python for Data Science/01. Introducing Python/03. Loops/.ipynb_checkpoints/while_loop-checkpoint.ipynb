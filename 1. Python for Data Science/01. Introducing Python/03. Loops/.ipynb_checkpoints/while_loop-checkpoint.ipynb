{
 "cells": [
  {
   "cell_type": "markdown",
   "id": "5a0bdc65",
   "metadata": {},
   "source": [
    "## Increment by 1"
   ]
  },
  {
   "cell_type": "code",
   "execution_count": 4,
   "id": "b313efbd",
   "metadata": {},
   "outputs": [
    {
     "name": "stdout",
     "output_type": "stream",
     "text": [
      "Aryadeep\n",
      "Aryadeep\n",
      "Aryadeep\n",
      "Aryadeep\n",
      "Aryadeep\n"
     ]
    }
   ],
   "source": [
    "i=0\n",
    "\n",
    "while i<5:      # will run for 0,1,2,3,4\n",
    "    print(\"Aryadeep\")\n",
    "    i =i+1"
   ]
  },
  {
   "cell_type": "code",
   "execution_count": 5,
   "id": "dcd4afbd",
   "metadata": {},
   "outputs": [
    {
     "name": "stdout",
     "output_type": "stream",
     "text": [
      "Sanchita\n",
      "Sanchita\n",
      "Sanchita\n",
      "Sanchita\n"
     ]
    }
   ],
   "source": [
    "i=1\n",
    "\n",
    "while i<5:      # will run for 1,2,3,4\n",
    "    print(\"Sanchita\")\n",
    "    i =i+1"
   ]
  },
  {
   "cell_type": "markdown",
   "id": "c43930af",
   "metadata": {},
   "source": [
    "## Run for n"
   ]
  },
  {
   "cell_type": "code",
   "execution_count": 6,
   "id": "79fe7d74",
   "metadata": {},
   "outputs": [
    {
     "name": "stdout",
     "output_type": "stream",
     "text": [
      "Enter n:\n",
      "3\n",
      "Chakraborty\n",
      "Chakraborty\n",
      "Chakraborty\n"
     ]
    }
   ],
   "source": [
    "n= int(input(\"Enter n:\\n\"))\n",
    "\n",
    "i=0\n",
    "while i<n:      # will run for 0,1,2,3,4...n-1\n",
    "    print(\"Chakraborty\")\n",
    "    i =i+1"
   ]
  }
 ],
 "metadata": {
  "kernelspec": {
   "display_name": "Python 3 (ipykernel)",
   "language": "python",
   "name": "python3"
  },
  "language_info": {
   "codemirror_mode": {
    "name": "ipython",
    "version": 3
   },
   "file_extension": ".py",
   "mimetype": "text/x-python",
   "name": "python",
   "nbconvert_exporter": "python",
   "pygments_lexer": "ipython3",
   "version": "3.9.13"
  }
 },
 "nbformat": 4,
 "nbformat_minor": 5
}
