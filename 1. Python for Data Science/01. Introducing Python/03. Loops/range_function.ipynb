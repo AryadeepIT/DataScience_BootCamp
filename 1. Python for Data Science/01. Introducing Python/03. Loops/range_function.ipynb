{
 "cells": [
  {
   "cell_type": "markdown",
   "id": "666f3474",
   "metadata": {},
   "source": [
    "## Range and list"
   ]
  },
  {
   "cell_type": "code",
   "execution_count": 8,
   "id": "d4a4d799",
   "metadata": {},
   "outputs": [
    {
     "name": "stdout",
     "output_type": "stream",
     "text": [
      "range(0, 5)\n",
      "<class 'type'>\n"
     ]
    }
   ],
   "source": [
    "r = range(5)\n",
    "\n",
    "print(r)\n",
    "print(type(range))"
   ]
  },
  {
   "cell_type": "code",
   "execution_count": 9,
   "id": "7271caf4",
   "metadata": {},
   "outputs": [
    {
     "name": "stdout",
     "output_type": "stream",
     "text": [
      "[0, 1, 2, 3, 4]\n"
     ]
    }
   ],
   "source": [
    "l = list(r)     # range to list\n",
    "print(l)"
   ]
  },
  {
   "cell_type": "markdown",
   "id": "756615b0",
   "metadata": {},
   "source": [
    "## Range with two parameter"
   ]
  },
  {
   "cell_type": "code",
   "execution_count": 10,
   "id": "67c20bf0",
   "metadata": {},
   "outputs": [
    {
     "name": "stdout",
     "output_type": "stream",
     "text": [
      "range(10, 20)\n",
      "[10, 11, 12, 13, 14, 15, 16, 17, 18, 19]\n",
      "\n"
     ]
    }
   ],
   "source": [
    "r = range(10,20)    # range with start and stop\n",
    "\n",
    "print(r)\n",
    "\n",
    "l = list(r)\n",
    "\n",
    "print(l)\n",
    "print()"
   ]
  },
  {
   "cell_type": "code",
   "execution_count": 11,
   "id": "a4579080",
   "metadata": {},
   "outputs": [
    {
     "name": "stdout",
     "output_type": "stream",
     "text": [
      "range(-2, 2)\n",
      "[-2, -1, 0, 1]\n"
     ]
    }
   ],
   "source": [
    "r = range(-2,2)\n",
    "    \n",
    "print(r)\n",
    "\n",
    "l = list(r)\n",
    "\n",
    "print(l)"
   ]
  },
  {
   "cell_type": "markdown",
   "id": "3afbd894",
   "metadata": {},
   "source": [
    "## Range with three Parameter"
   ]
  },
  {
   "cell_type": "code",
   "execution_count": 12,
   "id": "691b2252",
   "metadata": {},
   "outputs": [
    {
     "name": "stdout",
     "output_type": "stream",
     "text": [
      "range(10, 20, 2)\n",
      "[10, 12, 14, 16, 18]\n",
      "\n"
     ]
    }
   ],
   "source": [
    "r = range(10,20,2)    # range with start and stop, and end\n",
    "\n",
    "print(r)\n",
    "\n",
    "l = list(r)\n",
    "\n",
    "print(l)\n",
    "print()"
   ]
  },
  {
   "cell_type": "markdown",
   "id": "8b65ef0d",
   "metadata": {},
   "source": [
    "## Negative step"
   ]
  },
  {
   "cell_type": "code",
   "execution_count": 13,
   "id": "79841711",
   "metadata": {},
   "outputs": [
    {
     "name": "stdout",
     "output_type": "stream",
     "text": [
      "range(20, 10, -2)\n",
      "[20, 18, 16, 14, 12]\n",
      "\n"
     ]
    }
   ],
   "source": [
    "r = range(20,10,-2)    # range with start and stop, and step\n",
    "\n",
    "print(r)\n",
    "\n",
    "l = list(r)\n",
    "\n",
    "print(l)\n",
    "print()"
   ]
  },
  {
   "cell_type": "code",
   "execution_count": 14,
   "id": "7da8d02e",
   "metadata": {},
   "outputs": [
    {
     "name": "stdout",
     "output_type": "stream",
     "text": [
      "range(20, 10, -3)\n",
      "[20, 17, 14, 11]\n",
      "\n"
     ]
    }
   ],
   "source": [
    "r = range(20,10,-3)    # range with start and stop, and step\n",
    "\n",
    "print(r)\n",
    "\n",
    "l = list(r)\n",
    "\n",
    "print(l)\n",
    "print()"
   ]
  }
 ],
 "metadata": {
  "kernelspec": {
   "display_name": "Python 3 (ipykernel)",
   "language": "python",
   "name": "python3"
  },
  "language_info": {
   "codemirror_mode": {
    "name": "ipython",
    "version": 3
   },
   "file_extension": ".py",
   "mimetype": "text/x-python",
   "name": "python",
   "nbconvert_exporter": "python",
   "pygments_lexer": "ipython3",
   "version": "3.9.13"
  }
 },
 "nbformat": 4,
 "nbformat_minor": 5
}
