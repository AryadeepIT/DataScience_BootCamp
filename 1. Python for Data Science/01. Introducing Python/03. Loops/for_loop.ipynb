{
 "cells": [
  {
   "cell_type": "markdown",
   "id": "f6e985df",
   "metadata": {},
   "source": [
    "## In List and str"
   ]
  },
  {
   "cell_type": "code",
   "execution_count": 6,
   "id": "692b1267",
   "metadata": {},
   "outputs": [
    {
     "name": "stdout",
     "output_type": "stream",
     "text": [
      "10\n",
      "20\n",
      "30\n",
      "40\n",
      "\n"
     ]
    }
   ],
   "source": [
    "l = [10,20,30,40]\n",
    "\n",
    "for x in l:\n",
    "    print(x)\n",
    "print()"
   ]
  },
  {
   "cell_type": "code",
   "execution_count": 7,
   "id": "68f5c37c",
   "metadata": {},
   "outputs": [
    {
     "name": "stdout",
     "output_type": "stream",
     "text": [
      "A\n",
      "r\n",
      "y\n",
      "a\n"
     ]
    }
   ],
   "source": [
    "s = \"Arya\"\n",
    "\n",
    "for x in s:\n",
    "    print(x)"
   ]
  },
  {
   "cell_type": "markdown",
   "id": "9039fec7",
   "metadata": {},
   "source": [
    "## Range and for"
   ]
  },
  {
   "cell_type": "code",
   "execution_count": 3,
   "id": "c4f1e235",
   "metadata": {},
   "outputs": [
    {
     "name": "stdout",
     "output_type": "stream",
     "text": [
      "0\n",
      "1\n",
      "2\n",
      "3\n",
      "4\n"
     ]
    }
   ],
   "source": [
    "for x in range(5):\n",
    "    print(x)"
   ]
  },
  {
   "cell_type": "markdown",
   "id": "435fbcfd",
   "metadata": {},
   "source": [
    "## Number divisible by 6"
   ]
  },
  {
   "cell_type": "code",
   "execution_count": 4,
   "id": "fd03b5de",
   "metadata": {},
   "outputs": [
    {
     "name": "stdout",
     "output_type": "stream",
     "text": [
      "0\n",
      "6\n",
      "12\n",
      "18\n"
     ]
    }
   ],
   "source": [
    "for x in range(20):\n",
    "    \n",
    "    if x%6==0:\n",
    "        print(x)"
   ]
  },
  {
   "cell_type": "markdown",
   "id": "bc21770a",
   "metadata": {},
   "source": [
    "## For ,List index"
   ]
  },
  {
   "cell_type": "code",
   "execution_count": 9,
   "id": "e43a5d16",
   "metadata": {},
   "outputs": [
    {
     "name": "stdout",
     "output_type": "stream",
     "text": [
      "10\n",
      "20\n",
      "30\n",
      "40\n"
     ]
    }
   ],
   "source": [
    "l = [10,20,30,40]\n",
    "\n",
    "for i in range(len(l)):\n",
    "    print(l[i])             # using index to  access list"
   ]
  },
  {
   "cell_type": "code",
   "execution_count": 8,
   "id": "864016a4",
   "metadata": {},
   "outputs": [
    {
     "name": "stdout",
     "output_type": "stream",
     "text": [
      "\n",
      "0 10\n",
      "1 20\n",
      "2 30\n",
      "3 40\n"
     ]
    }
   ],
   "source": [
    "print()\n",
    "for i in range(len(l)):\n",
    "    print(i,l[i])   # print element in the index"
   ]
  }
 ],
 "metadata": {
  "kernelspec": {
   "display_name": "Python 3 (ipykernel)",
   "language": "python",
   "name": "python3"
  },
  "language_info": {
   "codemirror_mode": {
    "name": "ipython",
    "version": 3
   },
   "file_extension": ".py",
   "mimetype": "text/x-python",
   "name": "python",
   "nbconvert_exporter": "python",
   "pygments_lexer": "ipython3",
   "version": "3.9.13"
  }
 },
 "nbformat": 4,
 "nbformat_minor": 5
}
