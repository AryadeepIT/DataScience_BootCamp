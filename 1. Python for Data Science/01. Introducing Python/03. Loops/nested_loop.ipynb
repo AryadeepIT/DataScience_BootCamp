{
 "cells": [
  {
   "cell_type": "markdown",
   "id": "97b8b13f",
   "metadata": {},
   "source": [
    "## Table 1 to 10, for"
   ]
  },
  {
   "cell_type": "code",
   "execution_count": 1,
   "id": "844613d4",
   "metadata": {},
   "outputs": [
    {
     "name": "stdout",
     "output_type": "stream",
     "text": [
      "1 2 3 4 5 6 7 8 9 10 \n",
      "2 4 6 8 10 12 14 16 18 20 \n",
      "3 6 9 12 15 18 21 24 27 30 \n",
      "4 8 12 16 20 24 28 32 36 40 \n",
      "5 10 15 20 25 30 35 40 45 50 \n",
      "6 12 18 24 30 36 42 48 54 60 \n",
      "7 14 21 28 35 42 49 56 63 70 \n",
      "8 16 24 32 40 48 56 64 72 80 \n",
      "9 18 27 36 45 54 63 72 81 90 \n",
      "10 20 30 40 50 60 70 80 90 100 \n"
     ]
    }
   ],
   "source": [
    "for i in range(1,11):\n",
    "    for j in range(i,i*10+1,i):\n",
    "        print(j,end=' ')\n",
    "    print()"
   ]
  },
  {
   "cell_type": "markdown",
   "id": "5e1d7683",
   "metadata": {},
   "source": [
    "## While"
   ]
  },
  {
   "cell_type": "code",
   "execution_count": 2,
   "id": "63bcfa27",
   "metadata": {},
   "outputs": [
    {
     "name": "stdout",
     "output_type": "stream",
     "text": [
      "1 1\n",
      "1 2\n",
      "arya\n",
      "2 1\n",
      "2 2\n",
      "arya\n"
     ]
    }
   ],
   "source": [
    "for i in range(1,3):\n",
    "    \n",
    "    j=1\n",
    "    while j<3:\n",
    "        print(i,j)\n",
    "        j=j+1\n",
    "    \n",
    "    print(\"arya\")"
   ]
  },
  {
   "cell_type": "markdown",
   "id": "b8d5db3f",
   "metadata": {},
   "source": [
    "## List of list"
   ]
  },
  {
   "cell_type": "code",
   "execution_count": 3,
   "id": "abc4fe6e",
   "metadata": {},
   "outputs": [
    {
     "name": "stdout",
     "output_type": "stream",
     "text": [
      "10 20 30 \n",
      "40 50 60 \n",
      "70 80 \n"
     ]
    }
   ],
   "source": [
    "ll = [[10,20,30],[40,50,60],[70,80]]\n",
    "\n",
    "for l in ll:\n",
    "    for x in l:\n",
    "        print(x,end = \" \")\n",
    "    print()"
   ]
  }
 ],
 "metadata": {
  "kernelspec": {
   "display_name": "Python 3 (ipykernel)",
   "language": "python",
   "name": "python3"
  },
  "language_info": {
   "codemirror_mode": {
    "name": "ipython",
    "version": 3
   },
   "file_extension": ".py",
   "mimetype": "text/x-python",
   "name": "python",
   "nbconvert_exporter": "python",
   "pygments_lexer": "ipython3",
   "version": "3.9.13"
  }
 },
 "nbformat": 4,
 "nbformat_minor": 5
}
