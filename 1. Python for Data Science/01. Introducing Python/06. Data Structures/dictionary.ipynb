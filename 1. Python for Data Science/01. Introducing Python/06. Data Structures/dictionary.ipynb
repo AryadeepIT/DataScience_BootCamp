{
 "cells": [
  {
   "cell_type": "markdown",
   "id": "cdc19405",
   "metadata": {},
   "source": [
    "Dictionary in Python :-\n",
    "1. Collection of key value pairs\n",
    "2. Unordered\n",
    "3. All keys must be distinct\n",
    "4. Values may be repeated\n",
    "5. Uses hashing internally\n",
    "\n",
    "d = {key: \"value\", key2 : \"value\"}"
   ]
  },
  {
   "cell_type": "markdown",
   "id": "e73281c7",
   "metadata": {},
   "source": [
    "## Creation"
   ]
  },
  {
   "cell_type": "code",
   "execution_count": 1,
   "id": "c49f60ec",
   "metadata": {},
   "outputs": [
    {
     "name": "stdout",
     "output_type": "stream",
     "text": [
      "{110: 'abc', 101: 'xyz', 105: 'pqr'}\n",
      "{'laptop': 40000, 'mobile': 15000, 'earphone': 1000}\n",
      "15000\n"
     ]
    }
   ],
   "source": [
    "d = {110: 'abc', 101: 'xyz', 105: 'pqr'}\n",
    "\n",
    "print(d)\n",
    "\n",
    "d = {}   # creation of empty dictionary\n",
    "d['laptop'] = 40000   # adding value to the dictionary\n",
    "d['mobile'] = 15000\n",
    "d['earphone'] = 1000\n",
    "\n",
    "print(d)\n",
    "\n",
    "print(d['mobile'])  # prints the value of the key mobile"
   ]
  },
  {
   "cell_type": "markdown",
   "id": "97203215",
   "metadata": {},
   "source": [
    "## Accessing "
   ]
  },
  {
   "cell_type": "code",
   "execution_count": 3,
   "id": "31210401",
   "metadata": {},
   "outputs": [
    {
     "name": "stdout",
     "output_type": "stream",
     "text": [
      "xyz\n",
      "None\n",
      "NA\n",
      "NA\n"
     ]
    }
   ],
   "source": [
    "# access dictionary by using get function\n",
    "\n",
    "d = {110: 'abc', 101: 'xyz', 105: 'pqr'}\n",
    "print(d.get(101))  # prints the value of 101 i.e xyz\n",
    "print(d.get(125))  # prints None as it is not present if use [] is throws keyError\n",
    "\n",
    "# it is better to check whether it is present in dictionary or not\n",
    "if 125 in d:\n",
    "    print(d[125])\n",
    "else:\n",
    "    print(\"NA\")\n",
    "    \n",
    "print(d.get(125, \"NA\"))  # short form of previous if else, check for 125, if not present print \"NA\""
   ]
  },
  {
   "cell_type": "markdown",
   "id": "b2e3f7bb",
   "metadata": {},
   "source": [
    "## Removal\n"
   ]
  },
  {
   "cell_type": "code",
   "execution_count": 4,
   "id": "6db1113c",
   "metadata": {},
   "outputs": [
    {
     "name": "stdout",
     "output_type": "stream",
     "text": [
      "4\n",
      "{110: 'abc', 101: 'wxy', 105: 'pqr', 106: 'bcd'}\n",
      "returning and removing 105 pqr\n",
      "after removing 105 {110: 'abc', 101: 'wxy', 106: 'bcd'}\n",
      "{110: 'abc', 101: 'wxy'}\n",
      "returning and removing last inserted (108, 'cde')\n",
      "{110: 'abc', 101: 'wxy'}\n"
     ]
    }
   ],
   "source": [
    "d = {110: 'abc', 101: 'xyz', 105: 'pqr', 106: 'bcd'}\n",
    "\n",
    "d[101] = 'wxy'  # changes the value corrosponding to the previous value\n",
    "\n",
    "print(len(d))  # prints the total length of the dictionary, key+value is counted as 1\n",
    "\n",
    "print(d)  # prints the whole dictionary\n",
    "\n",
    "print('returning and removing 105', d.pop(105))  # removing the key 105 along with its value, returns value which is deleted\n",
    "\n",
    "print('after removing 105', d)   # removes key+value\n",
    "\n",
    "del d[106]   # another way to delete key+value, simply deletes nothing returns\n",
    "\n",
    "print(d)\n",
    "\n",
    "d[108] = 'cde'  \n",
    "\n",
    "print('returning and removing last inserted', d.popitem())  # removes last inserted key valuepair, returns removed keyvalue pair\n",
    "print(d)"
   ]
  },
  {
   "cell_type": "code",
   "execution_count": null,
   "id": "225e977f",
   "metadata": {},
   "outputs": [],
   "source": []
  }
 ],
 "metadata": {
  "kernelspec": {
   "display_name": "Python 3 (ipykernel)",
   "language": "python",
   "name": "python3"
  },
  "language_info": {
   "codemirror_mode": {
    "name": "ipython",
    "version": 3
   },
   "file_extension": ".py",
   "mimetype": "text/x-python",
   "name": "python",
   "nbconvert_exporter": "python",
   "pygments_lexer": "ipython3",
   "version": "3.9.13"
  }
 },
 "nbformat": 4,
 "nbformat_minor": 5
}
