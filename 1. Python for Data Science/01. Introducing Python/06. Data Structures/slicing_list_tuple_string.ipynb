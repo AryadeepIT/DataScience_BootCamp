{
 "cells": [
  {
   "cell_type": "markdown",
   "id": "7897c583",
   "metadata": {},
   "source": [
    "## List Slicing"
   ]
  },
  {
   "cell_type": "code",
   "execution_count": 1,
   "id": "794859fc",
   "metadata": {},
   "outputs": [
    {
     "name": "stdout",
     "output_type": "stream",
     "text": [
      "l[0:5:2] [10, 30, 50]\n",
      "l[:4] [10, 20, 30, 40]\n",
      "l[2:] [30, 40, 50]\n",
      "l[1:4] [20, 30, 40]\n",
      "l[4:1:-1] [50, 40, 30]\n",
      "l[-1:-6:-1] [50, 40, 30, 20, 10]\n",
      "l[::-1] [50, 40, 30, 20, 10]\n",
      "l[0:5] [10, 20, 30, 40, 50]\n",
      "l[:] [10, 20, 30, 40, 50]\n"
     ]
    }
   ],
   "source": [
    "l = [10,20,30,40,50]\n",
    "\n",
    "print(\"l[0:5:2]\",l[0:5:2])     # start:0, stop:5, step:2\n",
    "\n",
    "print(\"l[:4]\",l[:4])        # start: 0, stop:4, step:1\n",
    "\n",
    "print(\"l[2:]\",l[2:])        # start:2,  stop:end of string, step:1\n",
    "\n",
    "print(\"l[1:4]\",l[1:4])\n",
    "\n",
    "print(\"l[4:1:-1]\",l[4:1:-1])    #start:4, stop:1,step:-1\n",
    "\n",
    "print(\"l[-1:-6:-1]\",l[-1:-6:-1])  # start:end,\n",
    "\n",
    "print(\"l[::-1]\",l[::-1])\n",
    "\n",
    "print(\"l[0:5]\",l[0:5])\n",
    "\n",
    "print(\"l[:]\",l[:])"
   ]
  },
  {
   "cell_type": "markdown",
   "id": "9f41ba5f",
   "metadata": {},
   "source": [
    "## Slicing diff b/w list, tuple and string"
   ]
  },
  {
   "cell_type": "code",
   "execution_count": 2,
   "id": "5bff478d",
   "metadata": {},
   "outputs": [
    {
     "name": "stdout",
     "output_type": "stream",
     "text": [
      "False\n",
      "True\n",
      "True\n"
     ]
    }
   ],
   "source": [
    "l1 = [10,20,30]\n",
    "\n",
    "l2 = l1[:]\n",
    "\n",
    "t1 = (10,20,30)\n",
    "\n",
    "t2 = t1[:]          # tuple having same element has same id\n",
    "\n",
    "s1 = \"geeks\"\n",
    "s2 = s1[:]          # string of same value have same id\n",
    "\n",
    "print(l1 is l2)\n",
    "\n",
    "print(t1 is t2)\n",
    "\n",
    "print(s1 is s2)"
   ]
  }
 ],
 "metadata": {
  "kernelspec": {
   "display_name": "Python 3 (ipykernel)",
   "language": "python",
   "name": "python3"
  },
  "language_info": {
   "codemirror_mode": {
    "name": "ipython",
    "version": 3
   },
   "file_extension": ".py",
   "mimetype": "text/x-python",
   "name": "python",
   "nbconvert_exporter": "python",
   "pygments_lexer": "ipython3",
   "version": "3.9.13"
  }
 },
 "nbformat": 4,
 "nbformat_minor": 5
}
