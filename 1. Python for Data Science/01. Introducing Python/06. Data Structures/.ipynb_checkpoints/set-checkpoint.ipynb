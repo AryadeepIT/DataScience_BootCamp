{
 "cells": [
  {
   "cell_type": "markdown",
   "id": "5fb1bedb",
   "metadata": {},
   "source": [
    "set are unordered, distinct item collection, faster than list bcz it uses hashing to store data\n",
    "\n",
    "## Creation"
   ]
  },
  {
   "cell_type": "code",
   "execution_count": 1,
   "id": "29a3a33a",
   "metadata": {},
   "outputs": [
    {
     "name": "stdout",
     "output_type": "stream",
     "text": [
      "{10, 20, 30}\n",
      "{40, 20, 30}\n",
      "<class 'dict'>\n",
      "<class 'set'>\n",
      "set()\n"
     ]
    }
   ],
   "source": [
    "s1 = {10, 20, 30}  # for set we use {} curly braces\n",
    "print(s1)\n",
    "\n",
    "s2 = set([20, 30, 40])  # creation of set using list (constructor)\n",
    "print(s2)\n",
    "\n",
    "s3 = {}  # it doesn't create empty set, it creates empty dictonary.. because set and dict both are created using {}\n",
    "print(type(s3))  # type--> class 'dict'\n",
    "\n",
    "s4 = set()  # it creates empty set\n",
    "print(type(s4))  # type--> class 'set'\n",
    "print(s4) "
   ]
  },
  {
   "cell_type": "markdown",
   "id": "e9276d07",
   "metadata": {},
   "source": [
    "## Insertion"
   ]
  },
  {
   "cell_type": "code",
   "execution_count": 2,
   "id": "4bbea5e9",
   "metadata": {},
   "outputs": [
    {
     "name": "stdout",
     "output_type": "stream",
     "text": [
      "{10, 20, 30}\n",
      "{10, 20, 30}\n",
      "{40, 10, 50, 20, 30}\n",
      "{70, 40, 10, 80, 50, 20, 90, 60, 30}\n"
     ]
    }
   ],
   "source": [
    "s = {10, 20}\n",
    "s.add(30)  # add value 30 to the set\n",
    "print(s)\n",
    "s.add(30)  # sets only contain distinct value, so nothing will be changed\n",
    "print(s)\n",
    "\n",
    "s.update([40, 50])  # using update function we can add items from other collections, we have added 40,50 from list to the set\n",
    "print(s)\n",
    "\n",
    "s.update({60,70}, [80, 90])  # we can add multiple distinct items to the set, can be from set ot list\n",
    "print(s)"
   ]
  },
  {
   "cell_type": "markdown",
   "id": "5f8b63b3",
   "metadata": {},
   "source": [
    "## Removal"
   ]
  },
  {
   "cell_type": "code",
   "execution_count": 3,
   "id": "599ef78a",
   "metadata": {},
   "outputs": [
    {
     "name": "stdout",
     "output_type": "stream",
     "text": [
      "{40, 10, 20}\n",
      "{40, 10}\n",
      "set()\n"
     ]
    }
   ],
   "source": [
    "s = {10, 30, 20, 40}\n",
    "s.discard(30)  # removal of 30 from the set, if not available in set doesn't throw error\n",
    "print(s)\n",
    "\n",
    "s.remove(20)  # removal of 20 from the set, if not available in throws error\n",
    "print(s)\n",
    "\n",
    "s.clear()  # everything will be removed from set collection,  get empty set\n",
    "print(s)\n",
    "\n",
    "s.add(50)\n",
    "del s  # deletes empty set also, can't be add items later"
   ]
  },
  {
   "cell_type": "markdown",
   "id": "5436f334",
   "metadata": {},
   "source": [
    "## length, in"
   ]
  },
  {
   "cell_type": "code",
   "execution_count": 5,
   "id": "7c7fcc38",
   "metadata": {},
   "outputs": [
    {
     "name": "stdout",
     "output_type": "stream",
     "text": [
      "4\n",
      "True\n",
      "False\n"
     ]
    }
   ],
   "source": [
    "s = {10, 20, 30, 40}\n",
    "print(len(s))   # prints the length of the set\n",
    "print(30 in s)   # returns True if 20 is available in set, otherwise False\n",
    "print(50 in s)   # returns True if 50 is available in set, otherwise False"
   ]
  },
  {
   "cell_type": "markdown",
   "id": "dfd147c5",
   "metadata": {},
   "source": [
    "## Operation on two set 1"
   ]
  },
  {
   "cell_type": "code",
   "execution_count": 7,
   "id": "7b70e672",
   "metadata": {},
   "outputs": [
    {
     "name": "stdout",
     "output_type": "stream",
     "text": [
      "{2, 3, 4, 6, 8, 9}\n",
      "{6}\n",
      "{8, 2, 4}\n",
      "{2, 3, 4, 8, 9}\n"
     ]
    }
   ],
   "source": [
    "s1 = {2, 4, 6, 8}\n",
    "s2 = {3, 6, 9}\n",
    "print(s1 | s2)  # prints union of s1 and s2 , (prints everything except the same value between set and print that once)\n",
    "# s1.union(s2) # another possible way to find union\n",
    "\n",
    "print(s1 & s2)   # prints the common term which is present btw both set (intersection of two set) s1.intersection(s2) possible\n",
    "\n",
    "print(s1 - s2)  # prints the element which is present in s1 but not in s2   s1.difference(s2) possible\n",
    "\n",
    "print(s1 ^ s2)  # bitwise XOR of two sets (ignores 6 because it is available in both set)   s1.symmetric_difference(s2)"
   ]
  },
  {
   "cell_type": "markdown",
   "id": "4e2481b4",
   "metadata": {},
   "source": [
    "## Operation on two set 2"
   ]
  },
  {
   "cell_type": "code",
   "execution_count": 9,
   "id": "f0d405b7",
   "metadata": {},
   "outputs": [
    {
     "name": "stdout",
     "output_type": "stream",
     "text": [
      "False\n",
      "False\n",
      "False\n",
      "True\n",
      "True\n"
     ]
    }
   ],
   "source": [
    "s1 = {2, 4, 6, 8}\n",
    "s2 = {4, 8}\n",
    "print(s1.isdisjoint(s2))  # returns true if no common element btwn sets\n",
    "\n",
    "print(s1 <= s2)  # s1.issubset(s2)   s1 has more element than s2, so it is false\n",
    "\n",
    "print(s1 < s2)  # if s2 is proper subset are not, doesn't work with equal values on both sets\n",
    "\n",
    "print(s1 >= s2)   # s1.issuperset(s2)\n",
    "\n",
    "print(s1 > s2)"
   ]
  },
  {
   "cell_type": "code",
   "execution_count": null,
   "id": "1e31c642",
   "metadata": {},
   "outputs": [],
   "source": []
  }
 ],
 "metadata": {
  "kernelspec": {
   "display_name": "Python 3 (ipykernel)",
   "language": "python",
   "name": "python3"
  },
  "language_info": {
   "codemirror_mode": {
    "name": "ipython",
    "version": 3
   },
   "file_extension": ".py",
   "mimetype": "text/x-python",
   "name": "python",
   "nbconvert_exporter": "python",
   "pygments_lexer": "ipython3",
   "version": "3.9.13"
  }
 },
 "nbformat": 4,
 "nbformat_minor": 5
}
