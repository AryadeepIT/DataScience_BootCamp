{
 "cells": [
  {
   "cell_type": "markdown",
   "id": "4078d201",
   "metadata": {},
   "source": [
    "## List item access"
   ]
  },
  {
   "cell_type": "code",
   "execution_count": 1,
   "id": "75491a3f",
   "metadata": {},
   "outputs": [
    {
     "name": "stdout",
     "output_type": "stream",
     "text": [
      "[5, 6, 7, 8, 9]\n",
      "7\n",
      "9\n",
      "7\n"
     ]
    }
   ],
   "source": [
    "l = [5, 6, 7, 8, 9]\n",
    "print(l)\n",
    "print(l[2])  # prints the item in the list which is present at 2nd index\n",
    "print(l[-1])  # prints the item in the list which is present at last index\n",
    "print(l[-3])  # prints the item in the list which is present at 3rd last index"
   ]
  },
  {
   "cell_type": "markdown",
   "id": "1aaf2ad8",
   "metadata": {},
   "source": [
    "## Insert and search"
   ]
  },
  {
   "cell_type": "code",
   "execution_count": 4,
   "id": "759e5e85",
   "metadata": {},
   "outputs": [
    {
     "name": "stdout",
     "output_type": "stream",
     "text": [
      "[10, 20, 30, 40, 50, 30]\n",
      "[10, 15, 20, 30, 40, 50, 30]\n",
      "True\n",
      "2\n",
      "3\n",
      "6\n"
     ]
    }
   ],
   "source": [
    "l = [10, 20, 30, 40, 50]\n",
    "l.append(30)  # insert at the last\n",
    "print(l)\n",
    "l.insert(1, 15)  # 15 is going to insert in 1st index\n",
    "print(l)\n",
    "print(15 in l)  # checks whether 15 is present in the list or not\n",
    "print(l.count(30))  # counts how many times 30 is in the list\n",
    "print(l.index(30))  # index of 1st occurance of 30\n",
    "print(l.index(30, 4, 7))  # search between start_index = 4 , end_index=6"
   ]
  },
  {
   "cell_type": "markdown",
   "id": "394212fe",
   "metadata": {},
   "source": [
    "## Removal of items"
   ]
  },
  {
   "cell_type": "code",
   "execution_count": 8,
   "id": "11303a8c",
   "metadata": {},
   "outputs": [
    {
     "name": "stdout",
     "output_type": "stream",
     "text": [
      "[10, 30, 40, 50, 60, 70, 80]\n",
      "80\n",
      "[10, 30, 40, 50, 60, 70]\n",
      "40\n",
      "[10, 30, 50, 60, 70]\n",
      "[10, 50, 60, 70]\n",
      "[60, 70]\n"
     ]
    }
   ],
   "source": [
    "l = [10, 20, 30, 40, 50, 60, 70, 80]\n",
    "l.remove(20)  # removes 20 from the list\n",
    "print(l)\n",
    "print(l.pop())  # removes last item from the list, also returns the removed element\n",
    "print(l)\n",
    "print(l.pop(2))  # removes the element which is in 2nd index, also returns the removed element\n",
    "print(l)\n",
    "del l[1]  # remove element which is in index 1\n",
    "print(l)\n",
    "del l[0:2]  # removes element from the range- 0th index to 2nd index\n",
    "print(l)"
   ]
  },
  {
   "cell_type": "markdown",
   "id": "4a6488f5",
   "metadata": {},
   "source": [
    "## General purpose function,( min,max, reverse,sort)"
   ]
  },
  {
   "cell_type": "code",
   "execution_count": 9,
   "id": "7d0999a2",
   "metadata": {},
   "outputs": [
    {
     "name": "stdout",
     "output_type": "stream",
     "text": [
      "50\n",
      "10\n",
      "120\n",
      "[50, 20, 40, 10]\n",
      "[10, 20, 40, 50]\n"
     ]
    }
   ],
   "source": [
    "l = [10, 40, 20, 50] \n",
    "print(max(l))  # gives the maximum item which is present in the list\n",
    "print(min(l))  # gives the maximum item which is present in the list\n",
    "print(sum(l))  # add the all items of the list and returns single sum value\n",
    "l.reverse()  # reverse the whole list\n",
    "print(l)\n",
    "l.sort()  # sort all the items in the list in ascending order\n",
    "print(l)"
   ]
  }
 ],
 "metadata": {
  "kernelspec": {
   "display_name": "Python 3 (ipykernel)",
   "language": "python",
   "name": "python3"
  },
  "language_info": {
   "codemirror_mode": {
    "name": "ipython",
    "version": 3
   },
   "file_extension": ".py",
   "mimetype": "text/x-python",
   "name": "python",
   "nbconvert_exporter": "python",
   "pygments_lexer": "ipython3",
   "version": "3.9.13"
  }
 },
 "nbformat": 4,
 "nbformat_minor": 5
}
