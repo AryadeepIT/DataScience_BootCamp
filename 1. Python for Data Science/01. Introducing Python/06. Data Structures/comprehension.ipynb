{
 "cells": [
  {
   "cell_type": "markdown",
   "id": "25f43270",
   "metadata": {},
   "source": [
    "## List comprehension\n"
   ]
  },
  {
   "cell_type": "code",
   "execution_count": 1,
   "id": "9ee0727d",
   "metadata": {},
   "outputs": [
    {
     "name": "stdout",
     "output_type": "stream",
     "text": [
      "[0, 2, 4, 6, 8, 10]\n",
      "[1, 3, 5, 7, 9]\n"
     ]
    }
   ],
   "source": [
    "l1 = [x for x in range(11) if x%2==0]\n",
    "print(l1)\n",
    "\n",
    "l2 = [x for x in range(11) if x%2!=0]\n",
    "print(l2)"
   ]
  },
  {
   "cell_type": "code",
   "execution_count": 9,
   "id": "e15914ff",
   "metadata": {},
   "outputs": [
    {
     "name": "stdout",
     "output_type": "stream",
     "text": [
      "[0, 2, 4, 6, 8, 10]\n",
      "[1, 3, 5, 7, 9]\n"
     ]
    }
   ],
   "source": [
    "# alternative code for above code\n",
    "l1 = []\n",
    "for x in range(11):\n",
    "    if x %2 == 0:\n",
    "        l1.append(x)\n",
    "\n",
    "print(l1)\n",
    "\n",
    "\n",
    "l2 = []\n",
    "for x in range(11):\n",
    "    if x %2 != 0:\n",
    "        l2.append(x)\n",
    "        \n",
    "print(l2)"
   ]
  },
  {
   "cell_type": "code",
   "execution_count": 13,
   "id": "122b4102",
   "metadata": {},
   "outputs": [
    {
     "data": {
      "text/plain": [
       "[9, 3, 7]"
      ]
     },
     "execution_count": 13,
     "metadata": {},
     "output_type": "execute_result"
    }
   ],
   "source": [
    "# function to get a list that contains all those items smaller than x\n",
    "\n",
    "def getSmaller(l, x):\n",
    "    return [e for e in l if e<x]\n",
    "\n",
    "getSmaller([9,15,12,3,7,11], 10)"
   ]
  },
  {
   "cell_type": "code",
   "execution_count": 14,
   "id": "1e55903a",
   "metadata": {},
   "outputs": [
    {
     "data": {
      "text/plain": [
       "([10, 20, 12], [3, 5])"
      ]
     },
     "execution_count": 14,
     "metadata": {},
     "output_type": "execute_result"
    }
   ],
   "source": [
    "# returns two lists, first list contains all even elements of l . second contains odd\n",
    "\n",
    "def getEvenOdd(l):\n",
    "    even = [x for x in l if x%2 == 0]\n",
    "    odd = [x for x in l if x %2 != 0]\n",
    "    return even, odd\n",
    "\n",
    "getEvenOdd([10,3,20,5,12])"
   ]
  },
  {
   "cell_type": "code",
   "execution_count": 16,
   "id": "dc33dd64",
   "metadata": {},
   "outputs": [
    {
     "name": "stdout",
     "output_type": "stream",
     "text": [
      "['a', 'a', 'e', 'e']\n",
      "['arya', 'a']\n",
      "[0, 2, 4, 6, 8, 10]\n"
     ]
    }
   ],
   "source": [
    "s = \"aryadeep\"\n",
    "l1 = [x for x in s if x in \"aeiou\"]\n",
    "print(l1)  # returns vowels from the string\n",
    "\n",
    "l2 = [\"arya\", \"deep\", \"is\", \"a\", \"good\", \"boy\"]\n",
    "l3 = [x for x in l2 if x.startswith(\"a\")]  # returns all list items that starts with a\n",
    "print(l3)\n",
    "\n",
    "l4 = [x*2 for x in range(6)]\n",
    "print(l4)"
   ]
  },
  {
   "cell_type": "code",
   "execution_count": 17,
   "id": "47d1f328",
   "metadata": {},
   "outputs": [
    {
     "name": "stdout",
     "output_type": "stream",
     "text": [
      "['GOOD', 'GOOD']\n"
     ]
    }
   ],
   "source": [
    "l1 = [\"arya\", \"deep\", \"is\", \"a\", \"good\", \"boy\", \"good\"]\n",
    "l2 = [x.upper() for x in l1 if x.startswith(\"g\")]\n",
    "print(l2)"
   ]
  },
  {
   "cell_type": "markdown",
   "id": "216f0acd",
   "metadata": {},
   "source": [
    "## Set,dict comprehension\n"
   ]
  },
  {
   "cell_type": "code",
   "execution_count": 26,
   "id": "7e9a3e4c",
   "metadata": {},
   "outputs": [
    {
     "name": "stdout",
     "output_type": "stream",
     "text": [
      "{10, 4, 20}\n",
      "{3, 7}\n",
      "{0: 'ID0', 1: 'ID1', 2: 'ID2', 3: 'ID3', 4: 'ID4'}\n",
      "{101: 'gfg', 103: 'ide', 102: 'corse'}\n"
     ]
    }
   ],
   "source": [
    "l = {10,20,3,4,10,20,7,3}\n",
    "\n",
    "s1 = {x for x in l if x%2==0 }\n",
    "s2 = {x for x in l if x%2!=0 }  # set comprehension\n",
    "\n",
    "print(s1)\n",
    "print(s2)\n",
    "\n",
    "\n",
    "l1 = [1,3,4,2,5]\n",
    "\n",
    "d1 = {x:x**3 for x in l1}\n",
    "\n",
    "d2 = {x:f\"ID{x}\" for x in range(5)} # dictionary comprehension\n",
    "print(d2)\n",
    "\n",
    "\n",
    "l2 = [101,103,102]\n",
    "l3 = ['gfg','ide','corse']\n",
    "\n",
    "d3 = {l2[i]:l3[i] for i in range(len(l2)) }   # dictionary comprehension --> shortcut method using zip.. see below\n",
    "\n",
    "\n",
    "print(d3)\n",
    "\n",
    "\n",
    "d4 = dict(zip(l2,l3))"
   ]
  },
  {
   "cell_type": "markdown",
   "id": "a5e610bf",
   "metadata": {},
   "source": [
    "## Inverting dict\n"
   ]
  },
  {
   "cell_type": "code",
   "execution_count": 3,
   "id": "83e26ff6",
   "metadata": {},
   "outputs": [
    {
     "name": "stdout",
     "output_type": "stream",
     "text": [
      "{'aryadeep': 101, 'IT': 103, 'ide': 102}\n"
     ]
    }
   ],
   "source": [
    "d1 = {101:'aryadeep',103:'IT',102:'ide'}\n",
    "d2 = {v:k for (k,v) in d1.items() }  # key = value, value = key\n",
    "\n",
    "print(d2)"
   ]
  },
  {
   "cell_type": "code",
   "execution_count": 27,
   "id": "cb230073",
   "metadata": {},
   "outputs": [
    {
     "name": "stdout",
     "output_type": "stream",
     "text": [
      "{101: 'aryadeep', 103: 'sanchita', 102: 'munu'}\n"
     ]
    }
   ],
   "source": [
    "# zipping\n",
    "l2 = [101, 103, 102]\n",
    "l3 = [\"aryadeep\", \"sanchita\", \"munu\"]\n",
    "d3 = dict(zip(l2, l3))\n",
    "print(d3)"
   ]
  },
  {
   "cell_type": "code",
   "execution_count": null,
   "id": "dc14462f",
   "metadata": {},
   "outputs": [],
   "source": []
  }
 ],
 "metadata": {
  "kernelspec": {
   "display_name": "Python 3 (ipykernel)",
   "language": "python",
   "name": "python3"
  },
  "language_info": {
   "codemirror_mode": {
    "name": "ipython",
    "version": 3
   },
   "file_extension": ".py",
   "mimetype": "text/x-python",
   "name": "python",
   "nbconvert_exporter": "python",
   "pygments_lexer": "ipython3",
   "version": "3.9.13"
  }
 },
 "nbformat": 4,
 "nbformat_minor": 5
}
