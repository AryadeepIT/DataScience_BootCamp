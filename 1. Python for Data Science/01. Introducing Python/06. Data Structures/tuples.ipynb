{
 "cells": [
  {
   "cell_type": "markdown",
   "id": "bfbf6ab8",
   "metadata": {},
   "source": [
    "## Creating tuple\n",
    "tuples are **immutable**, **faster than list**"
   ]
  },
  {
   "cell_type": "code",
   "execution_count": 1,
   "id": "f542fe15",
   "metadata": {},
   "outputs": [
    {
     "name": "stdout",
     "output_type": "stream",
     "text": [
      "20\n",
      "(10, 20, 'aryadeep')\n",
      "<class 'tuple'>\n",
      "()\n",
      "<class 'int'>\n",
      "<class 'tuple'>\n"
     ]
    }
   ],
   "source": [
    "t = (10, 20, \"aryadeep\")  # basic structure of tuple\n",
    "print(t[1])   # prints 20 (access of specific element in tuple using index)\n",
    "print(t)  # prints the whole tuple\n",
    "t = ()  # empty tuple\n",
    "print(type(t))  # class tuple\n",
    "print(t)  # prints empty tuple\n",
    "t=(10)  # single int value assigned, so it is recognised as int\n",
    "print(type(t))  # prints class int\n",
    "t = (10, )  # tuple creation with empty value\n",
    "print(type(t))  # prints class tuple"
   ]
  },
  {
   "cell_type": "markdown",
   "id": "faf56d1a",
   "metadata": {},
   "source": [
    "## Accessing tuple"
   ]
  },
  {
   "cell_type": "code",
   "execution_count": 3,
   "id": "2a4990b1",
   "metadata": {},
   "outputs": [
    {
     "name": "stdout",
     "output_type": "stream",
     "text": [
      "30\n",
      "20\n",
      "(20, 30)\n",
      "6\n",
      "2\n",
      "1\n"
     ]
    }
   ],
   "source": [
    "t = 10, 20, 30, 40, 10, 20  #creates tuples without small parathesis, brakets are optional\n",
    "print(t[2])  # prints the value of tuple which is present at index 2\n",
    "print(t[-1])  # prints the last element of the tuple\n",
    "print(t[1:3])  # prints the tuple range between index 1 to 3\n",
    "print(len(t))  # prints the length of the tuple\n",
    "print(t.count(10))  # prints the occurance of 10 in nth terms\n",
    "print(t.index(20))  # prints the first occurance index of 20"
   ]
  }
 ],
 "metadata": {
  "kernelspec": {
   "display_name": "Python 3 (ipykernel)",
   "language": "python",
   "name": "python3"
  },
  "language_info": {
   "codemirror_mode": {
    "name": "ipython",
    "version": 3
   },
   "file_extension": ".py",
   "mimetype": "text/x-python",
   "name": "python",
   "nbconvert_exporter": "python",
   "pygments_lexer": "ipython3",
   "version": "3.9.13"
  }
 },
 "nbformat": 4,
 "nbformat_minor": 5
}
