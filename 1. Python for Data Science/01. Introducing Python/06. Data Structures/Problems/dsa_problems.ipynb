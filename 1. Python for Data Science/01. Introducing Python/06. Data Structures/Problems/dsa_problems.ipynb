{
 "cells": [
  {
   "cell_type": "markdown",
   "id": "df761d20",
   "metadata": {},
   "source": [
    "### Q.1 - TypeCast And Double It\n",
    "Given an input num as a string. You need to typecast into an integer and double it."
   ]
  },
  {
   "cell_type": "raw",
   "id": "0e0c3f0b",
   "metadata": {},
   "source": [
    "Input:\n",
    "num = 5\n",
    "Output: \n",
    "10\n",
    "Explanation: Just typecast and double it."
   ]
  },
  {
   "cell_type": "code",
   "execution_count": 3,
   "id": "988ada0f",
   "metadata": {},
   "outputs": [
    {
     "name": "stdout",
     "output_type": "stream",
     "text": [
      "5\n",
      "10\n"
     ]
    }
   ],
   "source": [
    "def utility():\n",
    "    num=input()\n",
    "    ans= int(num)*2\n",
    "    print(ans)\n",
    "\n",
    "utility()"
   ]
  },
  {
   "cell_type": "markdown",
   "id": "3165a694",
   "metadata": {},
   "source": [
    "### Q.2 - Swap The Numbers\n",
    "Given two numbers a and b, you need to swap their values so a holds the value of b and b holds the value of a."
   ]
  },
  {
   "cell_type": "raw",
   "id": "ac1a405b",
   "metadata": {},
   "source": [
    "Input:\n",
    "a = 1\n",
    "b = 2\n",
    "Output: \n",
    "2 1\n",
    "Explanation: Initially a = 1 and b = 2,\n",
    "now a = 2 and b = 1."
   ]
  },
  {
   "cell_type": "code",
   "execution_count": 6,
   "id": "d30c85dd",
   "metadata": {},
   "outputs": [
    {
     "name": "stdout",
     "output_type": "stream",
     "text": [
      "8 4\n"
     ]
    }
   ],
   "source": [
    "def utility(a, b):\n",
    "        swap = a\n",
    "        a = b\n",
    "        b = swap\n",
    "        print(a,b);\n",
    "        \n",
    "utility(4,8)"
   ]
  },
  {
   "cell_type": "markdown",
   "id": "e31b4945",
   "metadata": {},
   "source": [
    "### Q.3 - Concatenate Integers\n",
    "Given two integers a and b, you need to concatenate them so the output is ab."
   ]
  },
  {
   "cell_type": "raw",
   "id": "0ba952cb",
   "metadata": {},
   "source": [
    "Input:\n",
    "a = 5\n",
    "b = 6\n",
    "Output: \n",
    "56\n",
    "Explanation: Concatenate them."
   ]
  },
  {
   "cell_type": "code",
   "execution_count": 7,
   "id": "ff872edf",
   "metadata": {},
   "outputs": [
    {
     "name": "stdout",
     "output_type": "stream",
     "text": [
      "5\n",
      "6\n",
      "56\n"
     ]
    }
   ],
   "source": [
    "def utility():\n",
    "    a=int(input())\n",
    "    b=int(input())\n",
    "    \n",
    "    ans=str(a)+str(b)\n",
    "    \n",
    "    print(ans)\n",
    "    \n",
    "utility()"
   ]
  },
  {
   "cell_type": "markdown",
   "id": "47f3b724",
   "metadata": {},
   "source": [
    "### Q.3 - Find Union\n",
    "Given two sets A and B. find the Union of both the sets.\n",
    "\n",
    "Union of two given sets A and B is a set which consists of all the elements of A and all the elements of B such that no element is repeated."
   ]
  },
  {
   "cell_type": "raw",
   "id": "fbee9d91",
   "metadata": {},
   "source": [
    "Input:\n",
    "A = {2, 5, 6}\n",
    "B = {1, 4, 3, 2}\n",
    "Output: \n",
    "1 2 3 4 5 6"
   ]
  },
  {
   "cell_type": "code",
   "execution_count": 11,
   "id": "97db4f72",
   "metadata": {},
   "outputs": [
    {
     "data": {
      "text/plain": [
       "{1, 2, 3, 4, 5, 6}"
      ]
     },
     "execution_count": 11,
     "metadata": {},
     "output_type": "execute_result"
    }
   ],
   "source": [
    "def Union(A, B):\n",
    "    ans = A.union(B)\n",
    "    return ans\n",
    "\n",
    "Union({2, 5, 6}, {1, 4, 3, 2})"
   ]
  },
  {
   "cell_type": "markdown",
   "id": "b4bc4deb",
   "metadata": {},
   "source": [
    "### Q.4 - Check Subset\n",
    "Given two sets A and B. check whether A is subset of B ?\n",
    "\n",
    "A is subset of B, if all elements of a set A are present in another set B."
   ]
  },
  {
   "cell_type": "raw",
   "id": "f6970b24",
   "metadata": {},
   "source": [
    "Input:\n",
    "A = {1, 4, 3}\n",
    "B = {1, 4, 3, 2}\n",
    "Output: \n",
    "True"
   ]
  },
  {
   "cell_type": "code",
   "execution_count": 12,
   "id": "9c6aad77",
   "metadata": {},
   "outputs": [
    {
     "data": {
      "text/plain": [
       "True"
      ]
     },
     "execution_count": 12,
     "metadata": {},
     "output_type": "execute_result"
    }
   ],
   "source": [
    "def checkSubset(A, B):\n",
    "        check = A.issubset(B)\n",
    "        return check\n",
    "checkSubset({1, 4, 3}, {1, 4, 3, 2})"
   ]
  },
  {
   "cell_type": "markdown",
   "id": "8002880e",
   "metadata": {},
   "source": [
    "### Q.5 - Solving queries\n",
    "Given a dictionary, and a list of queries(keys), you have to find and print the value of each query from the dictionary if present else it prints \"None\"."
   ]
  },
  {
   "cell_type": "raw",
   "id": "470d8a3a",
   "metadata": {},
   "source": [
    "Input:\n",
    "dict = {1:\"abc\", 2: \"cde\", 3: \"fgh\"}\n",
    "query = [2, 3, 4]\n",
    "Output:\n",
    "cde\n",
    "fgh\n",
    "None"
   ]
  },
  {
   "cell_type": "code",
   "execution_count": 14,
   "id": "cfff18a8",
   "metadata": {},
   "outputs": [
    {
     "name": "stdout",
     "output_type": "stream",
     "text": [
      "cde\n",
      "fgh\n",
      "None\n"
     ]
    }
   ],
   "source": [
    "def Query(dict, query):\n",
    "        for i in range(0,len(query)):\n",
    "           if query[i] in dict:\n",
    "               print(dict[query[i]])\n",
    "           else:\n",
    "               print(None)\n",
    "\n",
    "Query({1:\"abc\", 2: \"cde\", 3: \"fgh\"}, [2, 3, 4])"
   ]
  },
  {
   "cell_type": "markdown",
   "id": "3788e17c",
   "metadata": {},
   "source": [
    "### Q.6 - Test if tuple is distinct\n",
    "Given a tuple A , find if all elements of tuple are different or not."
   ]
  },
  {
   "cell_type": "raw",
   "id": "73df226c",
   "metadata": {},
   "source": [
    "Input:\n",
    "A = (1, 2, 3, 4, 5, 4)\n",
    "Output: \n",
    "Not Distinct\n",
    "\n",
    "Input:\n",
    "A = (1, 2, 3, 4, 5)\n",
    "Output: \n",
    "Distinct"
   ]
  },
  {
   "cell_type": "code",
   "execution_count": 16,
   "id": "d14a8a78",
   "metadata": {},
   "outputs": [
    {
     "data": {
      "text/plain": [
       "'Not Distinct'"
      ]
     },
     "execution_count": 16,
     "metadata": {},
     "output_type": "execute_result"
    }
   ],
   "source": [
    "def checkDistinct(A):\n",
    "        if len(A)==len(set(A)):\n",
    "           p='Distinct'\n",
    "        else:\n",
    "           p='Not Distinct'\n",
    "        return p \n",
    "    \n",
    "checkDistinct((1, 2, 3, 4, 5, 4))"
   ]
  },
  {
   "cell_type": "markdown",
   "id": "7133ba5a",
   "metadata": {},
   "source": [
    "### Q.7 - Find index\n",
    "Given a tuple A with distinct elements and an integer X, find the index position of X. Assume to have X in the tuple always."
   ]
  },
  {
   "cell_type": "raw",
   "id": "d5f8c6e5",
   "metadata": {},
   "source": [
    "Input:\n",
    "A = (1, 2, 3, 4, 5)\n",
    "X = 3\n",
    "Output: \n",
    "2\n",
    "\n",
    "Input:\n",
    "A = (3, 2, 1, 5, 4)\n",
    "X = 5\n",
    "Output: \n",
    "3"
   ]
  },
  {
   "cell_type": "code",
   "execution_count": 17,
   "id": "c4540e73",
   "metadata": {},
   "outputs": [
    {
     "data": {
      "text/plain": [
       "2"
      ]
     },
     "execution_count": 17,
     "metadata": {},
     "output_type": "execute_result"
    }
   ],
   "source": [
    "def Index(A, X):\n",
    "        for i in range(len(A)):\n",
    "            if X == A[i]:\n",
    "                return i\n",
    "Index((1, 2, 3, 4, 5),3)"
   ]
  },
  {
   "cell_type": "markdown",
   "id": "d3bae270",
   "metadata": {},
   "source": [
    "### Q.8 - Implement Set in Python\n",
    "A set is an unordered collection of items where every element is unique and must be immutable, but set is mutable. You cannot access an element of set using indexing or slicing, but you can update the set.\n",
    "\n",
    "Some important functions in Set in Python:\n",
    "add(): Adds an element to the set.\n",
    "clear(): Removes all elements from the set\n",
    "discard(): Removes an element from the set if present.\n",
    "remove(): Removes an element from the set. If the element is not present, it raises error.\n",
    "pop(): Removes and returns an arbitary set element. Raise error if the set is empty.\n",
    "union(): Returns the union of sets in a new set\n",
    "update(): Updates the set with the union of itself and others\n",
    "len(): Return the length of set.\n",
    "sorted(): Return a new sorted list from elements in the set.\n",
    "sum(): Return the sum of all elements in the set.\n",
    "\n",
    "Let's implement these methods through a question. Given Q queries to do some operation on Set, the task is to perform all the queries in the Set as given below:\n",
    "a. i element: Adds element to the set.\n",
    "b. r element: Remove element from set.\n",
    "c. s: Find sum of elements in set. Returns the sum of elements in Set."
   ]
  },
  {
   "cell_type": "code",
   "execution_count": 24,
   "id": "156728a3",
   "metadata": {},
   "outputs": [
    {
     "data": {
      "text/plain": [
       "22"
      ]
     },
     "execution_count": 24,
     "metadata": {},
     "output_type": "execute_result"
    }
   ],
   "source": [
    "def insert(s, element):\n",
    "    return s.add(element)\n",
    "        \n",
    "def remove_from_set(s, element):\n",
    "    return s.remove(element)\n",
    "    \n",
    "def sum_set(s):\n",
    "    return sum(s)\n",
    "\n",
    "insert({2, 3, 4, 5}, 9)\n",
    "remove_from_set({12, 19, 18, 13}, 18)\n",
    "sum_set({9, 4, 6, 3})"
   ]
  },
  {
   "cell_type": "markdown",
   "id": "f778be74",
   "metadata": {},
   "source": [
    "### Q.9 - Implement Dictionary in Python\n",
    "You are familiar with most of the properties of dictionary in Python. Add some more info about dictionary through dictionary formatting and deleting key value pair.\n",
    "````\n",
    "Formatting:\n",
    "hash = {}\n",
    "hash['Geeks'] = 5\n",
    "hash['geeksforgeeks'] = 13\n",
    "s = (\"Count of characters is \" + hash[Geeks] + \" in \" + key)\n",
    "````\n",
    "\n",
    "#### results in: Count of characters is 5 in GfG\n",
    "````\n",
    "Deleting:\n",
    "dict = {'a' : 1, 'b' : 2, 'c' : 3, 'd' : 4}\n",
    "del dict['c']         \n",
    "````\n",
    "#### delete entry for 'c'\n",
    "````\n",
    "Let's get this into head by solving a question. Given list of some students in a list and their corresponding marks in another list.The task is to do some operations as described below:\n",
    "a. i key value: inserts key and value in dictionary, and print 'Inserted'.\n",
    "b. d key: delete the entry for given key and print 'Deleted' if key to be deleted is present, else print '-1'.\n",
    "c. key: print marks of given key in statement as \"Marks of student_name is : marks\".````"
   ]
  },
  {
   "cell_type": "code",
   "execution_count": null,
   "id": "2c9c422a",
   "metadata": {},
   "outputs": [],
   "source": [
    "#{ \n",
    " # Driver Code Starts\n",
    "#Initial Template for Python 3\n",
    "\n",
    "# } Driver Code Ends\n",
    "#User function Template for python3\n",
    "\n",
    "# insert into dictionary\n",
    "def insert_dict(key, value, dict):\n",
    "    dict[key] = value\n",
    "    \n",
    "\n",
    "# deleting from dictionary\n",
    "def del_dict(key, dict):\n",
    "    if key in dict.keys():\n",
    "        del dict[key]\n",
    "    \n",
    "    \n",
    "    \n",
    "    \n",
    "\n",
    "# print marks of required name\n",
    "def print_dict(key, dict):\n",
    "    if key in dict.keys():\n",
    "\n",
    "        print(\"Marks of \"+str(key)+\" is \"+ str(dict[key]))\n",
    "\n",
    "        return dict\n",
    "\n",
    "    else:\n",
    "\n",
    "        return False\n",
    "    \n",
    "    \n",
    "    \n",
    "\n",
    "#{ \n",
    " # Driver Code Starts.\n",
    "# Driver code\n",
    "def main():\n",
    "    # testcase input\n",
    "    testcase = int(input())\n",
    "    \n",
    "    # looping through testcases\n",
    "    while(testcase > 0):\n",
    "        \n",
    "        n = int(input())\n",
    "        \n",
    "        i = 0\n",
    "        dict = {}\n",
    "        while i < n:\n",
    "            flag = False\n",
    "            delete = False\n",
    "            query = input().split()\n",
    "            if(query[0] == 'i'):\n",
    "                insert_dict(query[1], query[2], dict)\n",
    "                print (\"Inserted\")\n",
    "            \n",
    "            if(query[0] == 'd'):\n",
    "                if del_dict(query[1], dict) is False:\n",
    "                    print (\"-1\")\n",
    "                else:\n",
    "                    print (\"Deleted\")\n",
    "            \n",
    "            if(query[0] == 'p'):\n",
    "                if(print_dict(query[1], dict) is False):\n",
    "                    print (\"-1\")\n",
    "                    \n",
    "            i+=1\n",
    "            \n",
    "        testcase -= 1\n",
    "\n",
    "\n",
    "if __name__ == '__main__':\n",
    "    main()\n",
    "# } Driver Code Ends"
   ]
  },
  {
   "cell_type": "code",
   "execution_count": null,
   "id": "36fb10da",
   "metadata": {},
   "outputs": [],
   "source": []
  },
  {
   "cell_type": "code",
   "execution_count": 9,
   "id": "0168f94a",
   "metadata": {},
   "outputs": [
    {
     "name": "stdout",
     "output_type": "stream",
     "text": [
      "12\n"
     ]
    }
   ],
   "source": [
    "a = (2, 3, 4)\n",
    "print(sum(a,3))"
   ]
  },
  {
   "cell_type": "code",
   "execution_count": 11,
   "id": "1c5b552a",
   "metadata": {},
   "outputs": [
    {
     "name": "stdout",
     "output_type": "stream",
     "text": [
      "{4, 5}\n"
     ]
    }
   ],
   "source": [
    "a = {4,5,6}\n",
    "b = {2,8,6}\n",
    "print(a-b)"
   ]
  },
  {
   "cell_type": "code",
   "execution_count": 12,
   "id": "8b3a36be",
   "metadata": {},
   "outputs": [
    {
     "name": "stdout",
     "output_type": "stream",
     "text": [
      "<class 'set'>\n"
     ]
    }
   ],
   "source": [
    "s = set()\n",
    "print(type(s))"
   ]
  },
  {
   "cell_type": "code",
   "execution_count": 13,
   "id": "26f1d33a",
   "metadata": {},
   "outputs": [
    {
     "name": "stdout",
     "output_type": "stream",
     "text": [
      "[1, 8, 27, 64, 125, 216, 343, 512, 729]\n"
     ]
    }
   ],
   "source": [
    "l = [1,2,3,4,5,6,7,8,9]\n",
    "l1 = [x **3 for x in l]\n",
    "print(l1)"
   ]
  },
  {
   "cell_type": "code",
   "execution_count": null,
   "id": "16ce51a6",
   "metadata": {},
   "outputs": [],
   "source": []
  }
 ],
 "metadata": {
  "kernelspec": {
   "display_name": "Python 3 (ipykernel)",
   "language": "python",
   "name": "python3"
  },
  "language_info": {
   "codemirror_mode": {
    "name": "ipython",
    "version": 3
   },
   "file_extension": ".py",
   "mimetype": "text/x-python",
   "name": "python",
   "nbconvert_exporter": "python",
   "pygments_lexer": "ipython3",
   "version": "3.9.13"
  }
 },
 "nbformat": 4,
 "nbformat_minor": 5
}
