{
 "cells": [
  {
   "cell_type": "code",
   "execution_count": 11,
   "id": "6fabd0c6",
   "metadata": {},
   "outputs": [],
   "source": [
    "record = {1001 : {\"Name\" : \"5 Star\"         , \"Price\" : 10 , \"Qn\" : 200}, \n",
    "          1002 : {\"Name\" : \"Bar-One\"        , \"Price\" : 20 , \"Qn\" : 100}, \n",
    "          1003 : {\"Name\" : \"Candy\"          , \"Price\" : 2  , \"Qn\" : 1000}, \n",
    "          1004 : {\"Name\" : \"Chocolate Cake\" , \"Price\" : 550, \"Qn\" : 8}, \n",
    "          1005 : {\"Name\" : \"Blueberry Cake\" , \"Price\" : 650, \"Qn\" : 5}}"
   ]
  },
  {
   "cell_type": "code",
   "execution_count": 12,
   "id": "fbbcf4e2",
   "metadata": {},
   "outputs": [
    {
     "data": {
      "text/plain": [
       "{1001: {'Name': '5 Star', 'Price': 10, 'Qn': 200},\n",
       " 1002: {'Name': 'Bar-One', 'Price': 20, 'Qn': 100},\n",
       " 1003: {'Name': 'Candy', 'Price': 2, 'Qn': 1000},\n",
       " 1004: {'Name': 'Chocolate Cake', 'Price': 550, 'Qn': 8},\n",
       " 1005: {'Name': 'Blueberry Cake', 'Price': 650, 'Qn': 5}}"
      ]
     },
     "execution_count": 12,
     "metadata": {},
     "output_type": "execute_result"
    }
   ],
   "source": [
    "record"
   ]
  },
  {
   "cell_type": "code",
   "execution_count": 13,
   "id": "032daf3c",
   "metadata": {},
   "outputs": [
    {
     "data": {
      "text/plain": [
       "{'Name': '5 Star', 'Price': 10, 'Qn': 200}"
      ]
     },
     "execution_count": 13,
     "metadata": {},
     "output_type": "execute_result"
    }
   ],
   "source": [
    "record[1001]"
   ]
  },
  {
   "cell_type": "code",
   "execution_count": 15,
   "id": "18290e34",
   "metadata": {},
   "outputs": [
    {
     "name": "stdout",
     "output_type": "stream",
     "text": [
      "5 Star\n",
      "10\n",
      "200\n"
     ]
    }
   ],
   "source": [
    "print(record[1001]['Name'])\n",
    "print(record[1001]['Price'])\n",
    "print(record[1001]['Qn'])"
   ]
  },
  {
   "cell_type": "code",
   "execution_count": null,
   "id": "0a654af0",
   "metadata": {},
   "outputs": [],
   "source": []
  }
 ],
 "metadata": {
  "kernelspec": {
   "display_name": "Python 3 (ipykernel)",
   "language": "python",
   "name": "python3"
  },
  "language_info": {
   "codemirror_mode": {
    "name": "ipython",
    "version": 3
   },
   "file_extension": ".py",
   "mimetype": "text/x-python",
   "name": "python",
   "nbconvert_exporter": "python",
   "pygments_lexer": "ipython3",
   "version": "3.9.13"
  }
 },
 "nbformat": 4,
 "nbformat_minor": 5
}
