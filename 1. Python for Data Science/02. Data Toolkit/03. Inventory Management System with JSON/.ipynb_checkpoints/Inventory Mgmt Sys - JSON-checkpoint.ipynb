{
 "cells": [
  {
   "cell_type": "code",
   "execution_count": null,
   "id": "f9a10aae",
   "metadata": {},
   "outputs": [],
   "source": [
    "import json \n",
    "\n",
    "record = {1001 : {\"Name\" : \"5 Star\"         , \"Price\" : 10 , \"Qn\" : 200}, \n",
    "          1002 : {\"Name\" : \"Bar-One\"        , \"Price\" : 20 , \"Qn\" : 100}, \n",
    "          1003 : {\"Name\" : \"Candy\"          , \"Price\" : 2  , \"Qn\" : 1000}, \n",
    "          1004 : {\"Name\" : \"Cake\"           , \"Price\" : 150, \"Qn\" : 18}, \n",
    "          1005 : {\"Name\" : \"Biscuit\"       , \"Price\" :   50, \"Qn\" : 35}}\n",
    "\n",
    "\n",
    "print(\"-----------------MENU----------------------\")\n",
    "print(\"PID  : Name     | Price | Qn Avl.\")\n",
    "print(\"-------------------------------------------\")\n",
    "for key in record.keys():\n",
    "    print(key, \":\", record[key]['Name'], \"\\t|\", record[key]['Price'], \"\\t|\", record[key]['Qn'])\n",
    "print(\"-------------------------------------------\\n\")\n",
    "\n",
    "print(\"--------------Enter Requirement--------------\")\n",
    "ui_pr = int(input(\"Enter Product ID : \"))\n",
    "ui_qn = int(input(\"Enter Quantity   : \"))\n",
    "print(\"-------------------------------------------\\n\")\n",
    "\n",
    "print(\"------------------BILL---------------------\")\n",
    "print(\"Product Name       : \", record[ui_pr]['Name'])\n",
    "print(\"Price Per Item (₹) : \", record[ui_pr]['Price'], \"Rs\")\n",
    "print(\"Quantity Requested : \", ui_qn)\n",
    "print(\"-------------------------------------------\")\n",
    "print(\"Total Bill (₹)     : \", record[ui_pr]['Price'] * ui_qn, \"Rs\")\n",
    "print(\"-------------------------------------------\\n\")\n"
   ]
  },
  {
   "cell_type": "code",
   "execution_count": null,
   "id": "fb19c1d3",
   "metadata": {},
   "outputs": [],
   "source": []
  }
 ],
 "metadata": {
  "kernelspec": {
   "display_name": "Python 3 (ipykernel)",
   "language": "python",
   "name": "python3"
  },
  "language_info": {
   "codemirror_mode": {
    "name": "ipython",
    "version": 3
   },
   "file_extension": ".py",
   "mimetype": "text/x-python",
   "name": "python",
   "nbconvert_exporter": "python",
   "pygments_lexer": "ipython3",
   "version": "3.9.13"
  }
 },
 "nbformat": 4,
 "nbformat_minor": 5
}
