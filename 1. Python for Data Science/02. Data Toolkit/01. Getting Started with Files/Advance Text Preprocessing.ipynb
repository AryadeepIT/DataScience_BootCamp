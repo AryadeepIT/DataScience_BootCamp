{
 "cells": [
  {
   "cell_type": "code",
   "execution_count": 7,
   "id": "60dcdeb9",
   "metadata": {},
   "outputs": [],
   "source": [
    "fd = open('test3.txt', 'r')\n",
    "txt = fd.read()\n",
    "fd.close()"
   ]
  },
  {
   "cell_type": "code",
   "execution_count": 8,
   "id": "1db18900",
   "metadata": {},
   "outputs": [
    {
     "data": {
      "text/plain": [
       "'The COVID-19 pandemic, also known as the coronavirus pandemic, is an ongoing global pandemic of coronavirus disease 2019 (COVID-19) caused by severe acute respiratory syndrome coronavirus 2 (SARS-CoV-2). The novel virus was first identified in an outbreak in the Chinese city of Wuhan in December 2019. Attempts to contain it there failed, allowing the virus to spread to other areas of Asia and later worldwide. The World Health Organization (WHO) declared the outbreak a public health emergency of international concern on 30 January 2020, and a pandemic on 11 March 2020. As of 9 February 2023, the pandemic had caused more than 672 million cases and 6.84 million confirmed deaths, making it one of the deadliest in history.\\n\\nCOVID-19 symptoms range from undetectable to deadly, but most commonly include fever, dry cough, and fatigue. Severe illness is more likely in elderly patients and those with certain underlying medical conditions. COVID-19 transmits when people breathe in air contaminated by droplets and small airborne particles containing the virus. The risk of breathing these in is highest when people are in close proximity, but they can be inhaled over longer distances, particularly indoors. Transmission can also occur if contaminated fluids reach the eyes, nose, or mouth, or, more rarely, through contaminated surfaces. Infected individuals are typically contagious for 10 days and can spread the virus even if they do not develop symptoms. Mutations have produced many strains (variants) with varying degrees of infectivity and virulence.[5][6]\\n\\nThe COVID-19 vaccines have been approved and widely distributed in various countries since December 2020. According to a June 2022 study, COVID-19 vaccines prevented an additional 14.4 million to 19.8 million deaths in 185 countries and territories from 8 December 2020, to 8 December 2021.[7][8] Other recommended preventive measures include social distancing, wearing masks, improving ventilation and air filtration, and quarantining those who have been exposed or are infected. Treatments include novel antiviral drugs and symptom control. Public health mitigation measures include travel restrictions, lockdowns, business restrictions and closures, workplace hazard controls, quarantines, testing systems, and contact tracing of the infected, which, together with treatments, serve to bring about the control and eventual end of the pandemic.\\n\\nThe pandemic has triggered severe social and economic disruption around the world, including the largest global recession since the Great Depression.[9] Widespread supply shortages, including food shortages, were caused by supply chain disruptions. Reduced human activity led to an unprecedented decrease in pollution. Educational institutions and public areas were partially or fully closed in many jurisdictions, and many events were cancelled or postponed during 2020 and 2021. Misinformation has circulated through social media and mass media, and political tensions have intensified. The pandemic has raised issues of racial and geographic discrimination, health equity, and the balance between public health imperatives and individual rights.\\n\\nWhile the WHO still considers the pandemic active,[10] some countries are transitioning their public health approach towards regarding SARS-CoV-2 as an endemic virus.The pandemic has raised issues of racial and geographic discrimination, health equity, and the balance between public health imperatives and individual rights.'"
      ]
     },
     "execution_count": 8,
     "metadata": {},
     "output_type": "execute_result"
    }
   ],
   "source": [
    "txt"
   ]
  },
  {
   "cell_type": "code",
   "execution_count": 9,
   "id": "db28d7d5",
   "metadata": {},
   "outputs": [
    {
     "name": "stdout",
     "output_type": "stream",
     "text": [
      "The COVID-19 pandemic, also known as the coronavirus pandemic, is an ongoing global pandemic of coronavirus disease 2019 (COVID-19) caused by severe acute respiratory syndrome coronavirus 2 (SARS-CoV-2). The novel virus was first identified in an outbreak in the Chinese city of Wuhan in December 2019. Attempts to contain it there failed, allowing the virus to spread to other areas of Asia and later worldwide. The World Health Organization (WHO) declared the outbreak a public health emergency of international concern on 30 January 2020, and a pandemic on 11 March 2020. As of 9 February 2023, the pandemic had caused more than 672 million cases and 6.84 million confirmed deaths, making it one of the deadliest in history.\n",
      "\n",
      "COVID-19 symptoms range from undetectable to deadly, but most commonly include fever, dry cough, and fatigue. Severe illness is more likely in elderly patients and those with certain underlying medical conditions. COVID-19 transmits when people breathe in air contaminated by droplets and small airborne particles containing the virus. The risk of breathing these in is highest when people are in close proximity, but they can be inhaled over longer distances, particularly indoors. Transmission can also occur if contaminated fluids reach the eyes, nose, or mouth, or, more rarely, through contaminated surfaces. Infected individuals are typically contagious for 10 days and can spread the virus even if they do not develop symptoms. Mutations have produced many strains (variants) with varying degrees of infectivity and virulence.[5][6]\n",
      "\n",
      "The COVID-19 vaccines have been approved and widely distributed in various countries since December 2020. According to a June 2022 study, COVID-19 vaccines prevented an additional 14.4 million to 19.8 million deaths in 185 countries and territories from 8 December 2020, to 8 December 2021.[7][8] Other recommended preventive measures include social distancing, wearing masks, improving ventilation and air filtration, and quarantining those who have been exposed or are infected. Treatments include novel antiviral drugs and symptom control. Public health mitigation measures include travel restrictions, lockdowns, business restrictions and closures, workplace hazard controls, quarantines, testing systems, and contact tracing of the infected, which, together with treatments, serve to bring about the control and eventual end of the pandemic.\n",
      "\n",
      "The pandemic has triggered severe social and economic disruption around the world, including the largest global recession since the Great Depression.[9] Widespread supply shortages, including food shortages, were caused by supply chain disruptions. Reduced human activity led to an unprecedented decrease in pollution. Educational institutions and public areas were partially or fully closed in many jurisdictions, and many events were cancelled or postponed during 2020 and 2021. Misinformation has circulated through social media and mass media, and political tensions have intensified. The pandemic has raised issues of racial and geographic discrimination, health equity, and the balance between public health imperatives and individual rights.\n",
      "\n",
      "While the WHO still considers the pandemic active,[10] some countries are transitioning their public health approach towards regarding SARS-CoV-2 as an endemic virus.The pandemic has raised issues of racial and geographic discrimination, health equity, and the balance between public health imperatives and individual rights.\n"
     ]
    }
   ],
   "source": [
    "print(txt)"
   ]
  },
  {
   "cell_type": "code",
   "execution_count": 18,
   "id": "76bb3123",
   "metadata": {},
   "outputs": [
    {
     "name": "stdout",
     "output_type": "stream",
     "text": [
      "The COVID-19 pandemic, also known as the coronavirus pandemic, is an ongoing global pandemic of coronavirus disease 2019 (COVID-19) caused by severe acute respiratory syndrome coronavirus 2 (SARS-CoV-2). The novel virus was first identified in an outbreak in the Chinese city of Wuhan in December 2019. Attempts to contain it there failed, allowing the virus to spread to other areas of Asia and later worldwide. The World Health Organization (WHO) declared the outbreak a public health emergency of international concern on 30 January 2020, and a pandemic on 11 March 2020. As of 9 February 2023, the pandemic had caused more than 672 million cases and 6.84 million confirmed deaths, making it one of the deadliest in history.\n",
      "\n",
      "COVID-19 symptoms range from undetectable to deadly, but most commonly include fever, dry cough, and fatigue. Severe illness is more likely in elderly patients and those with certain underlying medical conditions. COVID-19 transmits when people breathe in air contaminated by droplets and small airborne particles containing the virus. The risk of breathing these in is highest when people are in close proximity, but they can be inhaled over longer distances, particularly indoors. Transmission can also occur if contaminated fluids reach the eyes, nose, or mouth, or, more rarely, through contaminated surfaces. Infected individuals are typically contagious for 10 days and can spread the virus even if they do not develop symptoms. Mutations have produced many strains (variants) with varying degrees of infectivity and virulence.[6]\n",
      "\n",
      "The COVID-19 vaccines have been approved and widely distributed in various countries since December 2020. According to a June 2022 study, COVID-19 vaccines prevented an additional 14.4 million to 19.8 million deaths in 185 countries and territories from 8 December 2020, to 8 December 2021.[7][8] Other recommended preventive measures include social distancing, wearing masks, improving ventilation and air filtration, and quarantining those who have been exposed or are infected. Treatments include novel antiviral drugs and symptom control. Public health mitigation measures include travel restrictions, lockdowns, business restrictions and closures, workplace hazard controls, quarantines, testing systems, and contact tracing of the infected, which, together with treatments, serve to bring about the control and eventual end of the pandemic.\n",
      "\n",
      "The pandemic has triggered severe social and economic disruption around the world, including the largest global recession since the Great Depression.[9] Widespread supply shortages, including food shortages, were caused by supply chain disruptions. Reduced human activity led to an unprecedented decrease in pollution. Educational institutions and public areas were partially or fully closed in many jurisdictions, and many events were cancelled or postponed during 2020 and 2021. Misinformation has circulated through social media and mass media, and political tensions have intensified. The pandemic has raised issues of racial and geographic discrimination, health equity, and the balance between public health imperatives and individual rights.\n",
      "\n",
      "While the WHO still considers the pandemic active,[10] some countries are transitioning their public health approach towards regarding SARS-CoV-2 as an endemic virus.The pandemic has raised issues of racial and geographic discrimination, health equity, and the balance between public health imperatives and individual rights.\n"
     ]
    }
   ],
   "source": [
    "# minimum number [5] , maximum number [10]\n",
    "print(txt.replace('[5]', ''))  # [5] is gone"
   ]
  },
  {
   "cell_type": "code",
   "execution_count": 19,
   "id": "cead7092",
   "metadata": {},
   "outputs": [
    {
     "name": "stdout",
     "output_type": "stream",
     "text": [
      "The COVID-19 pandemic, also known as the coronavirus pandemic, is an ongoing global pandemic of coronavirus disease 2019 (COVID-19) caused by severe acute respiratory syndrome coronavirus 2 (SARS-CoV-2). The novel virus was first identified in an outbreak in the Chinese city of Wuhan in December 2019. Attempts to contain it there failed, allowing the virus to spread to other areas of Asia and later worldwide. The World Health Organization (WHO) declared the outbreak a public health emergency of international concern on 30 January 2020, and a pandemic on 11 March 2020. As of 9 February 2023, the pandemic had caused more than 672 million cases and 6.84 million confirmed deaths, making it one of the deadliest in history.\n",
      "\n",
      "COVID-19 symptoms range from undetectable to deadly, but most commonly include fever, dry cough, and fatigue. Severe illness is more likely in elderly patients and those with certain underlying medical conditions. COVID-19 transmits when people breathe in air contaminated by droplets and small airborne particles containing the virus. The risk of breathing these in is highest when people are in close proximity, but they can be inhaled over longer distances, particularly indoors. Transmission can also occur if contaminated fluids reach the eyes, nose, or mouth, or, more rarely, through contaminated surfaces. Infected individuals are typically contagious for 10 days and can spread the virus even if they do not develop symptoms. Mutations have produced many strains (variants) with varying degrees of infectivity and virulence.[5]\n",
      "\n",
      "The COVID-19 vaccines have been approved and widely distributed in various countries since December 2020. According to a June 2022 study, COVID-19 vaccines prevented an additional 14.4 million to 19.8 million deaths in 185 countries and territories from 8 December 2020, to 8 December 2021.[7][8] Other recommended preventive measures include social distancing, wearing masks, improving ventilation and air filtration, and quarantining those who have been exposed or are infected. Treatments include novel antiviral drugs and symptom control. Public health mitigation measures include travel restrictions, lockdowns, business restrictions and closures, workplace hazard controls, quarantines, testing systems, and contact tracing of the infected, which, together with treatments, serve to bring about the control and eventual end of the pandemic.\n",
      "\n",
      "The pandemic has triggered severe social and economic disruption around the world, including the largest global recession since the Great Depression.[9] Widespread supply shortages, including food shortages, were caused by supply chain disruptions. Reduced human activity led to an unprecedented decrease in pollution. Educational institutions and public areas were partially or fully closed in many jurisdictions, and many events were cancelled or postponed during 2020 and 2021. Misinformation has circulated through social media and mass media, and political tensions have intensified. The pandemic has raised issues of racial and geographic discrimination, health equity, and the balance between public health imperatives and individual rights.\n",
      "\n",
      "While the WHO still considers the pandemic active,[10] some countries are transitioning their public health approach towards regarding SARS-CoV-2 as an endemic virus.The pandemic has raised issues of racial and geographic discrimination, health equity, and the balance between public health imperatives and individual rights.\n"
     ]
    }
   ],
   "source": [
    "print(txt.replace('[6]', ''))    # [6] is gone, but [5] is reappeared"
   ]
  },
  {
   "cell_type": "code",
   "execution_count": 26,
   "id": "4e8514a2",
   "metadata": {},
   "outputs": [],
   "source": [
    "for i in range(5, 11):\n",
    "    pattern = '['+str(i)+']'   #typecast the whole format\n",
    "    txt = txt.replace(pattern,'')"
   ]
  },
  {
   "cell_type": "code",
   "execution_count": 27,
   "id": "1befadeb",
   "metadata": {},
   "outputs": [
    {
     "name": "stdout",
     "output_type": "stream",
     "text": [
      "The COVID-19 pandemic, also known as the coronavirus pandemic, is an ongoing global pandemic of coronavirus disease 2019 (COVID-19) caused by severe acute respiratory syndrome coronavirus 2 (SARS-CoV-2). The novel virus was first identified in an outbreak in the Chinese city of Wuhan in December 2019. Attempts to contain it there failed, allowing the virus to spread to other areas of Asia and later worldwide. The World Health Organization (WHO) declared the outbreak a public health emergency of international concern on 30 January 2020, and a pandemic on 11 March 2020. As of 9 February 2023, the pandemic had caused more than 672 million cases and 6.84 million confirmed deaths, making it one of the deadliest in history.\n",
      "\n",
      "COVID-19 symptoms range from undetectable to deadly, but most commonly include fever, dry cough, and fatigue. Severe illness is more likely in elderly patients and those with certain underlying medical conditions. COVID-19 transmits when people breathe in air contaminated by droplets and small airborne particles containing the virus. The risk of breathing these in is highest when people are in close proximity, but they can be inhaled over longer distances, particularly indoors. Transmission can also occur if contaminated fluids reach the eyes, nose, or mouth, or, more rarely, through contaminated surfaces. Infected individuals are typically contagious for 10 days and can spread the virus even if they do not develop symptoms. Mutations have produced many strains (variants) with varying degrees of infectivity and virulence.\n",
      "\n",
      "The COVID-19 vaccines have been approved and widely distributed in various countries since December 2020. According to a June 2022 study, COVID-19 vaccines prevented an additional 14.4 million to 19.8 million deaths in 185 countries and territories from 8 December 2020, to 8 December 2021. Other recommended preventive measures include social distancing, wearing masks, improving ventilation and air filtration, and quarantining those who have been exposed or are infected. Treatments include novel antiviral drugs and symptom control. Public health mitigation measures include travel restrictions, lockdowns, business restrictions and closures, workplace hazard controls, quarantines, testing systems, and contact tracing of the infected, which, together with treatments, serve to bring about the control and eventual end of the pandemic.\n",
      "\n",
      "The pandemic has triggered severe social and economic disruption around the world, including the largest global recession since the Great Depression. Widespread supply shortages, including food shortages, were caused by supply chain disruptions. Reduced human activity led to an unprecedented decrease in pollution. Educational institutions and public areas were partially or fully closed in many jurisdictions, and many events were cancelled or postponed during 2020 and 2021. Misinformation has circulated through social media and mass media, and political tensions have intensified. The pandemic has raised issues of racial and geographic discrimination, health equity, and the balance between public health imperatives and individual rights.\n",
      "\n",
      "While the WHO still considers the pandemic active, some countries are transitioning their public health approach towards regarding SARS-CoV-2 as an endemic virus.The pandemic has raised issues of racial and geographic discrimination, health equity, and the balance between public health imperatives and individual rights.\n"
     ]
    }
   ],
   "source": [
    "print(txt)"
   ]
  },
  {
   "cell_type": "code",
   "execution_count": null,
   "id": "06b24961",
   "metadata": {},
   "outputs": [],
   "source": [
    "# # deal with special characters\n",
    "# for i in \"!@#$%^\":\n",
    "#     txt = txt.replace(i, '')"
   ]
  }
 ],
 "metadata": {
  "kernelspec": {
   "display_name": "Python 3 (ipykernel)",
   "language": "python",
   "name": "python3"
  },
  "language_info": {
   "codemirror_mode": {
    "name": "ipython",
    "version": 3
   },
   "file_extension": ".py",
   "mimetype": "text/x-python",
   "name": "python",
   "nbconvert_exporter": "python",
   "pygments_lexer": "ipython3",
   "version": "3.9.13"
  }
 },
 "nbformat": 4,
 "nbformat_minor": 5
}
