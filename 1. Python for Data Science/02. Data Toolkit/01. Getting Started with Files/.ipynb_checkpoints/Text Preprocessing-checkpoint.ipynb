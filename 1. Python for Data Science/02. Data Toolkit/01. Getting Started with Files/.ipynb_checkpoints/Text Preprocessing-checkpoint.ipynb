{
 "cells": [
  {
   "cell_type": "code",
   "execution_count": 3,
   "id": "5bc7d041",
   "metadata": {},
   "outputs": [],
   "source": [
    "fd = open('test2.txt', 'r')\n",
    "txt = fd.read()\n",
    "fd.close()"
   ]
  },
  {
   "cell_type": "code",
   "execution_count": 5,
   "id": "3a48af59",
   "metadata": {},
   "outputs": [
    {
     "data": {
      "text/plain": [
       "'Lorem ipsum dolor sit amet, consectetur adipiscing elit, sed do eiusmod tempor incididunt ut labore et dolore magna aliqua. Nec dui nunc mattis enim ut tellus elementum sagittis vitae. Pellentesque massa placerat duis ultricies lacus sed turpis tincidunt id. Aliquet bibendum enim facilisis gravida neque convallis a cras. Nullam eget felis eget nunc lobortis mattis. Nisi lacus sed viverra tellus in hac.\\n\\nLibero justo laoreet sit amet cursus sit amet. Gravida neque convallis a cras semper auctor neque vitae. Sed faucibus turpis in eu mi bibendum. Nunc sed blandit libero volutpat sed cras ornare. Non nisi est sit amet facilisis. Lacus laoreet non curabitur gravida arcu ac. Netus et malesuada fames ac turpis egestas sed tempus. Dolor sit amet consectetur adipiscing elit. In arcu cursus euismod quis viverra nibh cras pulvinar.\\n\\nLeo a diam sollicitudin tempor. Aliquet sagittis id consectetur purus ut faucibus pulvinar elementum integer. Euismod elementum nisi quis eleifend quam adipiscing vitae proin sagittis. Rhoncus dolor purus non enim praesent elementum facilisis leo. Massa id neque aliquam vestibulum morbi. Amet purus gravida quis blandit. Scelerisque eu ultrices vitae auctor eu.'"
      ]
     },
     "execution_count": 5,
     "metadata": {},
     "output_type": "execute_result"
    }
   ],
   "source": [
    "txt"
   ]
  },
  {
   "cell_type": "code",
   "execution_count": 4,
   "id": "d7cfc2b2",
   "metadata": {},
   "outputs": [
    {
     "name": "stdout",
     "output_type": "stream",
     "text": [
      "Lorem ipsum dolor sit amet, consectetur adipiscing elit, sed do eiusmod tempor incididunt ut labore et dolore magna aliqua. Nec dui nunc mattis enim ut tellus elementum sagittis vitae. Pellentesque massa placerat duis ultricies lacus sed turpis tincidunt id. Aliquet bibendum enim facilisis gravida neque convallis a cras. Nullam eget felis eget nunc lobortis mattis. Nisi lacus sed viverra tellus in hac.\n",
      "\n",
      "Libero justo laoreet sit amet cursus sit amet. Gravida neque convallis a cras semper auctor neque vitae. Sed faucibus turpis in eu mi bibendum. Nunc sed blandit libero volutpat sed cras ornare. Non nisi est sit amet facilisis. Lacus laoreet non curabitur gravida arcu ac. Netus et malesuada fames ac turpis egestas sed tempus. Dolor sit amet consectetur adipiscing elit. In arcu cursus euismod quis viverra nibh cras pulvinar.\n",
      "\n",
      "Leo a diam sollicitudin tempor. Aliquet sagittis id consectetur purus ut faucibus pulvinar elementum integer. Euismod elementum nisi quis eleifend quam adipiscing vitae proin sagittis. Rhoncus dolor purus non enim praesent elementum facilisis leo. Massa id neque aliquam vestibulum morbi. Amet purus gravida quis blandit. Scelerisque eu ultrices vitae auctor eu.\n"
     ]
    }
   ],
   "source": [
    "print(txt)"
   ]
  },
  {
   "cell_type": "code",
   "execution_count": 6,
   "id": "32738917",
   "metadata": {},
   "outputs": [
    {
     "data": {
      "text/plain": [
       "str"
      ]
     },
     "execution_count": 6,
     "metadata": {},
     "output_type": "execute_result"
    }
   ],
   "source": [
    "type(txt)"
   ]
  },
  {
   "cell_type": "code",
   "execution_count": 8,
   "id": "f6997778",
   "metadata": {},
   "outputs": [],
   "source": [
    "paragraph = txt.split(\"\\n\\n\")  #get list of the string"
   ]
  },
  {
   "cell_type": "code",
   "execution_count": 9,
   "id": "a765efcb",
   "metadata": {},
   "outputs": [
    {
     "data": {
      "text/plain": [
       "['Lorem ipsum dolor sit amet, consectetur adipiscing elit, sed do eiusmod tempor incididunt ut labore et dolore magna aliqua. Nec dui nunc mattis enim ut tellus elementum sagittis vitae. Pellentesque massa placerat duis ultricies lacus sed turpis tincidunt id. Aliquet bibendum enim facilisis gravida neque convallis a cras. Nullam eget felis eget nunc lobortis mattis. Nisi lacus sed viverra tellus in hac.',\n",
       " 'Libero justo laoreet sit amet cursus sit amet. Gravida neque convallis a cras semper auctor neque vitae. Sed faucibus turpis in eu mi bibendum. Nunc sed blandit libero volutpat sed cras ornare. Non nisi est sit amet facilisis. Lacus laoreet non curabitur gravida arcu ac. Netus et malesuada fames ac turpis egestas sed tempus. Dolor sit amet consectetur adipiscing elit. In arcu cursus euismod quis viverra nibh cras pulvinar.',\n",
       " 'Leo a diam sollicitudin tempor. Aliquet sagittis id consectetur purus ut faucibus pulvinar elementum integer. Euismod elementum nisi quis eleifend quam adipiscing vitae proin sagittis. Rhoncus dolor purus non enim praesent elementum facilisis leo. Massa id neque aliquam vestibulum morbi. Amet purus gravida quis blandit. Scelerisque eu ultrices vitae auctor eu.']"
      ]
     },
     "execution_count": 9,
     "metadata": {},
     "output_type": "execute_result"
    }
   ],
   "source": [
    "paragraph"
   ]
  },
  {
   "cell_type": "code",
   "execution_count": 10,
   "id": "763deff7",
   "metadata": {},
   "outputs": [
    {
     "data": {
      "text/plain": [
       "list"
      ]
     },
     "execution_count": 10,
     "metadata": {},
     "output_type": "execute_result"
    }
   ],
   "source": [
    "type(paragraph)"
   ]
  },
  {
   "cell_type": "code",
   "execution_count": 11,
   "id": "2179cc4e",
   "metadata": {},
   "outputs": [
    {
     "data": {
      "text/plain": [
       "3"
      ]
     },
     "execution_count": 11,
     "metadata": {},
     "output_type": "execute_result"
    }
   ],
   "source": [
    "len(paragraph)"
   ]
  },
  {
   "cell_type": "code",
   "execution_count": 12,
   "id": "6a0c2974",
   "metadata": {},
   "outputs": [
    {
     "name": "stdout",
     "output_type": "stream",
     "text": [
      "Lorem ipsum dolor sit amet, consectetur adipiscing elit, sed do eiusmod tempor incididunt ut labore et dolore magna aliqua. Nec dui nunc mattis enim ut tellus elementum sagittis vitae. Pellentesque massa placerat duis ultricies lacus sed turpis tincidunt id. Aliquet bibendum enim facilisis gravida neque convallis a cras. Nullam eget felis eget nunc lobortis mattis. Nisi lacus sed viverra tellus in hac.\n",
      "Libero justo laoreet sit amet cursus sit amet. Gravida neque convallis a cras semper auctor neque vitae. Sed faucibus turpis in eu mi bibendum. Nunc sed blandit libero volutpat sed cras ornare. Non nisi est sit amet facilisis. Lacus laoreet non curabitur gravida arcu ac. Netus et malesuada fames ac turpis egestas sed tempus. Dolor sit amet consectetur adipiscing elit. In arcu cursus euismod quis viverra nibh cras pulvinar.\n",
      "Leo a diam sollicitudin tempor. Aliquet sagittis id consectetur purus ut faucibus pulvinar elementum integer. Euismod elementum nisi quis eleifend quam adipiscing vitae proin sagittis. Rhoncus dolor purus non enim praesent elementum facilisis leo. Massa id neque aliquam vestibulum morbi. Amet purus gravida quis blandit. Scelerisque eu ultrices vitae auctor eu.\n"
     ]
    }
   ],
   "source": [
    "# print each paragraph\n",
    "\n",
    "for i in paragraph:\n",
    "    print(i)\n",
    "    print('')"
   ]
  },
  {
   "cell_type": "code",
   "execution_count": null,
   "id": "264ac792",
   "metadata": {},
   "outputs": [],
   "source": []
  }
 ],
 "metadata": {
  "kernelspec": {
   "display_name": "Python 3 (ipykernel)",
   "language": "python",
   "name": "python3"
  },
  "language_info": {
   "codemirror_mode": {
    "name": "ipython",
    "version": 3
   },
   "file_extension": ".py",
   "mimetype": "text/x-python",
   "name": "python",
   "nbconvert_exporter": "python",
   "pygments_lexer": "ipython3",
   "version": "3.9.13"
  }
 },
 "nbformat": 4,
 "nbformat_minor": 5
}
