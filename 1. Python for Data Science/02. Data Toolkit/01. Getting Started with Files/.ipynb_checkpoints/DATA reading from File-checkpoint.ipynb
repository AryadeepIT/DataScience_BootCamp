{
 "cells": [
  {
   "cell_type": "code",
   "execution_count": 1,
   "id": "f26dad2a",
   "metadata": {},
   "outputs": [
    {
     "name": "stdout",
     "output_type": "stream",
     "text": [
      "Hello, I am Aryadeep from India.\n"
     ]
    }
   ],
   "source": [
    "fd = open('test.txt', 'r')  # fd = file descripter\n",
    "\n",
    "txt = fd.read()\n",
    "print(txt)\n",
    "\n",
    "fd.close()    # close the file"
   ]
  },
  {
   "cell_type": "code",
   "execution_count": null,
   "id": "9362fcba",
   "metadata": {},
   "outputs": [],
   "source": []
  }
 ],
 "metadata": {
  "kernelspec": {
   "display_name": "Python 3 (ipykernel)",
   "language": "python",
   "name": "python3"
  },
  "language_info": {
   "codemirror_mode": {
    "name": "ipython",
    "version": 3
   },
   "file_extension": ".py",
   "mimetype": "text/x-python",
   "name": "python",
   "nbconvert_exporter": "python",
   "pygments_lexer": "ipython3",
   "version": "3.9.13"
  }
 },
 "nbformat": 4,
 "nbformat_minor": 5
}
