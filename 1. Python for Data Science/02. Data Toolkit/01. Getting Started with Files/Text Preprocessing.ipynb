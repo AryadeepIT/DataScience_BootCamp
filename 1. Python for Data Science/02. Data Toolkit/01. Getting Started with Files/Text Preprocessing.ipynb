{
 "cells": [
  {
   "cell_type": "code",
   "execution_count": 3,
   "id": "49bcc3eb",
   "metadata": {},
   "outputs": [],
   "source": [
    "fd = open('test2.txt', 'r')\n",
    "txt = fd.read()\n",
    "fd.close()"
   ]
  },
  {
   "cell_type": "code",
   "execution_count": 5,
   "id": "313d6a63",
   "metadata": {},
   "outputs": [
    {
     "data": {
      "text/plain": [
       "'Lorem ipsum dolor sit amet, consectetur adipiscing elit, sed do eiusmod tempor incididunt ut labore et dolore magna aliqua. Nec dui nunc mattis enim ut tellus elementum sagittis vitae. Pellentesque massa placerat duis ultricies lacus sed turpis tincidunt id. Aliquet bibendum enim facilisis gravida neque convallis a cras. Nullam eget felis eget nunc lobortis mattis. Nisi lacus sed viverra tellus in hac.\\n\\nLibero justo laoreet sit amet cursus sit amet. Gravida neque convallis a cras semper auctor neque vitae. Sed faucibus turpis in eu mi bibendum. Nunc sed blandit libero volutpat sed cras ornare. Non nisi est sit amet facilisis. Lacus laoreet non curabitur gravida arcu ac. Netus et malesuada fames ac turpis egestas sed tempus. Dolor sit amet consectetur adipiscing elit. In arcu cursus euismod quis viverra nibh cras pulvinar.\\n\\nLeo a diam sollicitudin tempor. Aliquet sagittis id consectetur purus ut faucibus pulvinar elementum integer. Euismod elementum nisi quis eleifend quam adipiscing vitae proin sagittis. Rhoncus dolor purus non enim praesent elementum facilisis leo. Massa id neque aliquam vestibulum morbi. Amet purus gravida quis blandit. Scelerisque eu ultrices vitae auctor eu.'"
      ]
     },
     "execution_count": 5,
     "metadata": {},
     "output_type": "execute_result"
    }
   ],
   "source": [
    "txt"
   ]
  },
  {
   "cell_type": "code",
   "execution_count": 4,
   "id": "2653fd73",
   "metadata": {},
   "outputs": [
    {
     "name": "stdout",
     "output_type": "stream",
     "text": [
      "Lorem ipsum dolor sit amet, consectetur adipiscing elit, sed do eiusmod tempor incididunt ut labore et dolore magna aliqua. Nec dui nunc mattis enim ut tellus elementum sagittis vitae. Pellentesque massa placerat duis ultricies lacus sed turpis tincidunt id. Aliquet bibendum enim facilisis gravida neque convallis a cras. Nullam eget felis eget nunc lobortis mattis. Nisi lacus sed viverra tellus in hac.\n",
      "\n",
      "Libero justo laoreet sit amet cursus sit amet. Gravida neque convallis a cras semper auctor neque vitae. Sed faucibus turpis in eu mi bibendum. Nunc sed blandit libero volutpat sed cras ornare. Non nisi est sit amet facilisis. Lacus laoreet non curabitur gravida arcu ac. Netus et malesuada fames ac turpis egestas sed tempus. Dolor sit amet consectetur adipiscing elit. In arcu cursus euismod quis viverra nibh cras pulvinar.\n",
      "\n",
      "Leo a diam sollicitudin tempor. Aliquet sagittis id consectetur purus ut faucibus pulvinar elementum integer. Euismod elementum nisi quis eleifend quam adipiscing vitae proin sagittis. Rhoncus dolor purus non enim praesent elementum facilisis leo. Massa id neque aliquam vestibulum morbi. Amet purus gravida quis blandit. Scelerisque eu ultrices vitae auctor eu.\n"
     ]
    }
   ],
   "source": [
    "print(txt)"
   ]
  },
  {
   "cell_type": "code",
   "execution_count": 6,
   "id": "2b812b85",
   "metadata": {},
   "outputs": [
    {
     "data": {
      "text/plain": [
       "str"
      ]
     },
     "execution_count": 6,
     "metadata": {},
     "output_type": "execute_result"
    }
   ],
   "source": [
    "type(txt)"
   ]
  },
  {
   "cell_type": "markdown",
   "id": "f221ed91",
   "metadata": {},
   "source": [
    "### Paragraph"
   ]
  },
  {
   "cell_type": "code",
   "execution_count": 8,
   "id": "b8c510ae",
   "metadata": {},
   "outputs": [],
   "source": [
    "paragraph = txt.split(\"\\n\\n\")  #get list of the string"
   ]
  },
  {
   "cell_type": "code",
   "execution_count": 9,
   "id": "fba66bfa",
   "metadata": {},
   "outputs": [
    {
     "data": {
      "text/plain": [
       "['Lorem ipsum dolor sit amet, consectetur adipiscing elit, sed do eiusmod tempor incididunt ut labore et dolore magna aliqua. Nec dui nunc mattis enim ut tellus elementum sagittis vitae. Pellentesque massa placerat duis ultricies lacus sed turpis tincidunt id. Aliquet bibendum enim facilisis gravida neque convallis a cras. Nullam eget felis eget nunc lobortis mattis. Nisi lacus sed viverra tellus in hac.',\n",
       " 'Libero justo laoreet sit amet cursus sit amet. Gravida neque convallis a cras semper auctor neque vitae. Sed faucibus turpis in eu mi bibendum. Nunc sed blandit libero volutpat sed cras ornare. Non nisi est sit amet facilisis. Lacus laoreet non curabitur gravida arcu ac. Netus et malesuada fames ac turpis egestas sed tempus. Dolor sit amet consectetur adipiscing elit. In arcu cursus euismod quis viverra nibh cras pulvinar.',\n",
       " 'Leo a diam sollicitudin tempor. Aliquet sagittis id consectetur purus ut faucibus pulvinar elementum integer. Euismod elementum nisi quis eleifend quam adipiscing vitae proin sagittis. Rhoncus dolor purus non enim praesent elementum facilisis leo. Massa id neque aliquam vestibulum morbi. Amet purus gravida quis blandit. Scelerisque eu ultrices vitae auctor eu.']"
      ]
     },
     "execution_count": 9,
     "metadata": {},
     "output_type": "execute_result"
    }
   ],
   "source": [
    "paragraph"
   ]
  },
  {
   "cell_type": "code",
   "execution_count": 10,
   "id": "99a84db3",
   "metadata": {},
   "outputs": [
    {
     "data": {
      "text/plain": [
       "list"
      ]
     },
     "execution_count": 10,
     "metadata": {},
     "output_type": "execute_result"
    }
   ],
   "source": [
    "type(paragraph)"
   ]
  },
  {
   "cell_type": "code",
   "execution_count": 11,
   "id": "bcb1d974",
   "metadata": {},
   "outputs": [
    {
     "data": {
      "text/plain": [
       "3"
      ]
     },
     "execution_count": 11,
     "metadata": {},
     "output_type": "execute_result"
    }
   ],
   "source": [
    "len(paragraph)"
   ]
  },
  {
   "cell_type": "code",
   "execution_count": 13,
   "id": "5bf2b231",
   "metadata": {},
   "outputs": [
    {
     "name": "stdout",
     "output_type": "stream",
     "text": [
      "Lorem ipsum dolor sit amet, consectetur adipiscing elit, sed do eiusmod tempor incididunt ut labore et dolore magna aliqua. Nec dui nunc mattis enim ut tellus elementum sagittis vitae. Pellentesque massa placerat duis ultricies lacus sed turpis tincidunt id. Aliquet bibendum enim facilisis gravida neque convallis a cras. Nullam eget felis eget nunc lobortis mattis. Nisi lacus sed viverra tellus in hac.\n",
      "\n",
      "Libero justo laoreet sit amet cursus sit amet. Gravida neque convallis a cras semper auctor neque vitae. Sed faucibus turpis in eu mi bibendum. Nunc sed blandit libero volutpat sed cras ornare. Non nisi est sit amet facilisis. Lacus laoreet non curabitur gravida arcu ac. Netus et malesuada fames ac turpis egestas sed tempus. Dolor sit amet consectetur adipiscing elit. In arcu cursus euismod quis viverra nibh cras pulvinar.\n",
      "\n",
      "Leo a diam sollicitudin tempor. Aliquet sagittis id consectetur purus ut faucibus pulvinar elementum integer. Euismod elementum nisi quis eleifend quam adipiscing vitae proin sagittis. Rhoncus dolor purus non enim praesent elementum facilisis leo. Massa id neque aliquam vestibulum morbi. Amet purus gravida quis blandit. Scelerisque eu ultrices vitae auctor eu.\n",
      "\n"
     ]
    }
   ],
   "source": [
    "# print each paragraph\n",
    "\n",
    "for i in paragraph:\n",
    "    print(i)\n",
    "    print('')"
   ]
  },
  {
   "cell_type": "markdown",
   "id": "505b1144",
   "metadata": {},
   "source": [
    "### Lines"
   ]
  },
  {
   "cell_type": "code",
   "execution_count": 18,
   "id": "934e5ea8",
   "metadata": {},
   "outputs": [
    {
     "data": {
      "text/plain": [
       "['Lorem ipsum dolor sit amet, consectetur adipiscing elit, sed do eiusmod tempor incididunt ut labore et dolore magna aliqua',\n",
       " ' Nec dui nunc mattis enim ut tellus elementum sagittis vitae',\n",
       " ' Pellentesque massa placerat duis ultricies lacus sed turpis tincidunt id',\n",
       " ' Aliquet bibendum enim facilisis gravida neque convallis a cras',\n",
       " ' Nullam eget felis eget nunc lobortis mattis',\n",
       " ' Nisi lacus sed viverra tellus in hac',\n",
       " '\\n\\nLibero justo laoreet sit amet cursus sit amet',\n",
       " ' Gravida neque convallis a cras semper auctor neque vitae',\n",
       " ' Sed faucibus turpis in eu mi bibendum',\n",
       " ' Nunc sed blandit libero volutpat sed cras ornare',\n",
       " ' Non nisi est sit amet facilisis',\n",
       " ' Lacus laoreet non curabitur gravida arcu ac',\n",
       " ' Netus et malesuada fames ac turpis egestas sed tempus',\n",
       " ' Dolor sit amet consectetur adipiscing elit',\n",
       " ' In arcu cursus euismod quis viverra nibh cras pulvinar',\n",
       " '\\n\\nLeo a diam sollicitudin tempor',\n",
       " ' Aliquet sagittis id consectetur purus ut faucibus pulvinar elementum integer',\n",
       " ' Euismod elementum nisi quis eleifend quam adipiscing vitae proin sagittis',\n",
       " ' Rhoncus dolor purus non enim praesent elementum facilisis leo',\n",
       " ' Massa id neque aliquam vestibulum morbi',\n",
       " ' Amet purus gravida quis blandit',\n",
       " ' Scelerisque eu ultrices vitae auctor eu',\n",
       " '']"
      ]
     },
     "execution_count": 18,
     "metadata": {},
     "output_type": "execute_result"
    }
   ],
   "source": [
    "# Checks how many lines are written\n",
    "\n",
    "Lines = txt.split(\".\")\n",
    "Lines"
   ]
  },
  {
   "cell_type": "code",
   "execution_count": 17,
   "id": "e14dc6fb",
   "metadata": {},
   "outputs": [
    {
     "data": {
      "text/plain": [
       "23"
      ]
     },
     "execution_count": 17,
     "metadata": {},
     "output_type": "execute_result"
    }
   ],
   "source": [
    "len(txt.split(\".\"))"
   ]
  },
  {
   "cell_type": "code",
   "execution_count": 19,
   "id": "0bd9d2d5",
   "metadata": {},
   "outputs": [
    {
     "data": {
      "text/plain": [
       "'Lorem ipsum dolor sit amet, consectetur adipiscing elit, sed do eiusmod tempor incididunt ut labore et dolore magna aliqua'"
      ]
     },
     "execution_count": 19,
     "metadata": {},
     "output_type": "execute_result"
    }
   ],
   "source": [
    "Lines[0]"
   ]
  },
  {
   "cell_type": "code",
   "execution_count": 20,
   "id": "97343503",
   "metadata": {},
   "outputs": [
    {
     "data": {
      "text/plain": [
       "''"
      ]
     },
     "execution_count": 20,
     "metadata": {},
     "output_type": "execute_result"
    }
   ],
   "source": [
    "Lines[-1]  #we have to encounter this"
   ]
  },
  {
   "cell_type": "code",
   "execution_count": 21,
   "id": "330abcc5",
   "metadata": {},
   "outputs": [
    {
     "data": {
      "text/plain": [
       "['Lorem ipsum dolor sit amet, consectetur adipiscing elit, sed do eiusmod tempor incididunt ut labore et dolore magna aliqua',\n",
       " ' Nec dui nunc mattis enim ut tellus elementum sagittis vitae',\n",
       " ' Pellentesque massa placerat duis ultricies lacus sed turpis tincidunt id',\n",
       " ' Aliquet bibendum enim facilisis gravida neque convallis a cras',\n",
       " ' Nullam eget felis eget nunc lobortis mattis',\n",
       " ' Nisi lacus sed viverra tellus in hac',\n",
       " '\\n\\nLibero justo laoreet sit amet cursus sit amet',\n",
       " ' Gravida neque convallis a cras semper auctor neque vitae',\n",
       " ' Sed faucibus turpis in eu mi bibendum',\n",
       " ' Nunc sed blandit libero volutpat sed cras ornare',\n",
       " ' Non nisi est sit amet facilisis',\n",
       " ' Lacus laoreet non curabitur gravida arcu ac',\n",
       " ' Netus et malesuada fames ac turpis egestas sed tempus',\n",
       " ' Dolor sit amet consectetur adipiscing elit',\n",
       " ' In arcu cursus euismod quis viverra nibh cras pulvinar',\n",
       " '\\n\\nLeo a diam sollicitudin tempor',\n",
       " ' Aliquet sagittis id consectetur purus ut faucibus pulvinar elementum integer',\n",
       " ' Euismod elementum nisi quis eleifend quam adipiscing vitae proin sagittis',\n",
       " ' Rhoncus dolor purus non enim praesent elementum facilisis leo',\n",
       " ' Massa id neque aliquam vestibulum morbi',\n",
       " ' Amet purus gravida quis blandit',\n",
       " ' Scelerisque eu ultrices vitae auctor eu']"
      ]
     },
     "execution_count": 21,
     "metadata": {},
     "output_type": "execute_result"
    }
   ],
   "source": [
    "# slice it\n",
    "Lines[:-1]  #no empty line"
   ]
  },
  {
   "cell_type": "code",
   "execution_count": 23,
   "id": "f8ecebe9",
   "metadata": {},
   "outputs": [
    {
     "data": {
      "text/plain": [
       "22"
      ]
     },
     "execution_count": 23,
     "metadata": {},
     "output_type": "execute_result"
    }
   ],
   "source": [
    "len(Lines[:-1])  #previously it was 23"
   ]
  },
  {
   "cell_type": "markdown",
   "id": "18b3ee99",
   "metadata": {},
   "source": [
    "### Words"
   ]
  },
  {
   "cell_type": "code",
   "execution_count": 24,
   "id": "48976010",
   "metadata": {},
   "outputs": [
    {
     "data": {
      "text/plain": [
       "['Lorem',\n",
       " 'ipsum',\n",
       " 'dolor',\n",
       " 'sit',\n",
       " 'amet,',\n",
       " 'consectetur',\n",
       " 'adipiscing',\n",
       " 'elit,',\n",
       " 'sed',\n",
       " 'do',\n",
       " 'eiusmod',\n",
       " 'tempor',\n",
       " 'incididunt',\n",
       " 'ut',\n",
       " 'labore',\n",
       " 'et',\n",
       " 'dolore',\n",
       " 'magna',\n",
       " 'aliqua.',\n",
       " 'Nec',\n",
       " 'dui',\n",
       " 'nunc',\n",
       " 'mattis',\n",
       " 'enim',\n",
       " 'ut',\n",
       " 'tellus',\n",
       " 'elementum',\n",
       " 'sagittis',\n",
       " 'vitae.',\n",
       " 'Pellentesque',\n",
       " 'massa',\n",
       " 'placerat',\n",
       " 'duis',\n",
       " 'ultricies',\n",
       " 'lacus',\n",
       " 'sed',\n",
       " 'turpis',\n",
       " 'tincidunt',\n",
       " 'id.',\n",
       " 'Aliquet',\n",
       " 'bibendum',\n",
       " 'enim',\n",
       " 'facilisis',\n",
       " 'gravida',\n",
       " 'neque',\n",
       " 'convallis',\n",
       " 'a',\n",
       " 'cras.',\n",
       " 'Nullam',\n",
       " 'eget',\n",
       " 'felis',\n",
       " 'eget',\n",
       " 'nunc',\n",
       " 'lobortis',\n",
       " 'mattis.',\n",
       " 'Nisi',\n",
       " 'lacus',\n",
       " 'sed',\n",
       " 'viverra',\n",
       " 'tellus',\n",
       " 'in',\n",
       " 'hac.\\n\\nLibero',\n",
       " 'justo',\n",
       " 'laoreet',\n",
       " 'sit',\n",
       " 'amet',\n",
       " 'cursus',\n",
       " 'sit',\n",
       " 'amet.',\n",
       " 'Gravida',\n",
       " 'neque',\n",
       " 'convallis',\n",
       " 'a',\n",
       " 'cras',\n",
       " 'semper',\n",
       " 'auctor',\n",
       " 'neque',\n",
       " 'vitae.',\n",
       " 'Sed',\n",
       " 'faucibus',\n",
       " 'turpis',\n",
       " 'in',\n",
       " 'eu',\n",
       " 'mi',\n",
       " 'bibendum.',\n",
       " 'Nunc',\n",
       " 'sed',\n",
       " 'blandit',\n",
       " 'libero',\n",
       " 'volutpat',\n",
       " 'sed',\n",
       " 'cras',\n",
       " 'ornare.',\n",
       " 'Non',\n",
       " 'nisi',\n",
       " 'est',\n",
       " 'sit',\n",
       " 'amet',\n",
       " 'facilisis.',\n",
       " 'Lacus',\n",
       " 'laoreet',\n",
       " 'non',\n",
       " 'curabitur',\n",
       " 'gravida',\n",
       " 'arcu',\n",
       " 'ac.',\n",
       " 'Netus',\n",
       " 'et',\n",
       " 'malesuada',\n",
       " 'fames',\n",
       " 'ac',\n",
       " 'turpis',\n",
       " 'egestas',\n",
       " 'sed',\n",
       " 'tempus.',\n",
       " 'Dolor',\n",
       " 'sit',\n",
       " 'amet',\n",
       " 'consectetur',\n",
       " 'adipiscing',\n",
       " 'elit.',\n",
       " 'In',\n",
       " 'arcu',\n",
       " 'cursus',\n",
       " 'euismod',\n",
       " 'quis',\n",
       " 'viverra',\n",
       " 'nibh',\n",
       " 'cras',\n",
       " 'pulvinar.\\n\\nLeo',\n",
       " 'a',\n",
       " 'diam',\n",
       " 'sollicitudin',\n",
       " 'tempor.',\n",
       " 'Aliquet',\n",
       " 'sagittis',\n",
       " 'id',\n",
       " 'consectetur',\n",
       " 'purus',\n",
       " 'ut',\n",
       " 'faucibus',\n",
       " 'pulvinar',\n",
       " 'elementum',\n",
       " 'integer.',\n",
       " 'Euismod',\n",
       " 'elementum',\n",
       " 'nisi',\n",
       " 'quis',\n",
       " 'eleifend',\n",
       " 'quam',\n",
       " 'adipiscing',\n",
       " 'vitae',\n",
       " 'proin',\n",
       " 'sagittis.',\n",
       " 'Rhoncus',\n",
       " 'dolor',\n",
       " 'purus',\n",
       " 'non',\n",
       " 'enim',\n",
       " 'praesent',\n",
       " 'elementum',\n",
       " 'facilisis',\n",
       " 'leo.',\n",
       " 'Massa',\n",
       " 'id',\n",
       " 'neque',\n",
       " 'aliquam',\n",
       " 'vestibulum',\n",
       " 'morbi.',\n",
       " 'Amet',\n",
       " 'purus',\n",
       " 'gravida',\n",
       " 'quis',\n",
       " 'blandit.',\n",
       " 'Scelerisque',\n",
       " 'eu',\n",
       " 'ultrices',\n",
       " 'vitae',\n",
       " 'auctor',\n",
       " 'eu.']"
      ]
     },
     "execution_count": 24,
     "metadata": {},
     "output_type": "execute_result"
    }
   ],
   "source": [
    "Words = txt.split(\" \")\n",
    "Words"
   ]
  },
  {
   "cell_type": "code",
   "execution_count": 25,
   "id": "36316cff",
   "metadata": {},
   "outputs": [
    {
     "data": {
      "text/plain": [
       "180"
      ]
     },
     "execution_count": 25,
     "metadata": {},
     "output_type": "execute_result"
    }
   ],
   "source": [
    "len(Words)"
   ]
  },
  {
   "cell_type": "code",
   "execution_count": null,
   "id": "2f56698c",
   "metadata": {},
   "outputs": [],
   "source": []
  }
 ],
 "metadata": {
  "kernelspec": {
   "display_name": "Python 3 (ipykernel)",
   "language": "python",
   "name": "python3"
  },
  "language_info": {
   "codemirror_mode": {
    "name": "ipython",
    "version": 3
   },
   "file_extension": ".py",
   "mimetype": "text/x-python",
   "name": "python",
   "nbconvert_exporter": "python",
   "pygments_lexer": "ipython3",
   "version": "3.9.13"
  }
 },
 "nbformat": 4,
 "nbformat_minor": 5
}
