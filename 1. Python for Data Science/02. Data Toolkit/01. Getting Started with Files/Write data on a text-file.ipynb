{
 "cells": [
  {
   "cell_type": "markdown",
   "id": "5deea0a1",
   "metadata": {},
   "source": [
    "### To create new file and write something"
   ]
  },
  {
   "cell_type": "code",
   "execution_count": 24,
   "id": "8c81828b",
   "metadata": {},
   "outputs": [],
   "source": [
    "fd = open(\"Data.txt\", 'w')     #creates a new file named 'Data.txt'\n",
    "\n",
    "fd.write(\"Hello All, I am Aryadeep\")\n",
    "\n",
    "fd.close()"
   ]
  },
  {
   "cell_type": "markdown",
   "id": "b36c1bd1",
   "metadata": {},
   "source": [
    "### for checking purpose ..."
   ]
  },
  {
   "cell_type": "code",
   "execution_count": 25,
   "id": "a7b3b031",
   "metadata": {},
   "outputs": [],
   "source": [
    "fd = open(\"Data.txt\", 'r')  \n",
    "\n",
    "txt = fd.read()\n",
    "\n",
    "fd.close()"
   ]
  },
  {
   "cell_type": "code",
   "execution_count": 26,
   "id": "1b22b17d",
   "metadata": {},
   "outputs": [
    {
     "data": {
      "text/plain": [
       "'Hello All, I am Aryadeep'"
      ]
     },
     "execution_count": 26,
     "metadata": {},
     "output_type": "execute_result"
    }
   ],
   "source": [
    "txt"
   ]
  },
  {
   "cell_type": "markdown",
   "id": "0b58be7a",
   "metadata": {},
   "source": [
    "### for append a new text to the previous text"
   ]
  },
  {
   "cell_type": "code",
   "execution_count": 27,
   "id": "76783478",
   "metadata": {},
   "outputs": [],
   "source": [
    "fd = open(\"Data.txt\", 'a')     #append new text with the previous\n",
    "\n",
    "fd.write(\"I am a Data Science Enthusiast.\")\n",
    "\n",
    "fd.close()"
   ]
  },
  {
   "cell_type": "markdown",
   "id": "37507056",
   "metadata": {},
   "source": [
    "### for checking purpose ..."
   ]
  },
  {
   "cell_type": "code",
   "execution_count": 28,
   "id": "1282be1e",
   "metadata": {},
   "outputs": [],
   "source": [
    "fd = open(\"Data.txt\", 'r')\n",
    "\n",
    "txt = fd.read()\n",
    "\n",
    "fd.close()"
   ]
  },
  {
   "cell_type": "code",
   "execution_count": 29,
   "id": "6f627ed3",
   "metadata": {},
   "outputs": [
    {
     "data": {
      "text/plain": [
       "'Hello All, I am AryadeepI am a Data Science Enthusiast.'"
      ]
     },
     "execution_count": 29,
     "metadata": {},
     "output_type": "execute_result"
    }
   ],
   "source": [
    "txt"
   ]
  },
  {
   "cell_type": "markdown",
   "id": "c79d848e",
   "metadata": {},
   "source": [
    "### Write text on newline"
   ]
  },
  {
   "cell_type": "code",
   "execution_count": 30,
   "id": "7236d177",
   "metadata": {},
   "outputs": [],
   "source": [
    "fd = open(\"Data.txt\", 'a')     #append new text with the previous and newline\n",
    "\n",
    "fd.write(\"Nice to meet you\\n\")\n",
    "\n",
    "fd.close()"
   ]
  },
  {
   "cell_type": "markdown",
   "id": "5ab99289",
   "metadata": {},
   "source": [
    "### for checking purpose ..."
   ]
  },
  {
   "cell_type": "code",
   "execution_count": 32,
   "id": "1dd4eb53",
   "metadata": {},
   "outputs": [
    {
     "name": "stdout",
     "output_type": "stream",
     "text": [
      "Hello All, I am AryadeepI am a Data Science Enthusiast.Nice to meet you\n",
      "\n"
     ]
    }
   ],
   "source": [
    "fd = open(\"Data.txt\", 'r')\n",
    "\n",
    "txt = fd.read()\n",
    "\n",
    "fd.close()\n",
    "print(txt)"
   ]
  },
  {
   "cell_type": "markdown",
   "id": "8c6014a4",
   "metadata": {},
   "source": [
    "### append again"
   ]
  },
  {
   "cell_type": "code",
   "execution_count": 33,
   "id": "960c76b6",
   "metadata": {},
   "outputs": [],
   "source": [
    "fd = open(\"Data.txt\", 'a')     #append new text with the previous and newline\n",
    "\n",
    "fd.write(\"Are you there?\\n\")\n",
    "\n",
    "fd.close()"
   ]
  },
  {
   "cell_type": "markdown",
   "id": "49e35506",
   "metadata": {},
   "source": [
    "### for checking purpose ..."
   ]
  },
  {
   "cell_type": "code",
   "execution_count": 34,
   "id": "5539cc6c",
   "metadata": {},
   "outputs": [
    {
     "name": "stdout",
     "output_type": "stream",
     "text": [
      "Hello All, I am AryadeepI am a Data Science Enthusiast.Nice to meet you\n",
      "Are you there?\n",
      "\n"
     ]
    }
   ],
   "source": [
    "fd = open(\"Data.txt\", 'r')\n",
    "\n",
    "txt = fd.read()\n",
    "\n",
    "fd.close()\n",
    "print(txt)"
   ]
  },
  {
   "cell_type": "markdown",
   "id": "9ef20e4e",
   "metadata": {},
   "source": [
    "### take input and show output in newline"
   ]
  },
  {
   "cell_type": "code",
   "execution_count": 35,
   "id": "37ceed9c",
   "metadata": {},
   "outputs": [
    {
     "name": "stdout",
     "output_type": "stream",
     "text": [
      "Enter a texthello, Everyone, I'm hoping you are well\n"
     ]
    }
   ],
   "source": [
    "fd = open(\"Data.txt\", 'a')     #append new text with the previous and newline\n",
    "\n",
    "txt = input(\"Enter a text\")\n",
    "\n",
    "txt = txt + '.\\n'\n",
    "\n",
    "fd.write(txt)\n",
    "\n",
    "fd.close()"
   ]
  },
  {
   "cell_type": "markdown",
   "id": "e9b266ad",
   "metadata": {},
   "source": [
    "### for checking purpose ..."
   ]
  },
  {
   "cell_type": "code",
   "execution_count": 36,
   "id": "86d34725",
   "metadata": {},
   "outputs": [
    {
     "name": "stdout",
     "output_type": "stream",
     "text": [
      "Hello All, I am AryadeepI am a Data Science Enthusiast.Nice to meet you\n",
      "Are you there?\n",
      "hello, Everyone, I'm hoping you are well.\n",
      "\n"
     ]
    }
   ],
   "source": [
    "fd = open(\"Data.txt\", 'r')\n",
    "\n",
    "txt = fd.read()\n",
    "\n",
    "fd.close()\n",
    "print(txt)"
   ]
  },
  {
   "cell_type": "markdown",
   "id": "081227db",
   "metadata": {},
   "source": [
    "### again take input from user"
   ]
  },
  {
   "cell_type": "code",
   "execution_count": 37,
   "id": "963b4343",
   "metadata": {},
   "outputs": [
    {
     "name": "stdout",
     "output_type": "stream",
     "text": [
      "Enter a text : Today we have no classes.\n"
     ]
    }
   ],
   "source": [
    "fd = open(\"Data.txt\", 'a')     #append new text with the previous and newline\n",
    "\n",
    "txt = input(\"Enter a text : \")\n",
    "\n",
    "txt = txt + '.\\n'\n",
    "\n",
    "fd.write(txt)\n",
    "\n",
    "fd.close()"
   ]
  },
  {
   "cell_type": "markdown",
   "id": "15e42575",
   "metadata": {},
   "source": [
    "### for checking purpose ..."
   ]
  },
  {
   "cell_type": "code",
   "execution_count": 38,
   "id": "6b6f1aca",
   "metadata": {},
   "outputs": [
    {
     "name": "stdout",
     "output_type": "stream",
     "text": [
      "Hello All, I am AryadeepI am a Data Science Enthusiast.Nice to meet you\n",
      "Are you there?\n",
      "hello, Everyone, I'm hoping you are well.\n",
      "Today we have no classes..\n",
      "\n"
     ]
    }
   ],
   "source": [
    "fd = open(\"Data.txt\", 'r')\n",
    "\n",
    "txt = fd.read()\n",
    "\n",
    "fd.close()\n",
    "print(txt)"
   ]
  },
  {
   "cell_type": "code",
   "execution_count": null,
   "id": "688b7924",
   "metadata": {},
   "outputs": [],
   "source": []
  }
 ],
 "metadata": {
  "kernelspec": {
   "display_name": "Python 3 (ipykernel)",
   "language": "python",
   "name": "python3"
  },
  "language_info": {
   "codemirror_mode": {
    "name": "ipython",
    "version": 3
   },
   "file_extension": ".py",
   "mimetype": "text/x-python",
   "name": "python",
   "nbconvert_exporter": "python",
   "pygments_lexer": "ipython3",
   "version": "3.9.13"
  }
 },
 "nbformat": 4,
 "nbformat_minor": 5
}
