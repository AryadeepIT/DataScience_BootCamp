{
 "cells": [
  {
   "cell_type": "markdown",
   "id": "96396697",
   "metadata": {},
   "source": [
    "### Product Details\n",
    "1. Product ID\n",
    "2. Name of Product\n",
    "3. Price of Product\n",
    "4. Quantity"
   ]
  },
  {
   "cell_type": "code",
   "execution_count": 1,
   "id": "8765430b",
   "metadata": {},
   "outputs": [
    {
     "name": "stdout",
     "output_type": "stream",
     "text": [
      "----------------------------------\n",
      "Available Product Details : \n",
      "----------------------------------\n",
      "pid:name:₹:qty\n",
      "1,5 Star,5,96\n",
      "2,Milky Bar,5,90\n",
      "3,Cake,300,5\n",
      "4,Candy,1,200\n",
      "----------------------------------\n",
      "Enter product ID: 2\n",
      "Enter product Quantity: 10\n",
      "-----------------------------\n",
      "Product Name     :  Milky Bar\n",
      "Price            :  5\n",
      "Quantity         :  10\n",
      "-----------------------------\n",
      "Billing Amount   :  50\n",
      "-----------------------------\n"
     ]
    }
   ],
   "source": [
    "fd = open('Inventory.txt','r')\n",
    "products = fd.read().split('\\n')\n",
    "fd.close()\n",
    "\n",
    "print(\"----------------------------------\")\n",
    "print(\"Available Product Details : \")\n",
    "print(\"----------------------------------\")\n",
    "print(\"pid:name:₹:qty\")\n",
    "for product in products:\n",
    "    print(product)\n",
    "print(\"----------------------------------\")\n",
    "\n",
    "ui_prod_id = input(\"Enter product ID: \")\n",
    "ui_prod_qn = input(\"Enter product Quantity: \")\n",
    "\n",
    "updated_product_lst = []\n",
    "\n",
    "for product in products:\n",
    "    \n",
    "    prod_details = product.split(',')\n",
    "    \n",
    "    if(prod_details[0] == ui_prod_id):\n",
    "        print(\"-----------------------------\")\n",
    "        print(\"Product Name     : \", prod_details[1])\n",
    "        print(\"Price            : \", prod_details[2]) \n",
    "        print(\"Quantity         : \", ui_prod_qn) \n",
    "        print(\"-----------------------------\")\n",
    "        print(\"Billing Amount   : \", int(ui_prod_qn) * int(prod_details[2]))\n",
    "        print(\"-----------------------------\")\n",
    "        \n",
    "        prod_details[3] = str(int(prod_details[3]) - int(ui_prod_qn))\n",
    "        \n",
    "    updated_product_lst.append(prod_details)\n",
    "    \n",
    "\n",
    "    \n",
    "lst = []\n",
    "\n",
    "for i in updated_product_lst:\n",
    "    prod = i[0] +\",\"+  i[1] +\",\"+ i[2] +\",\"+ i[3] + '\\n'\n",
    "    lst.append(prod)\n",
    "\n",
    "lst[-1] = lst[-1][:-1]\n",
    "    \n",
    "fd = open('Inventory.txt','w')\n",
    "\n",
    "for i in lst:\n",
    "    fd.write(i)\n",
    "\n",
    "fd.close()\n"
   ]
  },
  {
   "cell_type": "code",
   "execution_count": null,
   "id": "764bfc79",
   "metadata": {},
   "outputs": [],
   "source": []
  }
 ],
 "metadata": {
  "kernelspec": {
   "display_name": "Python 3 (ipykernel)",
   "language": "python",
   "name": "python3"
  },
  "language_info": {
   "codemirror_mode": {
    "name": "ipython",
    "version": 3
   },
   "file_extension": ".py",
   "mimetype": "text/x-python",
   "name": "python",
   "nbconvert_exporter": "python",
   "pygments_lexer": "ipython3",
   "version": "3.9.13"
  }
 },
 "nbformat": 4,
 "nbformat_minor": 5
}
