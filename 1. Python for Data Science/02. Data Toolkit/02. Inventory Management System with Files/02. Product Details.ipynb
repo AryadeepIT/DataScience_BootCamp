{
 "cells": [
  {
   "cell_type": "markdown",
   "id": "96396697",
   "metadata": {},
   "source": [
    "### Product Details\n",
    "1. Product ID\n",
    "2. Name of Product\n",
    "3. Price of Product\n",
    "4. Quantity"
   ]
  },
  {
   "cell_type": "code",
   "execution_count": 13,
   "id": "bb145908",
   "metadata": {},
   "outputs": [],
   "source": [
    "fd = open(\"Inventory.txt\", 'r')\n",
    "\n",
    "products = fd.read().split(\"\\n\")\n",
    "\n",
    "fd.close()"
   ]
  },
  {
   "cell_type": "code",
   "execution_count": 14,
   "id": "05ae79dd",
   "metadata": {},
   "outputs": [
    {
     "data": {
      "text/plain": [
       "['1,5 Star,5,100', '2,Milky Bar,5,100', '3,Cake,300,5', '4,Candy,1,200']"
      ]
     },
     "execution_count": 14,
     "metadata": {},
     "output_type": "execute_result"
    }
   ],
   "source": [
    "products"
   ]
  },
  {
   "cell_type": "code",
   "execution_count": 15,
   "id": "37ed2a2d",
   "metadata": {},
   "outputs": [
    {
     "name": "stdout",
     "output_type": "stream",
     "text": [
      "1,5 Star,5,100\n",
      "2,Milky Bar,5,100\n",
      "3,Cake,300,5\n",
      "4,Candy,1,200\n"
     ]
    }
   ],
   "source": [
    "for product in products:\n",
    "    print(product)"
   ]
  },
  {
   "cell_type": "code",
   "execution_count": 16,
   "id": "8a34cbaf",
   "metadata": {},
   "outputs": [
    {
     "name": "stdout",
     "output_type": "stream",
     "text": [
      "<class 'str'>\n",
      "<class 'str'>\n",
      "<class 'str'>\n",
      "<class 'str'>\n"
     ]
    }
   ],
   "source": [
    "for product in products:\n",
    "    print(type(product))"
   ]
  },
  {
   "cell_type": "code",
   "execution_count": 17,
   "id": "ea6bd09d",
   "metadata": {},
   "outputs": [
    {
     "name": "stdout",
     "output_type": "stream",
     "text": [
      "1,5 Star,5,100\n",
      "['1', '5 Star', '5', '100']\n",
      "2,Milky Bar,5,100\n",
      "['2', 'Milky Bar', '5', '100']\n",
      "3,Cake,300,5\n",
      "['3', 'Cake', '300', '5']\n",
      "4,Candy,1,200\n",
      "['4', 'Candy', '1', '200']\n"
     ]
    }
   ],
   "source": [
    "for product in products:\n",
    "    print(product)\n",
    "    print(product.split(\",\"))"
   ]
  },
  {
   "cell_type": "code",
   "execution_count": 18,
   "id": "4448c6ff",
   "metadata": {},
   "outputs": [
    {
     "name": "stdout",
     "output_type": "stream",
     "text": [
      "['1', '5 Star', '5', '100']\n",
      "['2', 'Milky Bar', '5', '100']\n",
      "['3', 'Cake', '300', '5']\n",
      "['4', 'Candy', '1', '200']\n"
     ]
    }
   ],
   "source": [
    "for product in products:\n",
    "    print(product.split(\",\"))"
   ]
  },
  {
   "cell_type": "code",
   "execution_count": 19,
   "id": "6fec8495",
   "metadata": {},
   "outputs": [
    {
     "name": "stdout",
     "output_type": "stream",
     "text": [
      "1\n",
      "2\n",
      "3\n",
      "4\n"
     ]
    }
   ],
   "source": [
    "for product in products:\n",
    "    print(product.split(\",\")[0])   # returns product id of all products"
   ]
  },
  {
   "cell_type": "code",
   "execution_count": 20,
   "id": "055d4def",
   "metadata": {},
   "outputs": [
    {
     "name": "stdout",
     "output_type": "stream",
     "text": [
      "1,5 Star,5,100\n",
      "2,Milky Bar,5,100\n",
      "3,Cake,300,5\n",
      "4,Candy,1,200\n"
     ]
    }
   ],
   "source": [
    "for product in products:\n",
    "    print(product)"
   ]
  },
  {
   "cell_type": "code",
   "execution_count": 21,
   "id": "0515e8df",
   "metadata": {},
   "outputs": [
    {
     "name": "stdout",
     "output_type": "stream",
     "text": [
      "Enter Product ID : \n"
     ]
    }
   ],
   "source": [
    "ui_prod_id = input(\"Enter Product ID : \")\n",
    "\n",
    "for product in products:\n",
    "    if (product.split(\",\")[0] == ui_prod_id):\n",
    "        print(product)"
   ]
  },
  {
   "cell_type": "code",
   "execution_count": 24,
   "id": "8765430b",
   "metadata": {},
   "outputs": [
    {
     "name": "stdout",
     "output_type": "stream",
     "text": [
      "Enter product ID: 1\n",
      "Enter product Quantity: 2\n",
      "-----------------------------\n",
      "Product Name     :  5 Star\n",
      "Price            :  5\n",
      "Quantity         :  2\n",
      "-----------------------------\n",
      "Billing Amount   :  10\n",
      "-----------------------------\n"
     ]
    }
   ],
   "source": [
    "# Generate the bill\n",
    "\n",
    "ui_prod_id = input(\"Enter product ID: \")\n",
    "ui_prod_qn = input(\"Enter product Quantity: \")\n",
    "\n",
    "for product in products:\n",
    "    \n",
    "    prod_details = product.split(',')\n",
    "    \n",
    "    if(prod_details[0] == ui_prod_id):\n",
    "        print(\"-----------------------------\")\n",
    "        print(\"Product Name     : \", prod_details[1])\n",
    "        print(\"Price            : \", prod_details[2]) \n",
    "        print(\"Quantity         : \", ui_prod_qn) \n",
    "        print(\"-----------------------------\")\n",
    "        print(\"Billing Amount   : \", int(ui_prod_qn) * int(prod_details[2]))\n",
    "        print(\"-----------------------------\")"
   ]
  },
  {
   "cell_type": "code",
   "execution_count": null,
   "id": "d22b53ab",
   "metadata": {},
   "outputs": [],
   "source": []
  }
 ],
 "metadata": {
  "kernelspec": {
   "display_name": "Python 3 (ipykernel)",
   "language": "python",
   "name": "python3"
  },
  "language_info": {
   "codemirror_mode": {
    "name": "ipython",
    "version": 3
   },
   "file_extension": ".py",
   "mimetype": "text/x-python",
   "name": "python",
   "nbconvert_exporter": "python",
   "pygments_lexer": "ipython3",
   "version": "3.9.13"
  }
 },
 "nbformat": 4,
 "nbformat_minor": 5
}
