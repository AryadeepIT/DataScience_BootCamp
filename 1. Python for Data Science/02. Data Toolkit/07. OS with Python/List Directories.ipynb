{
 "cells": [
  {
   "cell_type": "code",
   "execution_count": 1,
   "id": "1eba698c",
   "metadata": {},
   "outputs": [],
   "source": [
    "import os"
   ]
  },
  {
   "cell_type": "code",
   "execution_count": 2,
   "id": "fef62ee7",
   "metadata": {},
   "outputs": [
    {
     "data": {
      "text/plain": [
       "'D:\\\\DATA... Everywhere!\\\\1. Python for Data Science\\\\02. Data Toolkit\\\\07. OS with Python'"
      ]
     },
     "execution_count": 2,
     "metadata": {},
     "output_type": "execute_result"
    }
   ],
   "source": [
    "# current working directories\n",
    "os.getcwd()"
   ]
  },
  {
   "cell_type": "code",
   "execution_count": 4,
   "id": "7a56386a",
   "metadata": {},
   "outputs": [
    {
     "data": {
      "text/plain": [
       "['.ipynb_checkpoints',\n",
       " 'Aryadeep',\n",
       " 'Hello',\n",
       " 'Hi',\n",
       " 'List Directories.ipynb',\n",
       " 'OS Basics.ipynb',\n",
       " 'test.txt']"
      ]
     },
     "execution_count": 4,
     "metadata": {},
     "output_type": "execute_result"
    }
   ],
   "source": [
    "# list directories\n",
    "os.listdir()"
   ]
  },
  {
   "cell_type": "code",
   "execution_count": 7,
   "id": "c3cc1a91",
   "metadata": {},
   "outputs": [],
   "source": [
    "# remove a file\n",
    "os.remove('test.txt')"
   ]
  },
  {
   "cell_type": "code",
   "execution_count": 8,
   "id": "680deec1",
   "metadata": {},
   "outputs": [
    {
     "data": {
      "text/plain": [
       "['.ipynb_checkpoints',\n",
       " 'Aryadeep',\n",
       " 'Hello',\n",
       " 'Hi',\n",
       " 'List Directories.ipynb',\n",
       " 'OS Basics.ipynb']"
      ]
     },
     "execution_count": 8,
     "metadata": {},
     "output_type": "execute_result"
    }
   ],
   "source": [
    "os.listdir()"
   ]
  },
  {
   "cell_type": "code",
   "execution_count": 9,
   "id": "7485cc32",
   "metadata": {},
   "outputs": [],
   "source": [
    "# if directory is empty it will delete the whole directory in one go\n",
    "os.rmdir('Aryadeep')"
   ]
  },
  {
   "cell_type": "code",
   "execution_count": 10,
   "id": "0c8e38ce",
   "metadata": {},
   "outputs": [
    {
     "data": {
      "text/plain": [
       "['.ipynb_checkpoints',\n",
       " 'Hello',\n",
       " 'Hi',\n",
       " 'List Directories.ipynb',\n",
       " 'OS Basics.ipynb']"
      ]
     },
     "execution_count": 10,
     "metadata": {},
     "output_type": "execute_result"
    }
   ],
   "source": [
    "os.listdir()"
   ]
  },
  {
   "cell_type": "code",
   "execution_count": 12,
   "id": "09631694",
   "metadata": {},
   "outputs": [],
   "source": [
    "# if directory is fill have to delete internal directory first\n",
    "os.rmdir('Hi/Hello/How')"
   ]
  },
  {
   "cell_type": "code",
   "execution_count": 13,
   "id": "2ab0f344",
   "metadata": {},
   "outputs": [],
   "source": [
    "os.rmdir('Hi/Hello')"
   ]
  },
  {
   "cell_type": "code",
   "execution_count": 14,
   "id": "ea8dfe70",
   "metadata": {},
   "outputs": [],
   "source": [
    "os.rmdir('Hi')"
   ]
  },
  {
   "cell_type": "code",
   "execution_count": 18,
   "id": "70a8b5e3",
   "metadata": {},
   "outputs": [
    {
     "data": {
      "text/plain": [
       "['Aryadeep']"
      ]
     },
     "execution_count": 18,
     "metadata": {},
     "output_type": "execute_result"
    }
   ],
   "source": [
    "os.listdir('Hello')"
   ]
  },
  {
   "cell_type": "code",
   "execution_count": 15,
   "id": "07e6c98a",
   "metadata": {},
   "outputs": [
    {
     "data": {
      "text/plain": [
       "['.ipynb_checkpoints', 'Hello', 'List Directories.ipynb', 'OS Basics.ipynb']"
      ]
     },
     "execution_count": 15,
     "metadata": {},
     "output_type": "execute_result"
    }
   ],
   "source": [
    "os.listdir()"
   ]
  },
  {
   "cell_type": "code",
   "execution_count": 20,
   "id": "6880c743",
   "metadata": {},
   "outputs": [
    {
     "name": "stdout",
     "output_type": "stream",
     "text": [
      "Hello\n",
      "List Directories.ipynb\n",
      "OS Basics.ipynb\n"
     ]
    }
   ],
   "source": [
    "# ignore folder and print other folders\n",
    "for i in os.listdir():\n",
    "    if i != '.ipynb_checkpoints':\n",
    "        print(i)"
   ]
  },
  {
   "cell_type": "code",
   "execution_count": 21,
   "id": "c79cf442",
   "metadata": {},
   "outputs": [
    {
     "data": {
      "text/plain": [
       "['.ipynb_checkpoints',\n",
       " 'Hello',\n",
       " 'Hiiiiiiiiii.txt',\n",
       " 'List Directories.ipynb',\n",
       " 'OS Basics.ipynb']"
      ]
     },
     "execution_count": 21,
     "metadata": {},
     "output_type": "execute_result"
    }
   ],
   "source": [
    "os.listdir()"
   ]
  },
  {
   "cell_type": "code",
   "execution_count": 22,
   "id": "05a0f6ec",
   "metadata": {},
   "outputs": [],
   "source": [
    "# to rename file name\n",
    "os.rename('Hiiiiiiiiii.txt', 'Hi.txt')"
   ]
  },
  {
   "cell_type": "code",
   "execution_count": 23,
   "id": "17754bc2",
   "metadata": {},
   "outputs": [
    {
     "data": {
      "text/plain": [
       "['.ipynb_checkpoints',\n",
       " 'Hello',\n",
       " 'Hi.txt',\n",
       " 'List Directories.ipynb',\n",
       " 'OS Basics.ipynb']"
      ]
     },
     "execution_count": 23,
     "metadata": {},
     "output_type": "execute_result"
    }
   ],
   "source": [
    "os.listdir()"
   ]
  },
  {
   "cell_type": "code",
   "execution_count": 24,
   "id": "3e4b8f0f",
   "metadata": {},
   "outputs": [
    {
     "data": {
      "text/plain": [
       "True"
      ]
     },
     "execution_count": 24,
     "metadata": {},
     "output_type": "execute_result"
    }
   ],
   "source": [
    "# check if path exists or not\n",
    "os.path.exists('Hello')"
   ]
  },
  {
   "cell_type": "code",
   "execution_count": 25,
   "id": "2d6f387d",
   "metadata": {},
   "outputs": [
    {
     "name": "stdout",
     "output_type": "stream",
     "text": [
      "Folder Already exists\n"
     ]
    }
   ],
   "source": [
    "if os.path.exists('Hello/Aryadeep'):\n",
    "    print(\"Folder Already exists\")"
   ]
  },
  {
   "cell_type": "code",
   "execution_count": 26,
   "id": "d44e0deb",
   "metadata": {},
   "outputs": [],
   "source": [
    "if os.path.exists('Hello/Arya'):\n",
    "    print(\"Folder Already exists\")\n",
    "else:\n",
    "    os.mkdir('Hello/Arya')"
   ]
  },
  {
   "cell_type": "code",
   "execution_count": 27,
   "id": "a0ab7167",
   "metadata": {},
   "outputs": [
    {
     "data": {
      "text/plain": [
       "['Arya', 'Aryadeep']"
      ]
     },
     "execution_count": 27,
     "metadata": {},
     "output_type": "execute_result"
    }
   ],
   "source": [
    "os.listdir('Hello')"
   ]
  },
  {
   "cell_type": "code",
   "execution_count": 30,
   "id": "34b1b8df",
   "metadata": {},
   "outputs": [
    {
     "data": {
      "text/plain": [
       "2003"
      ]
     },
     "execution_count": 30,
     "metadata": {},
     "output_type": "execute_result"
    }
   ],
   "source": [
    "os.path.getsize('Hello/Arya/New Text Document.txt')  # 2003 bytes"
   ]
  },
  {
   "cell_type": "code",
   "execution_count": null,
   "id": "ea87078e",
   "metadata": {},
   "outputs": [],
   "source": []
  }
 ],
 "metadata": {
  "kernelspec": {
   "display_name": "Python 3 (ipykernel)",
   "language": "python",
   "name": "python3"
  },
  "language_info": {
   "codemirror_mode": {
    "name": "ipython",
    "version": 3
   },
   "file_extension": ".py",
   "mimetype": "text/x-python",
   "name": "python",
   "nbconvert_exporter": "python",
   "pygments_lexer": "ipython3",
   "version": "3.9.13"
  }
 },
 "nbformat": 4,
 "nbformat_minor": 5
}
