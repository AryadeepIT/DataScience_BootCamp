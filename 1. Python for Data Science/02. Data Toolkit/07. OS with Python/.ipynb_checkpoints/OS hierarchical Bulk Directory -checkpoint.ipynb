{
 "cells": [
  {
   "cell_type": "code",
   "execution_count": 1,
   "id": "afac55dd",
   "metadata": {},
   "outputs": [],
   "source": [
    "import os"
   ]
  },
  {
   "cell_type": "code",
   "execution_count": 2,
   "id": "5ed2fb83",
   "metadata": {},
   "outputs": [
    {
     "name": "stdout",
     "output_type": "stream",
     "text": [
      "High/High1\n",
      "High/High 1/High 1\n",
      "High/High 1/High 2\n",
      "High/High 1/High 3\n",
      "High/High 1/High 4\n",
      "High/High 1/High 5\n",
      "High/High2\n",
      "High/High 2/High 1\n",
      "High/High 2/High 2\n",
      "High/High 2/High 3\n",
      "High/High 2/High 4\n",
      "High/High 2/High 5\n",
      "High/High3\n",
      "High/High 3/High 1\n",
      "High/High 3/High 2\n",
      "High/High 3/High 3\n",
      "High/High 3/High 4\n",
      "High/High 3/High 5\n",
      "High/High4\n",
      "High/High 4/High 1\n",
      "High/High 4/High 2\n",
      "High/High 4/High 3\n",
      "High/High 4/High 4\n",
      "High/High 4/High 5\n",
      "High/High5\n",
      "High/High 5/High 1\n",
      "High/High 5/High 2\n",
      "High/High 5/High 3\n",
      "High/High 5/High 4\n",
      "High/High 5/High 5\n",
      "High/High6\n",
      "High/High 6/High 1\n",
      "High/High 6/High 2\n",
      "High/High 6/High 3\n",
      "High/High 6/High 4\n",
      "High/High 6/High 5\n",
      "High/High7\n",
      "High/High 7/High 1\n",
      "High/High 7/High 2\n",
      "High/High 7/High 3\n",
      "High/High 7/High 4\n",
      "High/High 7/High 5\n",
      "High/High8\n",
      "High/High 8/High 1\n",
      "High/High 8/High 2\n",
      "High/High 8/High 3\n",
      "High/High 8/High 4\n",
      "High/High 8/High 5\n",
      "High/High9\n",
      "High/High 9/High 1\n",
      "High/High 9/High 2\n",
      "High/High 9/High 3\n",
      "High/High 9/High 4\n",
      "High/High 9/High 5\n",
      "High/High10\n",
      "High/High 10/High 1\n",
      "High/High 10/High 2\n",
      "High/High 10/High 3\n",
      "High/High 10/High 4\n",
      "High/High 10/High 5\n"
     ]
    }
   ],
   "source": [
    "master = 'High'\n",
    "os.mkdir(master)\n",
    "for i in range(10):\n",
    "    name= master + '/' + master + str(i+1)\n",
    "    print(name)\n",
    "    for j in range(5):\n",
    "        name=master+ '/' + master + ' ' + str(i+1) + '/' + master + ' ' + str(j+1) \n",
    "        print(name)\n"
   ]
  },
  {
   "cell_type": "code",
   "execution_count": 10,
   "id": "74c3a486",
   "metadata": {},
   "outputs": [],
   "source": [
    "master = 'High'\n",
    "os.mkdir(master)"
   ]
  },
  {
   "cell_type": "code",
   "execution_count": 11,
   "id": "b8f10fb0",
   "metadata": {},
   "outputs": [],
   "source": [
    "for i in range(10):\n",
    "    name= master + '/' + master + \" \" + str(i+1)\n",
    "    os.mkdir(name)\n",
    "    for j in range(5):\n",
    "        name=master+ '/' + master + ' ' + str(i+1) + '/' + master + ' ' + str(j+1) \n",
    "        os.mkdir(name)"
   ]
  },
  {
   "cell_type": "code",
   "execution_count": 8,
   "id": "2cff5d9f",
   "metadata": {},
   "outputs": [
    {
     "name": "stdout",
     "output_type": "stream",
     "text": [
      "31\n"
     ]
    }
   ],
   "source": [
    "master = 'IamArya'\n",
    "\n",
    "os.mkdir(master)\n",
    "\n",
    "n = 5\n",
    "m = 5\n",
    "\n",
    "for i in range(n):\n",
    "    \n",
    "    name = master +'/'+ master + \" \" + str(i+1)\n",
    "    os.mkdir(name)\n",
    "    \n",
    "    for j in range(m):\n",
    "        name = master +'/'+ master + \" \" + str(i+1) +\"/\"+ master + \" \" + str(j+1) \n",
    "        os.mkdir(name)\n",
    "        \n",
    "print(n*m + n + 1)"
   ]
  },
  {
   "cell_type": "code",
   "execution_count": null,
   "id": "063bd075",
   "metadata": {},
   "outputs": [],
   "source": []
  }
 ],
 "metadata": {
  "kernelspec": {
   "display_name": "Python 3 (ipykernel)",
   "language": "python",
   "name": "python3"
  },
  "language_info": {
   "codemirror_mode": {
    "name": "ipython",
    "version": 3
   },
   "file_extension": ".py",
   "mimetype": "text/x-python",
   "name": "python",
   "nbconvert_exporter": "python",
   "pygments_lexer": "ipython3",
   "version": "3.9.13"
  }
 },
 "nbformat": 4,
 "nbformat_minor": 5
}
