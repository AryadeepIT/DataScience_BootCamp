{
 "cells": [
  {
   "cell_type": "code",
   "execution_count": 1,
   "id": "00b762d6",
   "metadata": {},
   "outputs": [],
   "source": [
    "import os"
   ]
  },
  {
   "cell_type": "code",
   "execution_count": 2,
   "id": "cab84f6c",
   "metadata": {},
   "outputs": [],
   "source": [
    "files = os.listdir('Files')"
   ]
  },
  {
   "cell_type": "code",
   "execution_count": 3,
   "id": "e1571b2b",
   "metadata": {},
   "outputs": [
    {
     "name": "stdout",
     "output_type": "stream",
     "text": [
      "This is File 1\n",
      "This is File 1\n",
      "This is File 1\n",
      "This is File 1\n",
      "This is File 1\n",
      "This is File 1\n",
      "This is File 1\n",
      "This is File 1\n",
      "This is File 1\n",
      "This is File 1\n",
      "This is File 1\n",
      "This is File 1\n",
      "This is File 1\n",
      "This is File 1\n",
      "This is File 1\n",
      "This is File 1\n",
      "This is File 1\n",
      "This is File 1\n",
      "This is File 1\n",
      "This is File 1\n",
      "This is File 1\n",
      "This is File 1\n",
      "This is File 1\n",
      "This is File 1\n",
      "This is File 1\n",
      "This is File 1\n",
      "This is File 1\n",
      "This is File 1\n",
      "This is File 2\n",
      "This is File 2\n",
      "This is File 2\n",
      "This is File 2\n",
      "This is File 2\n",
      "This is File 2\n",
      "This is File 2\n",
      "This is File 2\n",
      "This is File 2\n",
      "This is File 2\n",
      "This is File 2\n",
      "This is File 2\n",
      "This is File 2\n",
      "This is File 2\n",
      "This is File 2\n",
      "This is File 2\n",
      "This is File 2\n",
      "This is File 2\n",
      "This is File 2\n",
      "This is File 2\n",
      "This is File 2\n",
      "This is File 2\n",
      "This is File 2\n",
      "This is File 2\n",
      "This is File 2\n",
      "This is File 2\n",
      "This is File 2\n",
      "This is File 2\n",
      "This is File 3\n",
      "This is File 3\n",
      "This is File 3\n",
      "This is File 3\n",
      "This is File 3\n",
      "This is File 3\n",
      "This is File 3\n",
      "This is File 3\n",
      "This is File 3\n",
      "This is File 3\n",
      "This is File 3\n",
      "This is File 3\n",
      "This is File 3\n",
      "This is File 3\n",
      "This is File 3\n",
      "This is File 3\n",
      "This is File 3\n",
      "This is File 3\n",
      "This is File 3\n",
      "This is File 3\n",
      "This is File 3\n",
      "This is File 3\n",
      "This is File 3\n",
      "This is File 3\n",
      "This is File 3\n",
      "This is File 3\n",
      "This is File 3\n",
      "This is File 3\n"
     ]
    }
   ],
   "source": [
    "for i in files:\n",
    "    fd = open('Files/' + i, 'r')\n",
    "    print(fd.read())\n",
    "    fd.close()"
   ]
  },
  {
   "cell_type": "code",
   "execution_count": 4,
   "id": "2d8db5d3",
   "metadata": {},
   "outputs": [],
   "source": [
    "fd_write = open('Data.txt','a')\n",
    "\n",
    "for i in files:\n",
    "    if i != '.DS_Store':\n",
    "        \n",
    "        fd_read = open('Files/'+i,'r')\n",
    "             \n",
    "        fd_write.write(fd_read.read())\n",
    "        \n",
    "        fd_read.close()\n",
    "        \n",
    "fd_write.close()"
   ]
  },
  {
   "cell_type": "code",
   "execution_count": 5,
   "id": "40b2ac61",
   "metadata": {},
   "outputs": [],
   "source": [
    "txt = ''\n",
    "\n",
    "for i in files:\n",
    "    if i != '.DS_Store':\n",
    "        \n",
    "        fd_read = open('Files/'+i,'r')\n",
    "        txt += fd_read.read()\n",
    "        fd_read.close()"
   ]
  },
  {
   "cell_type": "code",
   "execution_count": 6,
   "id": "fd940f76",
   "metadata": {},
   "outputs": [
    {
     "data": {
      "text/plain": [
       "str"
      ]
     },
     "execution_count": 6,
     "metadata": {},
     "output_type": "execute_result"
    }
   ],
   "source": [
    "type(txt)"
   ]
  },
  {
   "cell_type": "code",
   "execution_count": 7,
   "id": "d4b6635b",
   "metadata": {},
   "outputs": [],
   "source": [
    "fd_write = open('Data1.txt','a')\n",
    "\n",
    "fd_write.write(txt)\n",
    "\n",
    "fd_write.close()"
   ]
  },
  {
   "cell_type": "code",
   "execution_count": null,
   "id": "7ad74834",
   "metadata": {},
   "outputs": [],
   "source": []
  }
 ],
 "metadata": {
  "kernelspec": {
   "display_name": "Python 3 (ipykernel)",
   "language": "python",
   "name": "python3"
  },
  "language_info": {
   "codemirror_mode": {
    "name": "ipython",
    "version": 3
   },
   "file_extension": ".py",
   "mimetype": "text/x-python",
   "name": "python",
   "nbconvert_exporter": "python",
   "pygments_lexer": "ipython3",
   "version": "3.9.13"
  }
 },
 "nbformat": 4,
 "nbformat_minor": 5
}
