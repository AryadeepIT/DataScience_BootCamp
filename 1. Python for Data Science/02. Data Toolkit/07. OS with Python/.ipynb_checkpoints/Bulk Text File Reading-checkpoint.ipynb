{
 "cells": [
  {
   "cell_type": "code",
   "execution_count": 1,
   "id": "00b762d6",
   "metadata": {},
   "outputs": [],
   "source": [
    "import os"
   ]
  },
  {
   "cell_type": "code",
   "execution_count": 2,
   "id": "c46b8e90",
   "metadata": {},
   "outputs": [],
   "source": [
    "files = os.listdir('Files')"
   ]
  },
  {
   "cell_type": "code",
   "execution_count": 3,
   "id": "5eb2c554",
   "metadata": {},
   "outputs": [
    {
     "name": "stdout",
     "output_type": "stream",
     "text": [
      "['File 1 - Copy (10).txt', 'File 1 - Copy (11).txt', 'File 1 - Copy (12).txt', 'File 1 - Copy (13).txt', 'File 1 - Copy (14).txt', 'File 1 - Copy (15).txt', 'File 1 - Copy (16).txt', 'File 1 - Copy (17).txt', 'File 1 - Copy (18).txt', 'File 1 - Copy (19).txt', 'File 1 - Copy (2).txt', 'File 1 - Copy (20).txt', 'File 1 - Copy (21).txt', 'File 1 - Copy (22).txt', 'File 1 - Copy (23).txt', 'File 1 - Copy (24).txt', 'File 1 - Copy (25).txt', 'File 1 - Copy (26).txt', 'File 1 - Copy (27).txt', 'File 1 - Copy (3).txt', 'File 1 - Copy (4).txt', 'File 1 - Copy (5).txt', 'File 1 - Copy (6).txt', 'File 1 - Copy (7).txt', 'File 1 - Copy (8).txt', 'File 1 - Copy (9).txt', 'File 1 - Copy.txt', 'File 1.txt', 'File 2 - Copy (10).txt', 'File 2 - Copy (11).txt', 'File 2 - Copy (12).txt', 'File 2 - Copy (13).txt', 'File 2 - Copy (14).txt', 'File 2 - Copy (15).txt', 'File 2 - Copy (16).txt', 'File 2 - Copy (17).txt', 'File 2 - Copy (18).txt', 'File 2 - Copy (19).txt', 'File 2 - Copy (2).txt', 'File 2 - Copy (20).txt', 'File 2 - Copy (21).txt', 'File 2 - Copy (22).txt', 'File 2 - Copy (23).txt', 'File 2 - Copy (24).txt', 'File 2 - Copy (25).txt', 'File 2 - Copy (26).txt', 'File 2 - Copy (27).txt', 'File 2 - Copy (3).txt', 'File 2 - Copy (4).txt', 'File 2 - Copy (5).txt', 'File 2 - Copy (6).txt', 'File 2 - Copy (7).txt', 'File 2 - Copy (8).txt', 'File 2 - Copy (9).txt', 'File 2 - Copy.txt', 'File 2.txt', 'File 3 - Copy (10).txt', 'File 3 - Copy (11).txt', 'File 3 - Copy (12).txt', 'File 3 - Copy (13).txt', 'File 3 - Copy (14).txt', 'File 3 - Copy (15).txt', 'File 3 - Copy (16).txt', 'File 3 - Copy (17).txt', 'File 3 - Copy (18).txt', 'File 3 - Copy (19).txt', 'File 3 - Copy (2).txt', 'File 3 - Copy (20).txt', 'File 3 - Copy (21).txt', 'File 3 - Copy (22).txt', 'File 3 - Copy (23).txt', 'File 3 - Copy (24).txt', 'File 3 - Copy (25).txt', 'File 3 - Copy (26).txt', 'File 3 - Copy (27).txt', 'File 3 - Copy (3).txt', 'File 3 - Copy (4).txt', 'File 3 - Copy (5).txt', 'File 3 - Copy (6).txt', 'File 3 - Copy (7).txt', 'File 3 - Copy (8).txt', 'File 3 - Copy (9).txt', 'File 3 - Copy.txt', 'File 3.txt']\n"
     ]
    }
   ],
   "source": [
    "print(files)"
   ]
  },
  {
   "cell_type": "code",
   "execution_count": 4,
   "id": "93cb9235",
   "metadata": {},
   "outputs": [
    {
     "data": {
      "text/plain": [
       "84"
      ]
     },
     "execution_count": 4,
     "metadata": {},
     "output_type": "execute_result"
    }
   ],
   "source": [
    "len(files)"
   ]
  },
  {
   "cell_type": "code",
   "execution_count": 5,
   "id": "5b0c89ae",
   "metadata": {},
   "outputs": [
    {
     "data": {
      "text/plain": [
       "list"
      ]
     },
     "execution_count": 5,
     "metadata": {},
     "output_type": "execute_result"
    }
   ],
   "source": [
    "type(files)"
   ]
  },
  {
   "cell_type": "code",
   "execution_count": 6,
   "id": "2121e71b",
   "metadata": {},
   "outputs": [
    {
     "name": "stdout",
     "output_type": "stream",
     "text": [
      "File 1 - Copy (10).txt\n",
      "File 1 - Copy (11).txt\n",
      "File 1 - Copy (12).txt\n",
      "File 1 - Copy (13).txt\n",
      "File 1 - Copy (14).txt\n",
      "File 1 - Copy (15).txt\n",
      "File 1 - Copy (16).txt\n",
      "File 1 - Copy (17).txt\n",
      "File 1 - Copy (18).txt\n",
      "File 1 - Copy (19).txt\n",
      "File 1 - Copy (2).txt\n",
      "File 1 - Copy (20).txt\n",
      "File 1 - Copy (21).txt\n",
      "File 1 - Copy (22).txt\n",
      "File 1 - Copy (23).txt\n",
      "File 1 - Copy (24).txt\n",
      "File 1 - Copy (25).txt\n",
      "File 1 - Copy (26).txt\n",
      "File 1 - Copy (27).txt\n",
      "File 1 - Copy (3).txt\n",
      "File 1 - Copy (4).txt\n",
      "File 1 - Copy (5).txt\n",
      "File 1 - Copy (6).txt\n",
      "File 1 - Copy (7).txt\n",
      "File 1 - Copy (8).txt\n",
      "File 1 - Copy (9).txt\n",
      "File 1 - Copy.txt\n",
      "File 1.txt\n",
      "File 2 - Copy (10).txt\n",
      "File 2 - Copy (11).txt\n",
      "File 2 - Copy (12).txt\n",
      "File 2 - Copy (13).txt\n",
      "File 2 - Copy (14).txt\n",
      "File 2 - Copy (15).txt\n",
      "File 2 - Copy (16).txt\n",
      "File 2 - Copy (17).txt\n",
      "File 2 - Copy (18).txt\n",
      "File 2 - Copy (19).txt\n",
      "File 2 - Copy (2).txt\n",
      "File 2 - Copy (20).txt\n",
      "File 2 - Copy (21).txt\n",
      "File 2 - Copy (22).txt\n",
      "File 2 - Copy (23).txt\n",
      "File 2 - Copy (24).txt\n",
      "File 2 - Copy (25).txt\n",
      "File 2 - Copy (26).txt\n",
      "File 2 - Copy (27).txt\n",
      "File 2 - Copy (3).txt\n",
      "File 2 - Copy (4).txt\n",
      "File 2 - Copy (5).txt\n",
      "File 2 - Copy (6).txt\n",
      "File 2 - Copy (7).txt\n",
      "File 2 - Copy (8).txt\n",
      "File 2 - Copy (9).txt\n",
      "File 2 - Copy.txt\n",
      "File 2.txt\n",
      "File 3 - Copy (10).txt\n",
      "File 3 - Copy (11).txt\n",
      "File 3 - Copy (12).txt\n",
      "File 3 - Copy (13).txt\n",
      "File 3 - Copy (14).txt\n",
      "File 3 - Copy (15).txt\n",
      "File 3 - Copy (16).txt\n",
      "File 3 - Copy (17).txt\n",
      "File 3 - Copy (18).txt\n",
      "File 3 - Copy (19).txt\n",
      "File 3 - Copy (2).txt\n",
      "File 3 - Copy (20).txt\n",
      "File 3 - Copy (21).txt\n",
      "File 3 - Copy (22).txt\n",
      "File 3 - Copy (23).txt\n",
      "File 3 - Copy (24).txt\n",
      "File 3 - Copy (25).txt\n",
      "File 3 - Copy (26).txt\n",
      "File 3 - Copy (27).txt\n",
      "File 3 - Copy (3).txt\n",
      "File 3 - Copy (4).txt\n",
      "File 3 - Copy (5).txt\n",
      "File 3 - Copy (6).txt\n",
      "File 3 - Copy (7).txt\n",
      "File 3 - Copy (8).txt\n",
      "File 3 - Copy (9).txt\n",
      "File 3 - Copy.txt\n",
      "File 3.txt\n"
     ]
    }
   ],
   "source": [
    "for i in files:\n",
    "    print(i)"
   ]
  },
  {
   "cell_type": "code",
   "execution_count": 7,
   "id": "731fbae9",
   "metadata": {},
   "outputs": [
    {
     "name": "stdout",
     "output_type": "stream",
     "text": [
      "This is File 1\n"
     ]
    }
   ],
   "source": [
    "fd = open('Files/File 1.txt', 'r')\n",
    "print(fd.read())\n",
    "fd.close()"
   ]
  },
  {
   "cell_type": "code",
   "execution_count": 8,
   "id": "e1571b2b",
   "metadata": {},
   "outputs": [
    {
     "name": "stdout",
     "output_type": "stream",
     "text": [
      "This is File 1\n",
      "This is File 1\n",
      "This is File 1\n",
      "This is File 1\n",
      "This is File 1\n",
      "This is File 1\n",
      "This is File 1\n",
      "This is File 1\n",
      "This is File 1\n",
      "This is File 1\n",
      "This is File 1\n",
      "This is File 1\n",
      "This is File 1\n",
      "This is File 1\n",
      "This is File 1\n",
      "This is File 1\n",
      "This is File 1\n",
      "This is File 1\n",
      "This is File 1\n",
      "This is File 1\n",
      "This is File 1\n",
      "This is File 1\n",
      "This is File 1\n",
      "This is File 1\n",
      "This is File 1\n",
      "This is File 1\n",
      "This is File 1\n",
      "This is File 1\n",
      "This is File 2\n",
      "This is File 2\n",
      "This is File 2\n",
      "This is File 2\n",
      "This is File 2\n",
      "This is File 2\n",
      "This is File 2\n",
      "This is File 2\n",
      "This is File 2\n",
      "This is File 2\n",
      "This is File 2\n",
      "This is File 2\n",
      "This is File 2\n",
      "This is File 2\n",
      "This is File 2\n",
      "This is File 2\n",
      "This is File 2\n",
      "This is File 2\n",
      "This is File 2\n",
      "This is File 2\n",
      "This is File 2\n",
      "This is File 2\n",
      "This is File 2\n",
      "This is File 2\n",
      "This is File 2\n",
      "This is File 2\n",
      "This is File 2\n",
      "This is File 2\n",
      "This is File 3\n",
      "This is File 3\n",
      "This is File 3\n",
      "This is File 3\n",
      "This is File 3\n",
      "This is File 3\n",
      "This is File 3\n",
      "This is File 3\n",
      "This is File 3\n",
      "This is File 3\n",
      "This is File 3\n",
      "This is File 3\n",
      "This is File 3\n",
      "This is File 3\n",
      "This is File 3\n",
      "This is File 3\n",
      "This is File 3\n",
      "This is File 3\n",
      "This is File 3\n",
      "This is File 3\n",
      "This is File 3\n",
      "This is File 3\n",
      "This is File 3\n",
      "This is File 3\n",
      "This is File 3\n",
      "This is File 3\n",
      "This is File 3\n",
      "This is File 3\n"
     ]
    }
   ],
   "source": [
    "for i in files:\n",
    "    fd = open('Files/' + i, 'r')\n",
    "    print(fd.read())\n",
    "    fd.close()"
   ]
  },
  {
   "cell_type": "code",
   "execution_count": null,
   "id": "2d8db5d3",
   "metadata": {},
   "outputs": [],
   "source": []
  }
 ],
 "metadata": {
  "kernelspec": {
   "display_name": "Python 3 (ipykernel)",
   "language": "python",
   "name": "python3"
  },
  "language_info": {
   "codemirror_mode": {
    "name": "ipython",
    "version": 3
   },
   "file_extension": ".py",
   "mimetype": "text/x-python",
   "name": "python",
   "nbconvert_exporter": "python",
   "pygments_lexer": "ipython3",
   "version": "3.9.13"
  }
 },
 "nbformat": 4,
 "nbformat_minor": 5
}
