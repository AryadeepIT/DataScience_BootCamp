{
 "cells": [
  {
   "cell_type": "code",
   "execution_count": 1,
   "id": "212ee752",
   "metadata": {},
   "outputs": [],
   "source": [
    "import os # importing os liabrary"
   ]
  },
  {
   "cell_type": "code",
   "execution_count": 2,
   "id": "6db67ef7",
   "metadata": {},
   "outputs": [
    {
     "data": {
      "text/plain": [
       "'D:\\\\DATA... Everywhere!\\\\1. Python for Data Science\\\\02. Data Toolkit\\\\07. OS with Python'"
      ]
     },
     "execution_count": 2,
     "metadata": {},
     "output_type": "execute_result"
    }
   ],
   "source": [
    "os.getcwd()  # current/present working directory"
   ]
  },
  {
   "cell_type": "code",
   "execution_count": 3,
   "id": "7705622c",
   "metadata": {},
   "outputs": [
    {
     "data": {
      "text/plain": [
       "'D:\\\\DATA... Everywhere!\\\\1. Python for Data Science\\\\02. Data Toolkit\\\\07. OS with Python'"
      ]
     },
     "execution_count": 3,
     "metadata": {},
     "output_type": "execute_result"
    }
   ],
   "source": [
    "pwd   # present working directory using terminal command"
   ]
  },
  {
   "cell_type": "code",
   "execution_count": null,
   "id": "129105a0",
   "metadata": {},
   "outputs": [],
   "source": [
    "ls # command to view available file"
   ]
  },
  {
   "cell_type": "code",
   "execution_count": 8,
   "id": "9532fe56",
   "metadata": {},
   "outputs": [],
   "source": [
    "# to copy - linux/mac - cp, windows - copy ; to move - linux/mac - mv, windows - move"
   ]
  },
  {
   "cell_type": "code",
   "execution_count": 9,
   "id": "8682efe4",
   "metadata": {},
   "outputs": [],
   "source": [
    "# to go to the inside directory/ change directory\n",
    "os.chdir(\"Hello\")"
   ]
  },
  {
   "cell_type": "code",
   "execution_count": 10,
   "id": "2ceab6d1",
   "metadata": {},
   "outputs": [
    {
     "data": {
      "text/plain": [
       "'D:\\\\DATA... Everywhere!\\\\1. Python for Data Science\\\\02. Data Toolkit\\\\07. OS with Python\\\\Hello'"
      ]
     },
     "execution_count": 10,
     "metadata": {},
     "output_type": "execute_result"
    }
   ],
   "source": [
    "# present working directory\n",
    "os.getcwd()"
   ]
  },
  {
   "cell_type": "code",
   "execution_count": 11,
   "id": "6658c292",
   "metadata": {},
   "outputs": [
    {
     "name": "stdout",
     "output_type": "stream",
     "text": [
      "[WinError 2] The system cannot find the file specified: '.. # to go back in directory'\n",
      "D:\\DATA... Everywhere!\\1. Python for Data Science\\02. Data Toolkit\\07. OS with Python\n"
     ]
    }
   ],
   "source": [
    "cd ..  # to go back in directory(linux/mac)"
   ]
  },
  {
   "cell_type": "code",
   "execution_count": 12,
   "id": "763f0ac4",
   "metadata": {},
   "outputs": [],
   "source": [
    "# change directory using python code\n",
    "os.chdir(\"D:\\\\DATA... Everywhere!\\\\1. Python for Data Science\\\\02. Data Toolkit\\\\07. OS with Python\")"
   ]
  },
  {
   "cell_type": "code",
   "execution_count": 13,
   "id": "1bf53e1d",
   "metadata": {},
   "outputs": [],
   "source": [
    "# to create directory\n",
    "os.mkdir(\"Aryadeep\")"
   ]
  },
  {
   "cell_type": "code",
   "execution_count": 14,
   "id": "95411dff",
   "metadata": {},
   "outputs": [],
   "source": [
    "# Hierercial directory structure\n",
    "os.makedirs(\"Hi/Hello/How\")"
   ]
  },
  {
   "cell_type": "code",
   "execution_count": 15,
   "id": "d1708a2f",
   "metadata": {},
   "outputs": [
    {
     "data": {
      "text/plain": [
       "'Hi\\\\How'"
      ]
     },
     "execution_count": 15,
     "metadata": {},
     "output_type": "execute_result"
    }
   ],
   "source": [
    "# command to join paths\n",
    "os.path.join(\"Hi\",\"How\")"
   ]
  },
  {
   "cell_type": "code",
   "execution_count": 16,
   "id": "d38b0f5e",
   "metadata": {},
   "outputs": [
    {
     "data": {
      "text/plain": [
       "'Hi/How'"
      ]
     },
     "execution_count": 16,
     "metadata": {},
     "output_type": "execute_result"
    }
   ],
   "source": [
    "# code to do this\n",
    "a = \"Hi\"\n",
    "b = \"How\"\n",
    "a + \"/\" +b"
   ]
  }
 ],
 "metadata": {
  "kernelspec": {
   "display_name": "Python 3 (ipykernel)",
   "language": "python",
   "name": "python3"
  },
  "language_info": {
   "codemirror_mode": {
    "name": "ipython",
    "version": 3
   },
   "file_extension": ".py",
   "mimetype": "text/x-python",
   "name": "python",
   "nbconvert_exporter": "python",
   "pygments_lexer": "ipython3",
   "version": "3.9.13"
  }
 },
 "nbformat": 4,
 "nbformat_minor": 5
}
