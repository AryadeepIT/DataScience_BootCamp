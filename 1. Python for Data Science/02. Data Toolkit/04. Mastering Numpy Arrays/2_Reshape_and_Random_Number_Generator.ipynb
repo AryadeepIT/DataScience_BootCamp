{
  "nbformat": 4,
  "nbformat_minor": 0,
  "metadata": {
    "colab": {
      "provenance": []
    },
    "kernelspec": {
      "name": "python3",
      "display_name": "Python 3"
    },
    "language_info": {
      "name": "python"
    }
  },
  "cells": [
    {
      "cell_type": "code",
      "execution_count": 1,
      "metadata": {
        "id": "XHQmMgLnTzSA"
      },
      "outputs": [],
      "source": [
        "import numpy as np"
      ]
    },
    {
      "cell_type": "code",
      "source": [
        "# To generate random number from range(0-1)\n",
        "np.random.random((3, 3))"
      ],
      "metadata": {
        "colab": {
          "base_uri": "https://localhost:8080/"
        },
        "id": "IhLKBb9wUBIX",
        "outputId": "ee1a331b-69b5-4082-c62d-3f4c48b3ce79"
      },
      "execution_count": 2,
      "outputs": [
        {
          "output_type": "execute_result",
          "data": {
            "text/plain": [
              "array([[0.3979464 , 0.58962062, 0.06129038],\n",
              "       [0.79210026, 0.89399671, 0.06766352],\n",
              "       [0.07989568, 0.35841053, 0.40369343]])"
            ]
          },
          "metadata": {},
          "execution_count": 2
        }
      ]
    },
    {
      "cell_type": "code",
      "source": [
        "np.random.random((3, 3))  # completely random numbers generated from range(0-1)"
      ],
      "metadata": {
        "colab": {
          "base_uri": "https://localhost:8080/"
        },
        "id": "JmB85VQYURk9",
        "outputId": "32c2d792-0a56-4716-fee4-ff3d275fecbe"
      },
      "execution_count": 3,
      "outputs": [
        {
          "output_type": "execute_result",
          "data": {
            "text/plain": [
              "array([[0.10747477, 0.43123806, 0.31901636],\n",
              "       [0.69255654, 0.48076737, 0.79047621],\n",
              "       [0.58950799, 0.59577829, 0.78077478]])"
            ]
          },
          "metadata": {},
          "execution_count": 3
        }
      ]
    },
    {
      "cell_type": "code",
      "source": [
        "np.random.random()"
      ],
      "metadata": {
        "colab": {
          "base_uri": "https://localhost:8080/"
        },
        "id": "xGhph-RHUUVc",
        "outputId": "bd78b7d7-2e5c-41ef-cda4-6995b44e0c50"
      },
      "execution_count": 4,
      "outputs": [
        {
          "output_type": "execute_result",
          "data": {
            "text/plain": [
              "0.09932298459341027"
            ]
          },
          "metadata": {},
          "execution_count": 4
        }
      ]
    },
    {
      "cell_type": "code",
      "source": [
        "if np.random.random() > 0.5:\n",
        "  print(\"Run the function\")\n",
        "else:\n",
        "  print(\"Don't run the function\")"
      ],
      "metadata": {
        "colab": {
          "base_uri": "https://localhost:8080/"
        },
        "id": "M5oKRQfduCQX",
        "outputId": "6b115f2e-507c-494a-f9ac-ed971f2abd46"
      },
      "execution_count": 7,
      "outputs": [
        {
          "output_type": "stream",
          "name": "stdout",
          "text": [
            "Run the function\n"
          ]
        }
      ]
    },
    {
      "cell_type": "code",
      "source": [
        "np.arange(1, 10, 1)    # start-1 end-10 difference-1"
      ],
      "metadata": {
        "colab": {
          "base_uri": "https://localhost:8080/"
        },
        "id": "PYg537CzuXUX",
        "outputId": "29b5f561-2813-4707-9392-a14b8a5a3ab9"
      },
      "execution_count": 8,
      "outputs": [
        {
          "output_type": "execute_result",
          "data": {
            "text/plain": [
              "array([1, 2, 3, 4, 5, 6, 7, 8, 9])"
            ]
          },
          "metadata": {},
          "execution_count": 8
        }
      ]
    },
    {
      "cell_type": "code",
      "source": [
        "np.arange(1, 10, 3)"
      ],
      "metadata": {
        "colab": {
          "base_uri": "https://localhost:8080/"
        },
        "id": "rmHcyJqQusIJ",
        "outputId": "933d7910-12c9-45db-c134-d0ac4d97ccf0"
      },
      "execution_count": 9,
      "outputs": [
        {
          "output_type": "execute_result",
          "data": {
            "text/plain": [
              "array([1, 4, 7])"
            ]
          },
          "metadata": {},
          "execution_count": 9
        }
      ]
    },
    {
      "cell_type": "code",
      "source": [
        "np.linspace(1, 10, 10)     # start,end,how_many_values_I_want_in_between"
      ],
      "metadata": {
        "colab": {
          "base_uri": "https://localhost:8080/"
        },
        "id": "gJcZVncMu343",
        "outputId": "a7af1487-d327-4c6d-c51c-a88ace02d051"
      },
      "execution_count": 10,
      "outputs": [
        {
          "output_type": "execute_result",
          "data": {
            "text/plain": [
              "array([ 1.,  2.,  3.,  4.,  5.,  6.,  7.,  8.,  9., 10.])"
            ]
          },
          "metadata": {},
          "execution_count": 10
        }
      ]
    },
    {
      "cell_type": "code",
      "source": [
        "np.linspace(1, 7, 10)   # i need value from (1-7) but 10 values (equivalance distance)"
      ],
      "metadata": {
        "colab": {
          "base_uri": "https://localhost:8080/"
        },
        "id": "oGsdqg40vMmX",
        "outputId": "77b7dedf-09db-44d6-d8be-a15e4d0d8904"
      },
      "execution_count": 11,
      "outputs": [
        {
          "output_type": "execute_result",
          "data": {
            "text/plain": [
              "array([1.        , 1.66666667, 2.33333333, 3.        , 3.66666667,\n",
              "       4.33333333, 5.        , 5.66666667, 6.33333333, 7.        ])"
            ]
          },
          "metadata": {},
          "execution_count": 11
        }
      ]
    },
    {
      "cell_type": "code",
      "source": [
        "arr = np.random.random((4, 3))   # 4 x 3 = 12\n",
        "arr"
      ],
      "metadata": {
        "colab": {
          "base_uri": "https://localhost:8080/"
        },
        "id": "nVZpgP3nvfUW",
        "outputId": "4bff3478-de3c-4d2b-bc07-1d153665bcaa"
      },
      "execution_count": 12,
      "outputs": [
        {
          "output_type": "execute_result",
          "data": {
            "text/plain": [
              "array([[0.9010809 , 0.80755237, 0.61592281],\n",
              "       [0.39173043, 0.94577497, 0.06416171],\n",
              "       [0.97784655, 0.32522893, 0.60646283],\n",
              "       [0.99701233, 0.46352538, 0.55290252]])"
            ]
          },
          "metadata": {},
          "execution_count": 12
        }
      ]
    },
    {
      "cell_type": "code",
      "source": [
        "# to reshape the array\n",
        "arr = np.reshape(arr, (3, 4))   # source, reshape to that format   # 3 x 4 = 12\n",
        "arr"
      ],
      "metadata": {
        "colab": {
          "base_uri": "https://localhost:8080/"
        },
        "id": "lp20W60WwAzH",
        "outputId": "30d4388e-11b4-4412-8368-bd121c64ce50"
      },
      "execution_count": 13,
      "outputs": [
        {
          "output_type": "execute_result",
          "data": {
            "text/plain": [
              "array([[0.9010809 , 0.80755237, 0.61592281, 0.39173043],\n",
              "       [0.94577497, 0.06416171, 0.97784655, 0.32522893],\n",
              "       [0.60646283, 0.99701233, 0.46352538, 0.55290252]])"
            ]
          },
          "metadata": {},
          "execution_count": 13
        }
      ]
    },
    {
      "cell_type": "code",
      "source": [
        "arr = np.reshape(arr, (6,2))  # 6 x 2 = 12, shape must be the same in multiply\n",
        "arr"
      ],
      "metadata": {
        "colab": {
          "base_uri": "https://localhost:8080/"
        },
        "id": "4AviCYwnwRLn",
        "outputId": "6cb4bff8-0d3c-4cb0-e296-096b9340d739"
      },
      "execution_count": 14,
      "outputs": [
        {
          "output_type": "execute_result",
          "data": {
            "text/plain": [
              "array([[0.9010809 , 0.80755237],\n",
              "       [0.61592281, 0.39173043],\n",
              "       [0.94577497, 0.06416171],\n",
              "       [0.97784655, 0.32522893],\n",
              "       [0.60646283, 0.99701233],\n",
              "       [0.46352538, 0.55290252]])"
            ]
          },
          "metadata": {},
          "execution_count": 14
        }
      ]
    },
    {
      "cell_type": "code",
      "source": [
        "# flatten an array\n",
        "arr.flatten()   # 2 dimensional array converted to 1 dimension"
      ],
      "metadata": {
        "colab": {
          "base_uri": "https://localhost:8080/"
        },
        "id": "VkBJH5NvwtlG",
        "outputId": "5b778eac-61f1-4e78-a00b-b762ad96ee37"
      },
      "execution_count": 15,
      "outputs": [
        {
          "output_type": "execute_result",
          "data": {
            "text/plain": [
              "array([0.9010809 , 0.80755237, 0.61592281, 0.39173043, 0.94577497,\n",
              "       0.06416171, 0.97784655, 0.32522893, 0.60646283, 0.99701233,\n",
              "       0.46352538, 0.55290252])"
            ]
          },
          "metadata": {},
          "execution_count": 15
        }
      ]
    },
    {
      "cell_type": "code",
      "source": [],
      "metadata": {
        "id": "bZEy4U6bw3D3"
      },
      "execution_count": null,
      "outputs": []
    }
  ]
}